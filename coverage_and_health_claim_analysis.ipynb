{
 "cells": [
  {
   "cell_type": "markdown",
   "id": "cb8b7d3d-51a2-4f3a-9fb7-6d6413883642",
   "metadata": {},
   "source": [
    "MSc Data Science Thesis code. \\\n",
    "Predicting the probability of critical illness insurance claims as a form of noncommunicable disease management. \\\n",
    "This is the second of two notebooks demonstrating the application of the proposed approach. \\\n",
    "Details of the proposed approach can be found in the proposed_methodology.py script. \\\n",
    "In this notebook, critical illness claims are modelled using critical illness insurance coverage information, client demographic information, and health claims from clients' health insurance."
   ]
  },
  {
   "cell_type": "markdown",
   "id": "3b9458bf-63d8-4d96-9375-7cf6f0fb77ea",
   "metadata": {},
   "source": [
    "# Project Set up"
   ]
  },
  {
   "cell_type": "code",
   "execution_count": 1,
   "id": "c1633d70-360a-4d6d-9ebb-6c8766e38b11",
   "metadata": {},
   "outputs": [],
   "source": [
    "%load_ext autoreload\n",
    "%autoreload 1"
   ]
  },
  {
   "cell_type": "code",
   "execution_count": 2,
   "id": "bec9beb7-3036-4397-8b79-46bde281003f",
   "metadata": {
    "tags": []
   },
   "outputs": [],
   "source": [
    "import pandas as pd\n",
    "import numpy as np\n",
    "import seaborn as sns\n",
    "import matplotlib.pyplot as plt\n",
    "import time\n",
    "from dateutil.relativedelta import relativedelta\n",
    "from scipy.stats import randint, loguniform, uniform"
   ]
  },
  {
   "cell_type": "code",
   "execution_count": 3,
   "id": "82d543ea-fbe9-446f-a04f-60709d47d0c6",
   "metadata": {},
   "outputs": [],
   "source": [
    "from sklearn.linear_model import LogisticRegression\n",
    "from sklearn.neural_network import MLPClassifier\n",
    "from sklearn.ensemble import RandomForestClassifier\n",
    "from sklearn.svm import SVC\n",
    "from xgboost import XGBClassifier"
   ]
  },
  {
   "cell_type": "code",
   "execution_count": 4,
   "id": "99a0a629-8bb7-4c41-abf3-77e7425aadde",
   "metadata": {
    "tags": []
   },
   "outputs": [],
   "source": [
    "from proposed_methodology import ProposedMethodology\n",
    "from create_data_partitions import create_train_test, create_claim_train_test"
   ]
  },
  {
   "cell_type": "code",
   "execution_count": 5,
   "id": "6ffd7416-c1fc-4081-98b7-b17a343e7239",
   "metadata": {},
   "outputs": [],
   "source": [
    "%aimport proposed_methodology, create_data_partitions"
   ]
  },
  {
   "cell_type": "code",
   "execution_count": 6,
   "id": "d83321f7-a6e7-4dbd-9a18-67b92b3c49a4",
   "metadata": {},
   "outputs": [],
   "source": [
    "sns.set()"
   ]
  },
  {
   "cell_type": "code",
   "execution_count": 7,
   "id": "5e161732-ad90-44cf-9c2a-c6bd0bdfb375",
   "metadata": {
    "tags": []
   },
   "outputs": [],
   "source": [
    "pd.set_option('display.max_rows', None)\n",
    "pd.set_option('display.max_columns', 100)\n",
    "pd.set_option('display.width', 1000)\n",
    "pd.set_option('display.float_format', '{:.3}'.format)"
   ]
  },
  {
   "cell_type": "code",
   "execution_count": 8,
   "id": "4e4ccb81-75e3-4360-aa36-46b9eeb2bd43",
   "metadata": {
    "tags": []
   },
   "outputs": [
    {
     "data": {
      "text/plain": [
       "'2.2.3'"
      ]
     },
     "execution_count": 8,
     "metadata": {},
     "output_type": "execute_result"
    }
   ],
   "source": [
    "pd.__version__"
   ]
  },
  {
   "cell_type": "markdown",
   "id": "e4050c58-20e6-4d48-9b83-8f1369f9a199",
   "metadata": {},
   "source": [
    "# Load Dataset"
   ]
  },
  {
   "cell_type": "markdown",
   "id": "0c1bb0f9-7dbe-4263-938d-c53519539c18",
   "metadata": {},
   "source": [
    "## Claims"
   ]
  },
  {
   "cell_type": "code",
   "execution_count": 9,
   "id": "a12defab-1089-408c-9a8b-17de7d7bcaf9",
   "metadata": {
    "tags": []
   },
   "outputs": [],
   "source": [
    "claims = pd.read_csv('DATA/HEALTH_CLAIMS.csv')"
   ]
  },
  {
   "cell_type": "code",
   "execution_count": 10,
   "id": "853c2154-3b60-4b11-b71b-d7c470d705cd",
   "metadata": {},
   "outputs": [],
   "source": [
    "#Some columns of the dataset are private\n",
    "display_cols_claims = ['CLAIM_ID', 'CLAIM_PROCEDURE_ID', 'PROCEDURE_CODE', 'PROCEDURE_GROUP', \n",
    "                       'CLAIM_DIAGNOSIS_ID', 'DIAGNOSIS_CODE', 'DIAGNOSIS_GROUP', \n",
    "                       'CHARGES', 'CLAIM_LENGTH', 'PROCEDURE_LENGTH', 'EOB_CATEGORY', 'STATUS', 'PROCEDURE_STATUS', 'CLAIM_DT']"
   ]
  },
  {
   "cell_type": "code",
   "execution_count": 11,
   "id": "fc3926bc-9ce2-4c52-ad66-fa0a6d0b631b",
   "metadata": {
    "tags": []
   },
   "outputs": [
    {
     "data": {
      "text/html": [
       "<div>\n",
       "<style scoped>\n",
       "    .dataframe tbody tr th:only-of-type {\n",
       "        vertical-align: middle;\n",
       "    }\n",
       "\n",
       "    .dataframe tbody tr th {\n",
       "        vertical-align: top;\n",
       "    }\n",
       "\n",
       "    .dataframe thead th {\n",
       "        text-align: right;\n",
       "    }\n",
       "</style>\n",
       "<table border=\"1\" class=\"dataframe\">\n",
       "  <thead>\n",
       "    <tr style=\"text-align: right;\">\n",
       "      <th></th>\n",
       "      <th>CLAIM_ID</th>\n",
       "      <th>CLAIM_PROCEDURE_ID</th>\n",
       "      <th>PROCEDURE_CODE</th>\n",
       "      <th>PROCEDURE_GROUP</th>\n",
       "      <th>CLAIM_DIAGNOSIS_ID</th>\n",
       "      <th>DIAGNOSIS_CODE</th>\n",
       "      <th>DIAGNOSIS_GROUP</th>\n",
       "      <th>CHARGES</th>\n",
       "      <th>CLAIM_LENGTH</th>\n",
       "      <th>PROCEDURE_LENGTH</th>\n",
       "      <th>EOB_CATEGORY</th>\n",
       "      <th>STATUS</th>\n",
       "      <th>PROCEDURE_STATUS</th>\n",
       "      <th>CLAIM_DT</th>\n",
       "    </tr>\n",
       "  </thead>\n",
       "  <tbody>\n",
       "    <tr>\n",
       "      <th>0</th>\n",
       "      <td>2525285</td>\n",
       "      <td>5642243</td>\n",
       "      <td>D1110</td>\n",
       "      <td>DENTAL</td>\n",
       "      <td>3120020</td>\n",
       "      <td>Z01.20</td>\n",
       "      <td>DENTAL</td>\n",
       "      <td>4.8e+02</td>\n",
       "      <td>0.0</td>\n",
       "      <td>0</td>\n",
       "      <td>4_PASS</td>\n",
       "      <td>CLOSED</td>\n",
       "      <td>APP</td>\n",
       "      <td>2021-12-10</td>\n",
       "    </tr>\n",
       "    <tr>\n",
       "      <th>1</th>\n",
       "      <td>2525285</td>\n",
       "      <td>5642242</td>\n",
       "      <td>D0120</td>\n",
       "      <td>DENTAL</td>\n",
       "      <td>3120020</td>\n",
       "      <td>Z01.20</td>\n",
       "      <td>DENTAL</td>\n",
       "      <td>2.3e+02</td>\n",
       "      <td>0.0</td>\n",
       "      <td>0</td>\n",
       "      <td>4_PASS</td>\n",
       "      <td>CLOSED</td>\n",
       "      <td>APP</td>\n",
       "      <td>2021-12-10</td>\n",
       "    </tr>\n",
       "    <tr>\n",
       "      <th>2</th>\n",
       "      <td>2525285</td>\n",
       "      <td>5642244</td>\n",
       "      <td>D0274</td>\n",
       "      <td>DENTAL</td>\n",
       "      <td>3120020</td>\n",
       "      <td>Z01.20</td>\n",
       "      <td>DENTAL</td>\n",
       "      <td>1.8e+02</td>\n",
       "      <td>0.0</td>\n",
       "      <td>0</td>\n",
       "      <td>5_NONE</td>\n",
       "      <td>CLOSED</td>\n",
       "      <td>APP</td>\n",
       "      <td>2021-12-10</td>\n",
       "    </tr>\n",
       "    <tr>\n",
       "      <th>3</th>\n",
       "      <td>1313265</td>\n",
       "      <td>2848966</td>\n",
       "      <td>99201</td>\n",
       "      <td>VISIT</td>\n",
       "      <td>1604812</td>\n",
       "      <td>611.72</td>\n",
       "      <td>CANCER/GROWTH</td>\n",
       "      <td>2.7e+02</td>\n",
       "      <td>0.0</td>\n",
       "      <td>0</td>\n",
       "      <td>4_PASS</td>\n",
       "      <td>CLOSED</td>\n",
       "      <td>DENY</td>\n",
       "      <td>2016-05-23</td>\n",
       "    </tr>\n",
       "    <tr>\n",
       "      <th>4</th>\n",
       "      <td>1313266</td>\n",
       "      <td>2848969</td>\n",
       "      <td>80048</td>\n",
       "      <td>TEST</td>\n",
       "      <td>1604813</td>\n",
       "      <td>611.72</td>\n",
       "      <td>CANCER/GROWTH</td>\n",
       "      <td>5e+02</td>\n",
       "      <td>0.0</td>\n",
       "      <td>0</td>\n",
       "      <td>4_PASS</td>\n",
       "      <td>CLOSED</td>\n",
       "      <td>DENY</td>\n",
       "      <td>2016-05-23</td>\n",
       "    </tr>\n",
       "  </tbody>\n",
       "</table>\n",
       "</div>"
      ],
      "text/plain": [
       "   CLAIM_ID  CLAIM_PROCEDURE_ID PROCEDURE_CODE PROCEDURE_GROUP  CLAIM_DIAGNOSIS_ID DIAGNOSIS_CODE DIAGNOSIS_GROUP  CHARGES  CLAIM_LENGTH  PROCEDURE_LENGTH EOB_CATEGORY  STATUS PROCEDURE_STATUS    CLAIM_DT\n",
       "0   2525285             5642243          D1110          DENTAL             3120020         Z01.20          DENTAL  4.8e+02           0.0                 0       4_PASS  CLOSED              APP  2021-12-10\n",
       "1   2525285             5642242          D0120          DENTAL             3120020         Z01.20          DENTAL  2.3e+02           0.0                 0       4_PASS  CLOSED              APP  2021-12-10\n",
       "2   2525285             5642244          D0274          DENTAL             3120020         Z01.20          DENTAL  1.8e+02           0.0                 0       5_NONE  CLOSED              APP  2021-12-10\n",
       "3   1313265             2848966          99201           VISIT             1604812         611.72   CANCER/GROWTH  2.7e+02           0.0                 0       4_PASS  CLOSED             DENY  2016-05-23\n",
       "4   1313266             2848969          80048            TEST             1604813         611.72   CANCER/GROWTH    5e+02           0.0                 0       4_PASS  CLOSED             DENY  2016-05-23"
      ]
     },
     "execution_count": 11,
     "metadata": {},
     "output_type": "execute_result"
    }
   ],
   "source": [
    "claims.loc[:, display_cols_claims].head()"
   ]
  },
  {
   "cell_type": "code",
   "execution_count": 106,
   "id": "573de7ec-508d-45f5-bb5b-a3336820ad1e",
   "metadata": {
    "tags": []
   },
   "outputs": [
    {
     "name": "stdout",
     "output_type": "stream",
     "text": [
      "Size of dataset:  (158883, 18)\n",
      "Number of unique clients:  2224\n",
      "Number of health claims observed: 68624\n"
     ]
    }
   ],
   "source": [
    "print('Size of dataset: ', claims.shape)\n",
    "print('Number of unique clients: ', claims['MDM_ID'].nunique())\n",
    "print('Number of health claims observed:', claims['CLAIM_ID'].nunique())"
   ]
  },
  {
   "cell_type": "code",
   "execution_count": 13,
   "id": "5a8fa2d1-3ab9-4d15-8888-19eab71714b4",
   "metadata": {
    "tags": []
   },
   "outputs": [],
   "source": [
    "#Convert columns to datetime format\n",
    "#There are other date columns but these are ignored\n",
    "cols = ['CLAIM_DT']\n",
    "for col in cols:\n",
    "    claims.loc[:, col] = pd.to_datetime(claims[col])"
   ]
  },
  {
   "cell_type": "code",
   "execution_count": 14,
   "id": "a2034bfc-ae7e-4fbf-bca7-b2a378fb4028",
   "metadata": {
    "tags": []
   },
   "outputs": [],
   "source": [
    "#Convert columns to appropriate formats, prevent pandas nullable types as these are incompatible with sci-kit\n",
    "claims = claims.convert_dtypes(convert_floating=False, convert_integer=False)"
   ]
  },
  {
   "cell_type": "code",
   "execution_count": 15,
   "id": "6ceda303-fde0-43f9-813a-c6db09f0e233",
   "metadata": {},
   "outputs": [
    {
     "name": "stdout",
     "output_type": "stream",
     "text": [
      "<class 'pandas.core.frame.DataFrame'>\n",
      "RangeIndex: 158883 entries, 0 to 158882\n",
      "Data columns (total 17 columns):\n",
      " #   Column              Non-Null Count   Dtype         \n",
      "---  ------              --------------   -----         \n",
      " 0   CLAIM_ID            158883 non-null  int64         \n",
      " 1   MDM_ID              158883 non-null  int64         \n",
      " 2   CLAIM_PROCEDURE_ID  158883 non-null  int64         \n",
      " 3   PROCEDURE_CODE      158883 non-null  string        \n",
      " 4   PROCEDURE_GROUP     158883 non-null  string        \n",
      " 5   CLAIM_DIAGNOSIS_ID  158883 non-null  int64         \n",
      " 6   DIAGNOSIS_CODE      158883 non-null  string        \n",
      " 7   DIAGNOSIS_GROUP     158883 non-null  string        \n",
      " 8   CHARGES             158883 non-null  float64       \n",
      " 9   CLAIM_LENGTH        158454 non-null  float64       \n",
      " 10  PROCEDURE_LENGTH    158883 non-null  int64         \n",
      " 11  EOB_CATEGORY        158883 non-null  string        \n",
      " 12  STATUS              158883 non-null  string        \n",
      " 13  PROCEDURE_STATUS    158883 non-null  string        \n",
      " 14  CLAIM_DT            158883 non-null  datetime64[ns]\n",
      " 15  ISSUE_DT            158883 non-null  string        \n",
      " 16  TERM_DT             146532 non-null  string        \n",
      "dtypes: datetime64[ns](1), float64(2), int64(5), string(9)\n",
      "memory usage: 20.6 MB\n"
     ]
    }
   ],
   "source": [
    "claims.info()"
   ]
  },
  {
   "cell_type": "markdown",
   "id": "90927b62-8ee4-463e-9565-82e9d7a29a1a",
   "metadata": {},
   "source": [
    "## Coverages"
   ]
  },
  {
   "cell_type": "code",
   "execution_count": 16,
   "id": "86dc20ee-dde3-46f7-89ed-d3b4d207460d",
   "metadata": {
    "tags": []
   },
   "outputs": [],
   "source": [
    "cvg = pd.read_csv('DATA/CI_CVGS.csv')"
   ]
  },
  {
   "cell_type": "code",
   "execution_count": 17,
   "id": "e37e4c5b-83fa-49a0-ab25-817a9d63028e",
   "metadata": {},
   "outputs": [],
   "source": [
    "#Some columns of the dataset are private\n",
    "display_cols_cvg = ['CLAIM', 'START_AGE', 'TENURE', 'MATURITY_AGE', 'TIME_TO_MATURE', \n",
    "                    'SEX_CD', 'SUM_INSURED', 'SMOKER', 'MARITAL_STATUS', 'INCOME', 'YEARS_EMPLOYED']"
   ]
  },
  {
   "cell_type": "code",
   "execution_count": 18,
   "id": "df97eb07-ab98-4406-9b0f-8aa1cf263315",
   "metadata": {
    "tags": []
   },
   "outputs": [
    {
     "data": {
      "text/html": [
       "<div>\n",
       "<style scoped>\n",
       "    .dataframe tbody tr th:only-of-type {\n",
       "        vertical-align: middle;\n",
       "    }\n",
       "\n",
       "    .dataframe tbody tr th {\n",
       "        vertical-align: top;\n",
       "    }\n",
       "\n",
       "    .dataframe thead th {\n",
       "        text-align: right;\n",
       "    }\n",
       "</style>\n",
       "<table border=\"1\" class=\"dataframe\">\n",
       "  <thead>\n",
       "    <tr style=\"text-align: right;\">\n",
       "      <th></th>\n",
       "      <th>CLAIM</th>\n",
       "      <th>START_AGE</th>\n",
       "      <th>TENURE</th>\n",
       "      <th>MATURITY_AGE</th>\n",
       "      <th>TIME_TO_MATURE</th>\n",
       "      <th>SEX_CD</th>\n",
       "      <th>SUM_INSURED</th>\n",
       "      <th>SMOKER</th>\n",
       "      <th>MARITAL_STATUS</th>\n",
       "      <th>INCOME</th>\n",
       "      <th>YEARS_EMPLOYED</th>\n",
       "    </tr>\n",
       "  </thead>\n",
       "  <tbody>\n",
       "    <tr>\n",
       "      <th>0</th>\n",
       "      <td>0</td>\n",
       "      <td>42</td>\n",
       "      <td>149</td>\n",
       "      <td>70</td>\n",
       "      <td>10078</td>\n",
       "      <td>M</td>\n",
       "      <td>1e+05</td>\n",
       "      <td>0</td>\n",
       "      <td>UNKNOWN</td>\n",
       "      <td>5000</td>\n",
       "      <td>13</td>\n",
       "    </tr>\n",
       "    <tr>\n",
       "      <th>1</th>\n",
       "      <td>0</td>\n",
       "      <td>36</td>\n",
       "      <td>303</td>\n",
       "      <td>65</td>\n",
       "      <td>10289</td>\n",
       "      <td>M</td>\n",
       "      <td>1e+05</td>\n",
       "      <td>0</td>\n",
       "      <td>UNKNOWN</td>\n",
       "      <td>12000</td>\n",
       "      <td>1</td>\n",
       "    </tr>\n",
       "    <tr>\n",
       "      <th>2</th>\n",
       "      <td>0</td>\n",
       "      <td>28</td>\n",
       "      <td>918</td>\n",
       "      <td>65</td>\n",
       "      <td>12596</td>\n",
       "      <td>F</td>\n",
       "      <td>1e+06</td>\n",
       "      <td>0</td>\n",
       "      <td>UNKNOWN</td>\n",
       "      <td>0</td>\n",
       "      <td>0</td>\n",
       "    </tr>\n",
       "    <tr>\n",
       "      <th>3</th>\n",
       "      <td>0</td>\n",
       "      <td>33</td>\n",
       "      <td>3291</td>\n",
       "      <td>65</td>\n",
       "      <td>8397</td>\n",
       "      <td>M</td>\n",
       "      <td>2.5e+05</td>\n",
       "      <td>0</td>\n",
       "      <td>MARRIED</td>\n",
       "      <td>1666</td>\n",
       "      <td>6</td>\n",
       "    </tr>\n",
       "    <tr>\n",
       "      <th>4</th>\n",
       "      <td>0</td>\n",
       "      <td>40</td>\n",
       "      <td>728</td>\n",
       "      <td>65</td>\n",
       "      <td>8403</td>\n",
       "      <td>F</td>\n",
       "      <td>2.5e+05</td>\n",
       "      <td>0</td>\n",
       "      <td>MARRIED</td>\n",
       "      <td>8333</td>\n",
       "      <td>10</td>\n",
       "    </tr>\n",
       "  </tbody>\n",
       "</table>\n",
       "</div>"
      ],
      "text/plain": [
       "   CLAIM  START_AGE  TENURE  MATURITY_AGE  TIME_TO_MATURE SEX_CD  SUM_INSURED  SMOKER MARITAL_STATUS  INCOME  YEARS_EMPLOYED\n",
       "0      0         42     149            70           10078      M        1e+05       0        UNKNOWN    5000              13\n",
       "1      0         36     303            65           10289      M        1e+05       0        UNKNOWN   12000               1\n",
       "2      0         28     918            65           12596      F        1e+06       0        UNKNOWN       0               0\n",
       "3      0         33    3291            65            8397      M      2.5e+05       0        MARRIED    1666               6\n",
       "4      0         40     728            65            8403      F      2.5e+05       0        MARRIED    8333              10"
      ]
     },
     "execution_count": 18,
     "metadata": {},
     "output_type": "execute_result"
    }
   ],
   "source": [
    "cvg.loc[:, display_cols_cvg].head()"
   ]
  },
  {
   "cell_type": "code",
   "execution_count": 19,
   "id": "3e93a963-b56b-45ca-b6d5-54cfab2e17d4",
   "metadata": {
    "tags": []
   },
   "outputs": [
    {
     "name": "stdout",
     "output_type": "stream",
     "text": [
      "Size of dataset:  (110402, 18)\n",
      "Number of unique clients:  89510\n",
      "Number of CI claims observed: 2135\n"
     ]
    }
   ],
   "source": [
    "print('Size of dataset: ', cvg.shape)\n",
    "print('Number of unique clients: ', cvg['MDM_ID'].nunique())\n",
    "print('Number of CI claims observed:', cvg['CLAIM'].sum())"
   ]
  },
  {
   "cell_type": "code",
   "execution_count": 20,
   "id": "44705fd0-c28c-4f43-8db0-911bf3432a64",
   "metadata": {
    "tags": []
   },
   "outputs": [],
   "source": [
    "#Convert columns to datetime format\n",
    "cols = ['START_DT', 'END_DT', 'DOB', 'MATURITY_DT']\n",
    "for col in cols:\n",
    "    cvg.loc[:, col] = pd.to_datetime(cvg[col])"
   ]
  },
  {
   "cell_type": "code",
   "execution_count": 21,
   "id": "7be463e0-4e56-428f-ad4b-b7d599ab28ff",
   "metadata": {
    "tags": []
   },
   "outputs": [],
   "source": [
    "#Convert columns to appropriate formats, prevent pandas nullable types as these are incompatible with sci-kit\n",
    "cvg = cvg.convert_dtypes(convert_floating=False, convert_integer=False)"
   ]
  },
  {
   "cell_type": "code",
   "execution_count": 22,
   "id": "02b73bcc-cbad-4363-82cd-5ec2eff563ef",
   "metadata": {},
   "outputs": [
    {
     "name": "stdout",
     "output_type": "stream",
     "text": [
      "<class 'pandas.core.frame.DataFrame'>\n",
      "RangeIndex: 110402 entries, 0 to 110401\n",
      "Data columns (total 18 columns):\n",
      " #   Column          Non-Null Count   Dtype         \n",
      "---  ------          --------------   -----         \n",
      " 0   MDM_ID          110402 non-null  int64         \n",
      " 1   CLI_ID          110402 non-null  int64         \n",
      " 2   CVG_ID          110402 non-null  string        \n",
      " 3   CLAIM           110402 non-null  int64         \n",
      " 4   START_AGE       110402 non-null  int64         \n",
      " 5   TENURE          110402 non-null  int64         \n",
      " 6   START_DT        110402 non-null  datetime64[ns]\n",
      " 7   END_DT          110402 non-null  datetime64[ns]\n",
      " 8   MATURITY_AGE    110402 non-null  int64         \n",
      " 9   MATURITY_DT     110402 non-null  datetime64[ns]\n",
      " 10  TIME_TO_MATURE  110402 non-null  int64         \n",
      " 11  SEX_CD          110402 non-null  string        \n",
      " 12  SUM_INSURED     110402 non-null  float64       \n",
      " 13  SMOKER          110402 non-null  int64         \n",
      " 14  MARITAL_STATUS  110402 non-null  string        \n",
      " 15  INCOME          110402 non-null  int64         \n",
      " 16  YEARS_EMPLOYED  110402 non-null  int64         \n",
      " 17  DOB             110402 non-null  datetime64[ns]\n",
      "dtypes: datetime64[ns](4), float64(1), int64(10), string(3)\n",
      "memory usage: 15.2 MB\n"
     ]
    }
   ],
   "source": [
    "cvg.info()"
   ]
  },
  {
   "cell_type": "code",
   "execution_count": 23,
   "id": "9cf577ac-c620-4548-968f-906f331f5a13",
   "metadata": {},
   "outputs": [
    {
     "data": {
      "text/html": [
       "<div>\n",
       "<style scoped>\n",
       "    .dataframe tbody tr th:only-of-type {\n",
       "        vertical-align: middle;\n",
       "    }\n",
       "\n",
       "    .dataframe tbody tr th {\n",
       "        vertical-align: top;\n",
       "    }\n",
       "\n",
       "    .dataframe thead th {\n",
       "        text-align: right;\n",
       "    }\n",
       "</style>\n",
       "<table border=\"1\" class=\"dataframe\">\n",
       "  <thead>\n",
       "    <tr style=\"text-align: right;\">\n",
       "      <th></th>\n",
       "      <th>CLAIM</th>\n",
       "      <th>START_AGE</th>\n",
       "      <th>TENURE</th>\n",
       "      <th>MATURITY_AGE</th>\n",
       "      <th>TIME_TO_MATURE</th>\n",
       "      <th>SUM_INSURED</th>\n",
       "      <th>SMOKER</th>\n",
       "      <th>INCOME</th>\n",
       "      <th>YEARS_EMPLOYED</th>\n",
       "    </tr>\n",
       "  </thead>\n",
       "  <tbody>\n",
       "    <tr>\n",
       "      <th>count</th>\n",
       "      <td>1.1e+05</td>\n",
       "      <td>1.1e+05</td>\n",
       "      <td>1.1e+05</td>\n",
       "      <td>1.1e+05</td>\n",
       "      <td>1.1e+05</td>\n",
       "      <td>1.1e+05</td>\n",
       "      <td>1.1e+05</td>\n",
       "      <td>1.1e+05</td>\n",
       "      <td>1.1e+05</td>\n",
       "    </tr>\n",
       "    <tr>\n",
       "      <th>mean</th>\n",
       "      <td>0.0193</td>\n",
       "      <td>32.2</td>\n",
       "      <td>1.96e+03</td>\n",
       "      <td>67.5</td>\n",
       "      <td>1.1e+04</td>\n",
       "      <td>2.01e+05</td>\n",
       "      <td>0.0925</td>\n",
       "      <td>1.09e+04</td>\n",
       "      <td>6.49</td>\n",
       "    </tr>\n",
       "    <tr>\n",
       "      <th>std</th>\n",
       "      <td>0.138</td>\n",
       "      <td>8.89</td>\n",
       "      <td>2.2e+03</td>\n",
       "      <td>3.55</td>\n",
       "      <td>4.08e+03</td>\n",
       "      <td>2.07e+05</td>\n",
       "      <td>0.325</td>\n",
       "      <td>4.36e+04</td>\n",
       "      <td>7.24</td>\n",
       "    </tr>\n",
       "    <tr>\n",
       "      <th>min</th>\n",
       "      <td>0.0</td>\n",
       "      <td>14.0</td>\n",
       "      <td>21.0</td>\n",
       "      <td>64.0</td>\n",
       "      <td>0.0</td>\n",
       "      <td>2e+04</td>\n",
       "      <td>-1.0</td>\n",
       "      <td>0.0</td>\n",
       "      <td>0.0</td>\n",
       "    </tr>\n",
       "    <tr>\n",
       "      <th>25%</th>\n",
       "      <td>0.0</td>\n",
       "      <td>25.0</td>\n",
       "      <td>4.17e+02</td>\n",
       "      <td>65.0</td>\n",
       "      <td>8.47e+03</td>\n",
       "      <td>1e+05</td>\n",
       "      <td>0.0</td>\n",
       "      <td>5e+03</td>\n",
       "      <td>1.0</td>\n",
       "    </tr>\n",
       "    <tr>\n",
       "      <th>50%</th>\n",
       "      <td>0.0</td>\n",
       "      <td>31.0</td>\n",
       "      <td>1e+03</td>\n",
       "      <td>65.0</td>\n",
       "      <td>1.15e+04</td>\n",
       "      <td>1.25e+05</td>\n",
       "      <td>0.0</td>\n",
       "      <td>7.5e+03</td>\n",
       "      <td>4.0</td>\n",
       "    </tr>\n",
       "    <tr>\n",
       "      <th>75%</th>\n",
       "      <td>0.0</td>\n",
       "      <td>38.0</td>\n",
       "      <td>2.79e+03</td>\n",
       "      <td>70.0</td>\n",
       "      <td>1.39e+04</td>\n",
       "      <td>2.3e+05</td>\n",
       "      <td>0.0</td>\n",
       "      <td>1.2e+04</td>\n",
       "      <td>10.0</td>\n",
       "    </tr>\n",
       "    <tr>\n",
       "      <th>max</th>\n",
       "      <td>1.0</td>\n",
       "      <td>65.0</td>\n",
       "      <td>1.31e+04</td>\n",
       "      <td>81.0</td>\n",
       "      <td>2.33e+04</td>\n",
       "      <td>8e+06</td>\n",
       "      <td>1.0</td>\n",
       "      <td>7e+06</td>\n",
       "      <td>82.0</td>\n",
       "    </tr>\n",
       "  </tbody>\n",
       "</table>\n",
       "</div>"
      ],
      "text/plain": [
       "        CLAIM  START_AGE   TENURE  MATURITY_AGE  TIME_TO_MATURE  SUM_INSURED  SMOKER   INCOME  YEARS_EMPLOYED\n",
       "count 1.1e+05    1.1e+05  1.1e+05       1.1e+05         1.1e+05      1.1e+05 1.1e+05  1.1e+05         1.1e+05\n",
       "mean   0.0193       32.2 1.96e+03          67.5         1.1e+04     2.01e+05  0.0925 1.09e+04            6.49\n",
       "std     0.138       8.89  2.2e+03          3.55        4.08e+03     2.07e+05   0.325 4.36e+04            7.24\n",
       "min       0.0       14.0     21.0          64.0             0.0        2e+04    -1.0      0.0             0.0\n",
       "25%       0.0       25.0 4.17e+02          65.0        8.47e+03        1e+05     0.0    5e+03             1.0\n",
       "50%       0.0       31.0    1e+03          65.0        1.15e+04     1.25e+05     0.0  7.5e+03             4.0\n",
       "75%       0.0       38.0 2.79e+03          70.0        1.39e+04      2.3e+05     0.0  1.2e+04            10.0\n",
       "max       1.0       65.0 1.31e+04          81.0        2.33e+04        8e+06     1.0    7e+06            82.0"
      ]
     },
     "execution_count": 23,
     "metadata": {},
     "output_type": "execute_result"
    }
   ],
   "source": [
    "cvg.loc[:, display_cols_cvg].describe()"
   ]
  },
  {
   "cell_type": "markdown",
   "id": "995cd066-4406-4be9-a2db-254ce28615ac",
   "metadata": {},
   "source": [
    "# Feature engineering\n",
    "- Latest age variable\n",
    "- Encoding"
   ]
  },
  {
   "cell_type": "markdown",
   "id": "69f6f6fa-544f-414a-b121-b96c2dab5c1a",
   "metadata": {},
   "source": [
    "## Coverages"
   ]
  },
  {
   "cell_type": "markdown",
   "id": "81068a9b-9c00-42a2-9e61-6cc2065c54e0",
   "metadata": {},
   "source": [
    "### Variables"
   ]
  },
  {
   "cell_type": "code",
   "execution_count": 24,
   "id": "476c06ca-b65e-439e-881c-1bff24a74146",
   "metadata": {
    "tags": []
   },
   "outputs": [],
   "source": [
    "cvg.loc[:, 'LAST_AGE'] = cvg.apply(lambda x: x['START_AGE'] + relativedelta(x['END_DT'], x['START_DT']).years , axis=1)"
   ]
  },
  {
   "cell_type": "code",
   "execution_count": 25,
   "id": "d653294b-e414-44c2-a4da-febfe6962869",
   "metadata": {},
   "outputs": [],
   "source": [
    "#Data entry issues and date-time calculation sensitivity causes values to be imprecise, this is corrected here. \n",
    "#The maximum age on the insurance can only be 65, 70, 75 or 80.\n",
    "cvg.loc[cvg['MATURITY_AGE'].between(60, 66), 'MATURITY_AGE'] = 65\n",
    "cvg.loc[cvg['MATURITY_AGE'].between(67, 71), 'MATURITY_AGE'] = 70\n",
    "cvg.loc[cvg['MATURITY_AGE'].between(72, 76), 'MATURITY_AGE'] = 75\n",
    "cvg.loc[cvg['MATURITY_AGE'].between(77, 82), 'MATURITY_AGE'] = 80"
   ]
  },
  {
   "cell_type": "markdown",
   "id": "c71128ab-6b08-4eb9-a8b4-fb2dc81389c9",
   "metadata": {},
   "source": [
    "### Encoding"
   ]
  },
  {
   "cell_type": "code",
   "execution_count": 26,
   "id": "48dbe405-c3d7-4b79-9a72-bd5a6c8edf20",
   "metadata": {
    "tags": []
   },
   "outputs": [],
   "source": [
    "#Sex\n",
    "cvg.loc[:, 'SEX_F'] = np.where(cvg['SEX_CD'] == 'F', 1, 0)\n",
    "cvg.loc[:, 'SEX_M'] = np.where(cvg['SEX_CD'] == 'M', 1, 0)"
   ]
  },
  {
   "cell_type": "code",
   "execution_count": 27,
   "id": "3a4c795a-784c-4e73-b36b-df5b61ce4178",
   "metadata": {},
   "outputs": [
    {
     "data": {
      "text/plain": [
       "SEX_CD  SEX_F  SEX_M\n",
       "F       1      0        56077\n",
       "M       0      1        54325\n",
       "Name: count, dtype: int64"
      ]
     },
     "execution_count": 27,
     "metadata": {},
     "output_type": "execute_result"
    }
   ],
   "source": [
    "cvg[['SEX_CD', 'SEX_F', 'SEX_M']].value_counts()"
   ]
  },
  {
   "cell_type": "code",
   "execution_count": 28,
   "id": "d1beaeb0-a781-43db-8b3a-bbc7eec5003c",
   "metadata": {
    "tags": []
   },
   "outputs": [],
   "source": [
    "#Smoker\n",
    "cvg.loc[:, 'SMOKER_Y'] = np.where(cvg['SMOKER'] == 1, 1, 0)\n",
    "cvg.loc[:, 'SMOKER_N'] = np.where(cvg['SMOKER'] != 1, 1, 0)"
   ]
  },
  {
   "cell_type": "code",
   "execution_count": 29,
   "id": "8b830ea7-3554-47f9-91dd-a4485cf16d3b",
   "metadata": {
    "tags": []
   },
   "outputs": [
    {
     "data": {
      "text/plain": [
       "SMOKER  SMOKER_Y  SMOKER_N\n",
       " 0      0         1           97805\n",
       " 1      1         0           11402\n",
       "-1      0         1            1195\n",
       "Name: count, dtype: int64"
      ]
     },
     "execution_count": 29,
     "metadata": {},
     "output_type": "execute_result"
    }
   ],
   "source": [
    "cvg[['SMOKER', 'SMOKER_Y','SMOKER_N']].value_counts()"
   ]
  },
  {
   "cell_type": "code",
   "execution_count": 30,
   "id": "41bdda82-9991-46a8-b734-f1630296bb41",
   "metadata": {
    "tags": []
   },
   "outputs": [],
   "source": [
    "#Marital status\n",
    "cvg.loc[:, 'MARITAL_STATUS_SINGLE'] = np.where(cvg['MARITAL_STATUS'] == 'SINGLE', 1, 0)\n",
    "cvg.loc[:, 'MARITAL_STATUS_MARRIED'] = np.where(cvg['MARITAL_STATUS'] == 'MARRIED', 1, 0)\n",
    "cvg.loc[:, 'MARITAL_STATUS_OTHER'] = np.where(cvg['MARITAL_STATUS'].isin(['COMMONLAW', 'SEPARATED', 'OTHER', 'UNKNOWN']), 1, 0)"
   ]
  },
  {
   "cell_type": "code",
   "execution_count": 31,
   "id": "fc307ad1-7421-48f5-aad9-9e1f1eab30a8",
   "metadata": {
    "tags": []
   },
   "outputs": [
    {
     "data": {
      "text/plain": [
       "MARITAL_STATUS  MARITAL_STATUS_SINGLE  MARITAL_STATUS_MARRIED  MARITAL_STATUS_OTHER\n",
       "SINGLE          1                      0                       0                       57754\n",
       "MARRIED         0                      1                       0                       41666\n",
       "COMMONLAW       0                      0                       1                        6322\n",
       "SEPARATED       0                      0                       1                        3958\n",
       "UNKNOWN         0                      0                       1                         528\n",
       "OTHER           0                      0                       1                         174\n",
       "Name: count, dtype: int64"
      ]
     },
     "execution_count": 31,
     "metadata": {},
     "output_type": "execute_result"
    }
   ],
   "source": [
    "cvg[['MARITAL_STATUS', 'MARITAL_STATUS_SINGLE', 'MARITAL_STATUS_MARRIED', 'MARITAL_STATUS_OTHER']].value_counts()"
   ]
  },
  {
   "cell_type": "markdown",
   "id": "7a90d8fa-519f-409c-9fa5-3cfc52beb7ea",
   "metadata": {},
   "source": [
    "## Claims"
   ]
  },
  {
   "cell_type": "markdown",
   "id": "c155b22d-f83a-497b-93f8-815794293bc5",
   "metadata": {},
   "source": [
    "### Variables"
   ]
  },
  {
   "cell_type": "code",
   "execution_count": 32,
   "id": "a1b5aeb4-ea53-47b1-bc0c-a1d8a39d2d5f",
   "metadata": {},
   "outputs": [
    {
     "data": {
      "text/plain": [
       "CLAIM_ID                  0\n",
       "MDM_ID                    0\n",
       "CLAIM_PROCEDURE_ID        0\n",
       "PROCEDURE_CODE            0\n",
       "PROCEDURE_GROUP           0\n",
       "CLAIM_DIAGNOSIS_ID        0\n",
       "DIAGNOSIS_CODE            0\n",
       "DIAGNOSIS_GROUP           0\n",
       "CHARGES                   0\n",
       "CLAIM_LENGTH            429\n",
       "PROCEDURE_LENGTH          0\n",
       "EOB_CATEGORY              0\n",
       "STATUS                    0\n",
       "PROCEDURE_STATUS          0\n",
       "CLAIM_DT                  0\n",
       "ISSUE_DT                  0\n",
       "TERM_DT               12351\n",
       "dtype: int64"
      ]
     },
     "execution_count": 32,
     "metadata": {},
     "output_type": "execute_result"
    }
   ],
   "source": [
    "claims.isna().sum()"
   ]
  },
  {
   "cell_type": "code",
   "execution_count": 33,
   "id": "ea5f0bc0-7792-4d5d-9854-0de3f8d22bfb",
   "metadata": {},
   "outputs": [],
   "source": [
    "#Coalesce claim length and procedure length into claim duration variable\n",
    "claims.loc[:, 'CLAIM_DURATION'] = claims['CLAIM_LENGTH'].combine_first(claims['PROCEDURE_LENGTH'])"
   ]
  },
  {
   "cell_type": "code",
   "execution_count": 34,
   "id": "d6f4da7a-bb63-42aa-a77b-5a699506e039",
   "metadata": {},
   "outputs": [],
   "source": [
    "#Shorten diagnosis group name\n",
    "claims.loc[:, 'DIAGNOSIS_GROUP'] = claims['DIAGNOSIS_GROUP'].replace('CANCER/GROWTH', 'CANCER')"
   ]
  },
  {
   "cell_type": "markdown",
   "id": "fffa82c6-b47f-46d8-bf19-190ee2133299",
   "metadata": {},
   "source": [
    "### Remove claims after end dates\n",
    "Health claims made after the closure of the client's critical illness coverage are not applicable and must be removed."
   ]
  },
  {
   "cell_type": "code",
   "execution_count": 35,
   "id": "770d89f0-8128-452f-ad14-46892d394476",
   "metadata": {},
   "outputs": [],
   "source": [
    "#Merge critical illness coverage dates into the claims dataset\n",
    "claims_clean = claims.merge(cvg.loc[:, ['MDM_ID', 'CVG_ID', 'START_DT', 'END_DT']], how='inner', on=['MDM_ID'], validate=\"m:m\")"
   ]
  },
  {
   "cell_type": "code",
   "execution_count": 36,
   "id": "17c9ed86-1308-4cde-92dd-3d59fa729e10",
   "metadata": {},
   "outputs": [
    {
     "name": "stdout",
     "output_type": "stream",
     "text": [
      "Number of instances without an end date, should be zero:  0\n"
     ]
    }
   ],
   "source": [
    "print('Number of instances without an end date, should be zero: ', claims_clean['END_DT'].isna().sum())"
   ]
  },
  {
   "cell_type": "code",
   "execution_count": 37,
   "id": "17422194-59e5-4d27-80c4-4c86bc31e007",
   "metadata": {},
   "outputs": [
    {
     "data": {
      "text/plain": [
       "(95047, 21)"
      ]
     },
     "execution_count": 37,
     "metadata": {},
     "output_type": "execute_result"
    }
   ],
   "source": [
    "#Remove any claim with a date after the end date of the CI coverage\n",
    "claims_clean = claims_clean.query('CLAIM_DT <= END_DT')\n",
    "claims_clean.shape"
   ]
  },
  {
   "cell_type": "markdown",
   "id": "8296e4d0-09d2-4e4b-b14e-e059f598f8d0",
   "metadata": {},
   "source": [
    "### Remove invalid claims\n",
    "Now we remove claims with invalid status labels or that violate business rules."
   ]
  },
  {
   "cell_type": "code",
   "execution_count": 38,
   "id": "84f1eae4-2819-4bf2-91bf-3ca39d742f86",
   "metadata": {},
   "outputs": [
    {
     "data": {
      "text/plain": [
       "STATUS\n",
       "CLOSED      94767\n",
       "PENDING       153\n",
       "APPROVED      127\n",
       "Name: count, dtype: Int64"
      ]
     },
     "execution_count": 38,
     "metadata": {},
     "output_type": "execute_result"
    }
   ],
   "source": [
    "claims_clean['STATUS'].value_counts()"
   ]
  },
  {
   "cell_type": "code",
   "execution_count": 39,
   "id": "f3db6130-9748-4c55-8f4c-1fd872700c63",
   "metadata": {},
   "outputs": [
    {
     "data": {
      "text/plain": [
       "PROCEDURE_STATUS\n",
       "APP     77080\n",
       "DENY    17883\n",
       "PEND       84\n",
       "Name: count, dtype: Int64"
      ]
     },
     "execution_count": 39,
     "metadata": {},
     "output_type": "execute_result"
    }
   ],
   "source": [
    "claims_clean['PROCEDURE_STATUS'].value_counts()"
   ]
  },
  {
   "cell_type": "code",
   "execution_count": 40,
   "id": "ea75484f-58c9-4785-8a7c-5a62d3d8fe91",
   "metadata": {},
   "outputs": [
    {
     "data": {
      "text/plain": [
       "EOB_CATEGORY\n",
       "4_PASS           49295\n",
       "1_NOT_COVERED    23755\n",
       "5_NONE           18512\n",
       "3_PENDING         3201\n",
       "2_INVALID          284\n",
       "Name: count, dtype: Int64"
      ]
     },
     "execution_count": 40,
     "metadata": {},
     "output_type": "execute_result"
    }
   ],
   "source": [
    "claims_clean['EOB_CATEGORY'].value_counts()"
   ]
  },
  {
   "cell_type": "code",
   "execution_count": 41,
   "id": "071222a8-8a04-4682-ad32-279e3653ba59",
   "metadata": {},
   "outputs": [
    {
     "data": {
      "text/plain": [
       "(64314, 21)"
      ]
     },
     "execution_count": 41,
     "metadata": {},
     "output_type": "execute_result"
    }
   ],
   "source": [
    "#Claims must be fully processed, STATUS == CLOSED\n",
    "#Claim procedure must be approved, PROCEDURE_STATUS == APP\n",
    "#The claim should have passed business rules checks or had no rules applied to it, EOB_CATEGORY=='4_PASS' or EOB_CATEGORY== '5_NONE'\n",
    "query = \"STATUS=='CLOSED' & PROCEDURE_STATUS=='APP' & (EOB_CATEGORY=='4_PASS' | EOB_CATEGORY== '5_NONE')\"\n",
    "claims_valid = claims_clean.query(query).copy()\n",
    "claims_valid.shape"
   ]
  },
  {
   "cell_type": "markdown",
   "id": "722db6e2-b883-49fb-a211-fdb7be9dff14",
   "metadata": {},
   "source": [
    "### Days from previous\n",
    "Variables such as days since previous claim and claim freqeuncy can now be calculated using the cleaned dataset."
   ]
  },
  {
   "cell_type": "code",
   "execution_count": 42,
   "id": "64c3fa34-259d-48e3-addf-45e34f70ae76",
   "metadata": {},
   "outputs": [],
   "source": [
    "#Days from previous claim calculation.\n",
    "#Claims must be in the correct order by the date it was made.\n",
    "def days_from_prev(g):\n",
    "    df = g.sort_values('CLAIM_DT')\n",
    "    df.loc[:, 'DAYS_FROM_PREVIOUS'] = df['CLAIM_DT'].diff().dt.days\n",
    "    return df"
   ]
  },
  {
   "cell_type": "code",
   "execution_count": 43,
   "id": "fe8ea404-70ce-44d1-8359-c68144ce8a83",
   "metadata": {},
   "outputs": [
    {
     "data": {
      "text/html": [
       "<div>\n",
       "<style scoped>\n",
       "    .dataframe tbody tr th:only-of-type {\n",
       "        vertical-align: middle;\n",
       "    }\n",
       "\n",
       "    .dataframe tbody tr th {\n",
       "        vertical-align: top;\n",
       "    }\n",
       "\n",
       "    .dataframe thead th {\n",
       "        text-align: right;\n",
       "    }\n",
       "</style>\n",
       "<table border=\"1\" class=\"dataframe\">\n",
       "  <thead>\n",
       "    <tr style=\"text-align: right;\">\n",
       "      <th></th>\n",
       "      <th>CVG_ID</th>\n",
       "      <th>CLAIM_ID</th>\n",
       "      <th>CLAIM_DT</th>\n",
       "      <th>DAYS_FROM_PREVIOUS</th>\n",
       "    </tr>\n",
       "  </thead>\n",
       "  <tbody>\n",
       "    <tr>\n",
       "      <th>0</th>\n",
       "      <td>1002561902224620248-01</td>\n",
       "      <td>169618</td>\n",
       "      <td>2008-03-13</td>\n",
       "      <td>NaN</td>\n",
       "    </tr>\n",
       "    <tr>\n",
       "      <th>1</th>\n",
       "      <td>1002561902224620248-01</td>\n",
       "      <td>170775</td>\n",
       "      <td>2008-03-18</td>\n",
       "      <td>5.0</td>\n",
       "    </tr>\n",
       "    <tr>\n",
       "      <th>2</th>\n",
       "      <td>1002561902224620248-01</td>\n",
       "      <td>235341</td>\n",
       "      <td>2008-08-28</td>\n",
       "      <td>1.63e+02</td>\n",
       "    </tr>\n",
       "    <tr>\n",
       "      <th>3</th>\n",
       "      <td>1002561902224620248-01</td>\n",
       "      <td>394629</td>\n",
       "      <td>2009-11-16</td>\n",
       "      <td>4.45e+02</td>\n",
       "    </tr>\n",
       "    <tr>\n",
       "      <th>4</th>\n",
       "      <td>1002561902224620248-01</td>\n",
       "      <td>394628</td>\n",
       "      <td>2009-11-16</td>\n",
       "      <td>0.0</td>\n",
       "    </tr>\n",
       "  </tbody>\n",
       "</table>\n",
       "</div>"
      ],
      "text/plain": [
       "                   CVG_ID  CLAIM_ID   CLAIM_DT  DAYS_FROM_PREVIOUS\n",
       "0  1002561902224620248-01    169618 2008-03-13                 NaN\n",
       "1  1002561902224620248-01    170775 2008-03-18                 5.0\n",
       "2  1002561902224620248-01    235341 2008-08-28            1.63e+02\n",
       "3  1002561902224620248-01    394629 2009-11-16            4.45e+02\n",
       "4  1002561902224620248-01    394628 2009-11-16                 0.0"
      ]
     },
     "execution_count": 43,
     "metadata": {},
     "output_type": "execute_result"
    }
   ],
   "source": [
    "#Each claim can have several items or 'lines'.\n",
    "#We only want one instance of each claim so duplicates are dropped.\n",
    "days_from_prev_calc = claims_valid.loc[:, ['CVG_ID', 'CLAIM_ID', 'CLAIM_DT']]\\\n",
    "                                  .drop_duplicates()\\\n",
    "                                  .groupby(['CVG_ID'])\\\n",
    "                                  .apply(lambda g: days_from_prev(g), include_groups=False)\\\n",
    "                                  .reset_index()\\\n",
    "                                  .drop(columns=['level_1'])\n",
    "\n",
    "#The first claim will have NA days from previous\n",
    "days_from_prev_calc.head(5)"
   ]
  },
  {
   "cell_type": "code",
   "execution_count": 44,
   "id": "1561657b-9e6d-4ccc-adcc-0a9132cb67ed",
   "metadata": {},
   "outputs": [],
   "source": [
    "#Merge days from previous values into the dataset\n",
    "claims_final = claims_valid.merge(days_from_prev_calc, how='inner', on=['CVG_ID', 'CLAIM_ID', 'CLAIM_DT'], validate='m:1').copy()"
   ]
  },
  {
   "cell_type": "markdown",
   "id": "9d6427a1-91d7-45d9-8366-370ebe49dc54",
   "metadata": {},
   "source": [
    "# Modelling datasets\n",
    "Here the major partitions of the data are demonstrated. Test sets contained CI coverages ending after 2023 and 2024. All other data up to the year of the test set were used for training and validation. Validation sets were created through ScikitLearn’s (SKL) TimeSeriesSplit CV. Claims are aggregated into the coverage dataset. This process is embedded in the proposed method code so this section is for illustrative purposes only."
   ]
  },
  {
   "cell_type": "code",
   "execution_count": 45,
   "id": "8d2785fd-a92d-4d50-84e4-bc917010fdfc",
   "metadata": {},
   "outputs": [],
   "source": [
    "partitions = pd.DataFrame(columns=['year', 'part', 'cvg', 'proportion', 'cli', 'claims', 'claim_percent'])\n",
    "for year in [2023, 2024]:\n",
    "    X_feat, X_label, Y_feat, Y_label, Y_id = create_claim_train_test(cvg, claims_final, cvg.columns, year, 0)\n",
    "    X_size = X_feat.shape[0]\n",
    "    Y_size = Y_feat.shape[0]\n",
    "    Tot_size = X_feat.shape[0] + Y_feat.shape[0]\n",
    "    \n",
    "    train_cvg, test_cvg = X_feat['SCALAR_CVG_ID'].nunique(), Y_feat['SCALAR_CVG_ID'].nunique() \n",
    "    train_cli, test_cli = X_feat['SCALAR_MDM_ID'].nunique(), Y_feat['SCALAR_MDM_ID'].nunique() \n",
    "    train_claims, test_claims = X_label.sum(), Y_label.sum() \n",
    "    train_per, test_per = X_label.mean(), Y_label.mean()\n",
    "    train_size, test_size = X_size/Tot_size, Y_size/Tot_size\n",
    "    \n",
    "    partitions.loc[len(partitions), :] = [year, 'train', train_cvg, train_size, train_cli, train_claims, train_per]\n",
    "    partitions.loc[len(partitions), :] = [year, 'test', test_cvg, test_size, test_cli, test_claims, test_per]"
   ]
  },
  {
   "cell_type": "code",
   "execution_count": 46,
   "id": "547f3dff-f486-4e6f-85dd-dad76fad5041",
   "metadata": {},
   "outputs": [
    {
     "data": {
      "text/html": [
       "<div>\n",
       "<style scoped>\n",
       "    .dataframe tbody tr th:only-of-type {\n",
       "        vertical-align: middle;\n",
       "    }\n",
       "\n",
       "    .dataframe tbody tr th {\n",
       "        vertical-align: top;\n",
       "    }\n",
       "\n",
       "    .dataframe thead th {\n",
       "        text-align: right;\n",
       "    }\n",
       "</style>\n",
       "<table border=\"1\" class=\"dataframe\">\n",
       "  <thead>\n",
       "    <tr style=\"text-align: right;\">\n",
       "      <th></th>\n",
       "      <th>year</th>\n",
       "      <th>part</th>\n",
       "      <th>cvg</th>\n",
       "      <th>proportion</th>\n",
       "      <th>cli</th>\n",
       "      <th>claims</th>\n",
       "      <th>claim_percent</th>\n",
       "    </tr>\n",
       "  </thead>\n",
       "  <tbody>\n",
       "    <tr>\n",
       "      <th>0</th>\n",
       "      <td>2023</td>\n",
       "      <td>train</td>\n",
       "      <td>1213</td>\n",
       "      <td>0.69</td>\n",
       "      <td>1000</td>\n",
       "      <td>53</td>\n",
       "      <td>0.0437</td>\n",
       "    </tr>\n",
       "    <tr>\n",
       "      <th>1</th>\n",
       "      <td>2023</td>\n",
       "      <td>test</td>\n",
       "      <td>545</td>\n",
       "      <td>0.31</td>\n",
       "      <td>498</td>\n",
       "      <td>18</td>\n",
       "      <td>0.033</td>\n",
       "    </tr>\n",
       "    <tr>\n",
       "      <th>2</th>\n",
       "      <td>2024</td>\n",
       "      <td>train</td>\n",
       "      <td>1506</td>\n",
       "      <td>0.857</td>\n",
       "      <td>1231</td>\n",
       "      <td>59</td>\n",
       "      <td>0.0392</td>\n",
       "    </tr>\n",
       "    <tr>\n",
       "      <th>3</th>\n",
       "      <td>2024</td>\n",
       "      <td>test</td>\n",
       "      <td>252</td>\n",
       "      <td>0.143</td>\n",
       "      <td>239</td>\n",
       "      <td>12</td>\n",
       "      <td>0.0476</td>\n",
       "    </tr>\n",
       "  </tbody>\n",
       "</table>\n",
       "</div>"
      ],
      "text/plain": [
       "   year   part   cvg proportion   cli claims claim_percent\n",
       "0  2023  train  1213       0.69  1000     53        0.0437\n",
       "1  2023   test   545       0.31   498     18         0.033\n",
       "2  2024  train  1506      0.857  1231     59        0.0392\n",
       "3  2024   test   252      0.143   239     12        0.0476"
      ]
     },
     "execution_count": 46,
     "metadata": {},
     "output_type": "execute_result"
    }
   ],
   "source": [
    "partitions"
   ]
  },
  {
   "cell_type": "markdown",
   "id": "45ea22b2-8a8f-493c-a993-517692e875dc",
   "metadata": {},
   "source": [
    "# Missing Data Handling\n",
    "- Check for number of nulls\n",
    "     - If entire column is null drop column\n",
    "     - If entire row is null drop row\n",
    "- Replace outliers and missing values with median as appropriate"
   ]
  },
  {
   "cell_type": "code",
   "execution_count": 47,
   "id": "aa6352fe-71d2-425f-8c32-e8fbf5622e7e",
   "metadata": {},
   "outputs": [],
   "source": [
    "model_cols = ['LAST_AGE', 'START_AGE', 'TENURE', 'TIME_TO_MATURE', 'MATURITY_AGE', \n",
    "              'SUM_INSURED', 'INCOME', 'YEARS_EMPLOYED', \n",
    "              'SEX_F', 'SEX_M', 'SMOKER_Y', 'SMOKER_N', \n",
    "              'MARITAL_STATUS_SINGLE', 'MARITAL_STATUS_MARRIED', 'MARITAL_STATUS_OTHER', \n",
    "              'NUM_CLAIMS', 'NUM_PROCEDURE', 'NUM_DIAGNOSIS', 'TOTAL_CHARGES', 'AVG_CHARGE', \n",
    "              'NUM_PROCEDURE_DENTAL', 'NUM_PROCEDURE_DRUGS', 'NUM_PROCEDURE_HOSPITAL', 'NUM_PROCEDURE_OTHER', \n",
    "              'NUM_PROCEDURE_SERVICE', 'NUM_PROCEDURE_TEST', 'NUM_PROCEDURE_VACCINATION', 'NUM_PROCEDURE_VISION', \n",
    "              'NUM_PROCEDURE_VISIT', \n",
    "              'NUM_DIAGNOSIS_CANCER', 'NUM_DIAGNOSIS_CARDIAC', 'NUM_DIAGNOSIS_CHRONIC', 'NUM_DIAGNOSIS_COMMON', \n",
    "              'NUM_DIAGNOSIS_DENTAL', 'NUM_DIAGNOSIS_EXAM', 'NUM_DIAGNOSIS_INFECTION', 'NUM_DIAGNOSIS_INJURY', \n",
    "              'NUM_DIAGNOSIS_ORGAN', 'NUM_DIAGNOSIS_OTHER', 'NUM_DIAGNOSIS_PAIN', 'NUM_DIAGNOSIS_RESPIRATORY', \n",
    "              'NUM_DIAGNOSIS_SEXUAL', 'NUM_DIAGNOSIS_VISION', \n",
    "              'AVG_CLAIM_DURATION', 'MAX_CLAIM_DURATION', 'CLAIM_FREQUENCY']"
   ]
  },
  {
   "cell_type": "code",
   "execution_count": 48,
   "id": "9cacdc22-5e03-4299-ad91-d9a900483214",
   "metadata": {},
   "outputs": [],
   "source": [
    "#The final dataset is created on demand in the method code, so we must create one\n",
    "df_mod, *_ = create_claim_train_test(cvg, claims_final, model_cols, 2025, 0)"
   ]
  },
  {
   "cell_type": "code",
   "execution_count": 49,
   "id": "004a025d-5444-4113-8c91-fa811d4e1a79",
   "metadata": {},
   "outputs": [
    {
     "data": {
      "text/plain": [
       "(1758, 46)"
      ]
     },
     "execution_count": 49,
     "metadata": {},
     "output_type": "execute_result"
    }
   ],
   "source": [
    "df_mod.shape"
   ]
  },
  {
   "cell_type": "code",
   "execution_count": 50,
   "id": "7f1d8c48-2fff-4602-976b-25309f8d7936",
   "metadata": {},
   "outputs": [
    {
     "data": {
      "text/plain": [
       "SCALAR_LAST_AGE                     0\n",
       "SCALAR_START_AGE                    0\n",
       "SCALAR_TENURE                       0\n",
       "SCALAR_TIME_TO_MATURE               0\n",
       "SCALAR_MATURITY_AGE                 0\n",
       "SCALAR_SUM_INSURED                  0\n",
       "SCALAR_INCOME                       0\n",
       "SCALAR_YEARS_EMPLOYED               0\n",
       "CATEGORY_SEX_F                      0\n",
       "CATEGORY_SEX_M                      0\n",
       "CATEGORY_SMOKER_Y                   0\n",
       "CATEGORY_SMOKER_N                   0\n",
       "CATEGORY_MARITAL_STATUS_SINGLE      0\n",
       "CATEGORY_MARITAL_STATUS_MARRIED     0\n",
       "CATEGORY_MARITAL_STATUS_OTHER       0\n",
       "SCALAR_NUM_CLAIMS                   0\n",
       "SCALAR_NUM_PROCEDURE                0\n",
       "SCALAR_NUM_DIAGNOSIS                0\n",
       "SCALAR_TOTAL_CHARGES                0\n",
       "SCALAR_AVG_CHARGE                   0\n",
       "SCALAR_NUM_PROCEDURE_DENTAL         0\n",
       "SCALAR_NUM_PROCEDURE_DRUGS          0\n",
       "SCALAR_NUM_PROCEDURE_HOSPITAL       0\n",
       "SCALAR_NUM_PROCEDURE_OTHER          0\n",
       "SCALAR_NUM_PROCEDURE_SERVICE        0\n",
       "SCALAR_NUM_PROCEDURE_TEST           0\n",
       "SCALAR_NUM_PROCEDURE_VACCINATION    0\n",
       "SCALAR_NUM_PROCEDURE_VISION         0\n",
       "SCALAR_NUM_PROCEDURE_VISIT          0\n",
       "SCALAR_NUM_DIAGNOSIS_CANCER         0\n",
       "SCALAR_NUM_DIAGNOSIS_CARDIAC        0\n",
       "SCALAR_NUM_DIAGNOSIS_CHRONIC        0\n",
       "SCALAR_NUM_DIAGNOSIS_COMMON         0\n",
       "SCALAR_NUM_DIAGNOSIS_DENTAL         0\n",
       "SCALAR_NUM_DIAGNOSIS_EXAM           0\n",
       "SCALAR_NUM_DIAGNOSIS_INFECTION      0\n",
       "SCALAR_NUM_DIAGNOSIS_INJURY         0\n",
       "SCALAR_NUM_DIAGNOSIS_ORGAN          0\n",
       "SCALAR_NUM_DIAGNOSIS_OTHER          0\n",
       "SCALAR_NUM_DIAGNOSIS_PAIN           0\n",
       "SCALAR_NUM_DIAGNOSIS_RESPIRATORY    0\n",
       "SCALAR_NUM_DIAGNOSIS_SEXUAL         0\n",
       "SCALAR_NUM_DIAGNOSIS_VISION         0\n",
       "SCALAR_AVG_CLAIM_DURATION           0\n",
       "SCALAR_MAX_CLAIM_DURATION           0\n",
       "SCALAR_CLAIM_FREQUENCY              0\n",
       "dtype: int64"
      ]
     },
     "execution_count": 50,
     "metadata": {},
     "output_type": "execute_result"
    }
   ],
   "source": [
    "df_mod.isna().sum()"
   ]
  },
  {
   "cell_type": "code",
   "execution_count": 51,
   "id": "9afdea54-d008-4f20-9923-201e359b87d0",
   "metadata": {},
   "outputs": [
    {
     "name": "stdout",
     "output_type": "stream",
     "text": [
      "<class 'pandas.core.frame.DataFrame'>\n",
      "Index: 1758 entries, 1351 to 1137\n",
      "Data columns (total 46 columns):\n",
      " #   Column                            Non-Null Count  Dtype  \n",
      "---  ------                            --------------  -----  \n",
      " 0   SCALAR_LAST_AGE                   1758 non-null   int64  \n",
      " 1   SCALAR_START_AGE                  1758 non-null   int64  \n",
      " 2   SCALAR_TENURE                     1758 non-null   int64  \n",
      " 3   SCALAR_TIME_TO_MATURE             1758 non-null   int64  \n",
      " 4   SCALAR_MATURITY_AGE               1758 non-null   int64  \n",
      " 5   SCALAR_SUM_INSURED                1758 non-null   float64\n",
      " 6   SCALAR_INCOME                     1758 non-null   int64  \n",
      " 7   SCALAR_YEARS_EMPLOYED             1758 non-null   int64  \n",
      " 8   CATEGORY_SEX_F                    1758 non-null   int64  \n",
      " 9   CATEGORY_SEX_M                    1758 non-null   int64  \n",
      " 10  CATEGORY_SMOKER_Y                 1758 non-null   int64  \n",
      " 11  CATEGORY_SMOKER_N                 1758 non-null   int64  \n",
      " 12  CATEGORY_MARITAL_STATUS_SINGLE    1758 non-null   int64  \n",
      " 13  CATEGORY_MARITAL_STATUS_MARRIED   1758 non-null   int64  \n",
      " 14  CATEGORY_MARITAL_STATUS_OTHER     1758 non-null   int64  \n",
      " 15  SCALAR_NUM_CLAIMS                 1758 non-null   int64  \n",
      " 16  SCALAR_NUM_PROCEDURE              1758 non-null   int64  \n",
      " 17  SCALAR_NUM_DIAGNOSIS              1758 non-null   int64  \n",
      " 18  SCALAR_TOTAL_CHARGES              1758 non-null   float64\n",
      " 19  SCALAR_AVG_CHARGE                 1758 non-null   float64\n",
      " 20  SCALAR_NUM_PROCEDURE_DENTAL       1758 non-null   int64  \n",
      " 21  SCALAR_NUM_PROCEDURE_DRUGS        1758 non-null   int64  \n",
      " 22  SCALAR_NUM_PROCEDURE_HOSPITAL     1758 non-null   int64  \n",
      " 23  SCALAR_NUM_PROCEDURE_OTHER        1758 non-null   int64  \n",
      " 24  SCALAR_NUM_PROCEDURE_SERVICE      1758 non-null   int64  \n",
      " 25  SCALAR_NUM_PROCEDURE_TEST         1758 non-null   int64  \n",
      " 26  SCALAR_NUM_PROCEDURE_VACCINATION  1758 non-null   int64  \n",
      " 27  SCALAR_NUM_PROCEDURE_VISION       1758 non-null   int64  \n",
      " 28  SCALAR_NUM_PROCEDURE_VISIT        1758 non-null   int64  \n",
      " 29  SCALAR_NUM_DIAGNOSIS_CANCER       1758 non-null   int64  \n",
      " 30  SCALAR_NUM_DIAGNOSIS_CARDIAC      1758 non-null   int64  \n",
      " 31  SCALAR_NUM_DIAGNOSIS_CHRONIC      1758 non-null   int64  \n",
      " 32  SCALAR_NUM_DIAGNOSIS_COMMON       1758 non-null   int64  \n",
      " 33  SCALAR_NUM_DIAGNOSIS_DENTAL       1758 non-null   int64  \n",
      " 34  SCALAR_NUM_DIAGNOSIS_EXAM         1758 non-null   int64  \n",
      " 35  SCALAR_NUM_DIAGNOSIS_INFECTION    1758 non-null   int64  \n",
      " 36  SCALAR_NUM_DIAGNOSIS_INJURY       1758 non-null   int64  \n",
      " 37  SCALAR_NUM_DIAGNOSIS_ORGAN        1758 non-null   int64  \n",
      " 38  SCALAR_NUM_DIAGNOSIS_OTHER        1758 non-null   int64  \n",
      " 39  SCALAR_NUM_DIAGNOSIS_PAIN         1758 non-null   int64  \n",
      " 40  SCALAR_NUM_DIAGNOSIS_RESPIRATORY  1758 non-null   int64  \n",
      " 41  SCALAR_NUM_DIAGNOSIS_SEXUAL       1758 non-null   int64  \n",
      " 42  SCALAR_NUM_DIAGNOSIS_VISION       1758 non-null   int64  \n",
      " 43  SCALAR_AVG_CLAIM_DURATION         1758 non-null   float64\n",
      " 44  SCALAR_MAX_CLAIM_DURATION         1758 non-null   int64  \n",
      " 45  SCALAR_CLAIM_FREQUENCY            1758 non-null   float64\n",
      "dtypes: float64(5), int64(41)\n",
      "memory usage: 645.5 KB\n"
     ]
    }
   ],
   "source": [
    "df_mod.info()"
   ]
  },
  {
   "cell_type": "markdown",
   "id": "df4b9ab2-549d-44bb-bb47-36f09214bc4c",
   "metadata": {},
   "source": [
    "# Proposed approach\n",
    "The proposed approach consists of the following steps:\n",
    "1. Test the 5 Machine Learning algorithms to find the model that produces the best probability estimates.\n",
    "2. Select the best performing model and produce critical illness claim probability estimates for each insurance coverage.\n",
    "3. Rank the coverages in order of risk and assess the ranking.\n",
    "\n",
    "In this section we evaluate the 5 ML algorithms. \\\n",
    "The evaluation involves two test sets corresponding to coverages ending in 2023 and 2024. \\\n",
    "Additionally, time-sensitive features in the dataset are offset by interval values of 0, 90, 180, and 360 days to simulate whether the model can make accurate predictions ahead of time. This can grant up to 1 year of intervention time."
   ]
  },
  {
   "cell_type": "code",
   "execution_count": 52,
   "id": "aff4eaca-4c11-4647-87a7-9334b6c3b342",
   "metadata": {},
   "outputs": [],
   "source": [
    "n_jobs = -1"
   ]
  },
  {
   "cell_type": "code",
   "execution_count": 53,
   "id": "f0079d52-d20d-44f9-9f7f-62402211ae75",
   "metadata": {
    "tags": []
   },
   "outputs": [],
   "source": [
    "#Limits for outlier handling via Winsorisation\n",
    "#The tuple is structured as follows:\n",
    "#1. Column to be adjusted, 2. Lower inlier bound, 3. Upper inlier bound\n",
    "outlier_bounds = [('SCALAR_SUM_INSURED', 20000, 3e6),\n",
    "                  ('SCALAR_INCOME', 0, 2e5),\n",
    "                  ('SCALAR_YEARS_EMPLOYED', 0, 50)]"
   ]
  },
  {
   "cell_type": "code",
   "execution_count": 54,
   "id": "e49bdc7d-0618-4dad-8e76-a6af319f74d5",
   "metadata": {
    "tags": []
   },
   "outputs": [],
   "source": [
    "#Columns used to build the predictive model. \n",
    "#Includes coverage details, client demographic information, and health claim aggregate features.\n",
    "model_cols = ['LAST_AGE', 'START_AGE', 'TENURE', 'TIME_TO_MATURE', 'MATURITY_AGE', \n",
    "              'SUM_INSURED', 'INCOME', 'YEARS_EMPLOYED', \n",
    "              'SEX_F', 'SEX_M', 'SMOKER_Y', 'SMOKER_N', \n",
    "              'MARITAL_STATUS_SINGLE', 'MARITAL_STATUS_MARRIED', 'MARITAL_STATUS_OTHER', \n",
    "              'NUM_CLAIMS', 'NUM_PROCEDURE', 'NUM_DIAGNOSIS', 'TOTAL_CHARGES', 'AVG_CHARGE', \n",
    "              'NUM_PROCEDURE_DENTAL', 'NUM_PROCEDURE_DRUGS', 'NUM_PROCEDURE_HOSPITAL', 'NUM_PROCEDURE_OTHER', \n",
    "              'NUM_PROCEDURE_SERVICE', 'NUM_PROCEDURE_TEST', 'NUM_PROCEDURE_VACCINATION', 'NUM_PROCEDURE_VISION', \n",
    "              'NUM_PROCEDURE_VISIT', \n",
    "              'NUM_DIAGNOSIS_CANCER', 'NUM_DIAGNOSIS_CARDIAC', 'NUM_DIAGNOSIS_CHRONIC', 'NUM_DIAGNOSIS_COMMON', \n",
    "              'NUM_DIAGNOSIS_DENTAL', 'NUM_DIAGNOSIS_EXAM', 'NUM_DIAGNOSIS_INFECTION', 'NUM_DIAGNOSIS_INJURY', \n",
    "              'NUM_DIAGNOSIS_ORGAN', 'NUM_DIAGNOSIS_OTHER', 'NUM_DIAGNOSIS_PAIN', 'NUM_DIAGNOSIS_RESPIRATORY', \n",
    "              'NUM_DIAGNOSIS_SEXUAL', 'NUM_DIAGNOSIS_VISION', \n",
    "              'AVG_CLAIM_DURATION', 'MAX_CLAIM_DURATION', 'CLAIM_FREQUENCY']"
   ]
  },
  {
   "cell_type": "code",
   "execution_count": 55,
   "id": "ff5996ee-e046-4cda-9f9c-f9346db8f558",
   "metadata": {},
   "outputs": [
    {
     "name": "stdout",
     "output_type": "stream",
     "text": [
      "Max features:  47\n"
     ]
    }
   ],
   "source": [
    "max_features = len(model_cols) + 1\n",
    "print('Max features: ', max_features)"
   ]
  },
  {
   "cell_type": "code",
   "execution_count": 56,
   "id": "5109027a-bd52-4ac5-a987-577e37939850",
   "metadata": {},
   "outputs": [],
   "source": [
    "#Init the proposed methodology class\n",
    "#Experiments are repeated 20 times\n",
    "pm = ProposedMethodology(cvg, model_cols, outlier_bounds, claims_final, runs=20)"
   ]
  },
  {
   "cell_type": "code",
   "execution_count": 57,
   "id": "02b67dd3-5299-4942-b284-b86b02f43671",
   "metadata": {},
   "outputs": [
    {
     "data": {
      "text/plain": [
       "<proposed_methodology.ProposedMethodology at 0x1c7330b1b50>"
      ]
     },
     "execution_count": 57,
     "metadata": {},
     "output_type": "execute_result"
    }
   ],
   "source": [
    "#Set the parameters for the experiment,\n",
    "#Two test years 2023, 2024\n",
    "#Four offset intervals 0, 90, 180, 360\n",
    "pm.set_params(test_years=[2023,2024], test_intervals=[0,90,180,360])"
   ]
  },
  {
   "cell_type": "markdown",
   "id": "285066ac-20ce-4b78-bddf-57e706913a65",
   "metadata": {},
   "source": [
    "## Dummy classifier\n",
    "It is useful to compare the results of each classifier to that of a dummy classifier."
   ]
  },
  {
   "cell_type": "code",
   "execution_count": 58,
   "id": "70e5fa9b-36dc-437a-be38-e428253b99cc",
   "metadata": {},
   "outputs": [],
   "source": [
    "scores_base = pm.dummy_results()"
   ]
  },
  {
   "cell_type": "code",
   "execution_count": 59,
   "id": "117ab246-a17c-4610-8ffc-c8243acacb32",
   "metadata": {},
   "outputs": [
    {
     "data": {
      "text/html": [
       "<div>\n",
       "<style scoped>\n",
       "    .dataframe tbody tr th:only-of-type {\n",
       "        vertical-align: middle;\n",
       "    }\n",
       "\n",
       "    .dataframe tbody tr th {\n",
       "        vertical-align: top;\n",
       "    }\n",
       "\n",
       "    .dataframe thead th {\n",
       "        text-align: right;\n",
       "    }\n",
       "</style>\n",
       "<table border=\"1\" class=\"dataframe\">\n",
       "  <thead>\n",
       "    <tr style=\"text-align: right;\">\n",
       "      <th></th>\n",
       "      <th>year</th>\n",
       "      <th>log_loss</th>\n",
       "      <th>roc_auc</th>\n",
       "    </tr>\n",
       "  </thead>\n",
       "  <tbody>\n",
       "    <tr>\n",
       "      <th>0</th>\n",
       "      <td>2023</td>\n",
       "      <td>0.145</td>\n",
       "      <td>0.5</td>\n",
       "    </tr>\n",
       "    <tr>\n",
       "      <th>1</th>\n",
       "      <td>2024</td>\n",
       "      <td>0.191</td>\n",
       "      <td>0.5</td>\n",
       "    </tr>\n",
       "  </tbody>\n",
       "</table>\n",
       "</div>"
      ],
      "text/plain": [
       "   year  log_loss  roc_auc\n",
       "0  2023     0.145      0.5\n",
       "1  2024     0.191      0.5"
      ]
     },
     "execution_count": 59,
     "metadata": {},
     "output_type": "execute_result"
    }
   ],
   "source": [
    "scores_base"
   ]
  },
  {
   "cell_type": "markdown",
   "id": "c66cf6d7-cddb-420c-a8f5-3c3eccf05f09",
   "metadata": {},
   "source": [
    "## Logistic Regression with Elastic Net"
   ]
  },
  {
   "cell_type": "code",
   "execution_count": 60,
   "id": "86b96baf-eed4-4f3a-83f0-1e1e7b83443b",
   "metadata": {},
   "outputs": [],
   "source": [
    "lren = LogisticRegression(random_state=0, penalty='elasticnet', solver='saga', n_jobs=n_jobs)"
   ]
  },
  {
   "cell_type": "code",
   "execution_count": 61,
   "id": "4ca769a7-dc17-4a2e-aead-82ed26052073",
   "metadata": {},
   "outputs": [],
   "source": [
    "#Parameter grid for the grid search with the logistic regression classifier\n",
    "cv_params_lren = {\n",
    "    \"estimator__clf__tol\": loguniform(b=1e-4, a=1e-8),\n",
    "    \"estimator__clf__C\": loguniform(b=1e1, a=1e-1),\n",
    "    \"estimator__clf__l1_ratio\": uniform(),\n",
    "    \"estimator__clf__max_iter\": [10000],\n",
    "    \"estimator__clf__fit_intercept\": [True]\n",
    "}"
   ]
  },
  {
   "cell_type": "code",
   "execution_count": 62,
   "id": "d151ca55-55de-45dd-b279-d5e31cc335e8",
   "metadata": {},
   "outputs": [
    {
     "name": "stdout",
     "output_type": "stream",
     "text": [
      "35.526586564381915\n"
     ]
    }
   ],
   "source": [
    "#Run the experiment for this classifier and print the time it took\n",
    "#Test 20 parameter combinations\n",
    "start = time.time()\n",
    "cls_results_lren, cls_means_lren, opt_params_lren = pm.probability_estimation(lren, cv_params_lren, 20, 5)\n",
    "end = time.time()\n",
    "print((end - start)/60)"
   ]
  },
  {
   "cell_type": "code",
   "execution_count": 63,
   "id": "57c37073-ee0d-4064-bb1d-6eea782f6318",
   "metadata": {},
   "outputs": [
    {
     "data": {
      "text/html": [
       "<div>\n",
       "<style scoped>\n",
       "    .dataframe tbody tr th:only-of-type {\n",
       "        vertical-align: middle;\n",
       "    }\n",
       "\n",
       "    .dataframe tbody tr th {\n",
       "        vertical-align: top;\n",
       "    }\n",
       "\n",
       "    .dataframe thead th {\n",
       "        text-align: right;\n",
       "    }\n",
       "</style>\n",
       "<table border=\"1\" class=\"dataframe\">\n",
       "  <thead>\n",
       "    <tr style=\"text-align: right;\">\n",
       "      <th></th>\n",
       "      <th>year</th>\n",
       "      <th>interval</th>\n",
       "      <th>log_loss</th>\n",
       "      <th>log_skill_score</th>\n",
       "      <th>roc_auc</th>\n",
       "    </tr>\n",
       "  </thead>\n",
       "  <tbody>\n",
       "    <tr>\n",
       "      <th>0</th>\n",
       "      <td>2023</td>\n",
       "      <td>0</td>\n",
       "      <td>0.102</td>\n",
       "      <td>0.297</td>\n",
       "      <td>0.884</td>\n",
       "    </tr>\n",
       "    <tr>\n",
       "      <th>1</th>\n",
       "      <td>2023</td>\n",
       "      <td>90</td>\n",
       "      <td>0.117</td>\n",
       "      <td>0.218</td>\n",
       "      <td>0.86</td>\n",
       "    </tr>\n",
       "    <tr>\n",
       "      <th>2</th>\n",
       "      <td>2023</td>\n",
       "      <td>180</td>\n",
       "      <td>0.135</td>\n",
       "      <td>0.128</td>\n",
       "      <td>0.847</td>\n",
       "    </tr>\n",
       "    <tr>\n",
       "      <th>3</th>\n",
       "      <td>2023</td>\n",
       "      <td>360</td>\n",
       "      <td>0.139</td>\n",
       "      <td>0.149</td>\n",
       "      <td>0.846</td>\n",
       "    </tr>\n",
       "    <tr>\n",
       "      <th>4</th>\n",
       "      <td>2024</td>\n",
       "      <td>0</td>\n",
       "      <td>0.116</td>\n",
       "      <td>0.395</td>\n",
       "      <td>0.914</td>\n",
       "    </tr>\n",
       "    <tr>\n",
       "      <th>5</th>\n",
       "      <td>2024</td>\n",
       "      <td>90</td>\n",
       "      <td>0.142</td>\n",
       "      <td>0.284</td>\n",
       "      <td>0.862</td>\n",
       "    </tr>\n",
       "    <tr>\n",
       "      <th>6</th>\n",
       "      <td>2024</td>\n",
       "      <td>180</td>\n",
       "      <td>0.169</td>\n",
       "      <td>0.17</td>\n",
       "      <td>0.867</td>\n",
       "    </tr>\n",
       "    <tr>\n",
       "      <th>7</th>\n",
       "      <td>2024</td>\n",
       "      <td>360</td>\n",
       "      <td>0.172</td>\n",
       "      <td>0.202</td>\n",
       "      <td>0.88</td>\n",
       "    </tr>\n",
       "  </tbody>\n",
       "</table>\n",
       "</div>"
      ],
      "text/plain": [
       "   year  interval  log_loss  log_skill_score  roc_auc\n",
       "0  2023         0     0.102            0.297    0.884\n",
       "1  2023        90     0.117            0.218     0.86\n",
       "2  2023       180     0.135            0.128    0.847\n",
       "3  2023       360     0.139            0.149    0.846\n",
       "4  2024         0     0.116            0.395    0.914\n",
       "5  2024        90     0.142            0.284    0.862\n",
       "6  2024       180     0.169             0.17    0.867\n",
       "7  2024       360     0.172            0.202     0.88"
      ]
     },
     "execution_count": 63,
     "metadata": {},
     "output_type": "execute_result"
    }
   ],
   "source": [
    "cls_means_lren"
   ]
  },
  {
   "cell_type": "markdown",
   "id": "c78b5b05-8e35-4245-b5d4-c03a1e8f3e75",
   "metadata": {},
   "source": [
    "## SVM"
   ]
  },
  {
   "cell_type": "code",
   "execution_count": 64,
   "id": "83604d0c-8e1a-4c5c-ac75-e2da1f72db24",
   "metadata": {},
   "outputs": [],
   "source": [
    "svm = SVC(random_state=0, kernel='rbf')"
   ]
  },
  {
   "cell_type": "code",
   "execution_count": 65,
   "id": "c63093d5-88aa-4c27-a7fc-8a850abca0ed",
   "metadata": {},
   "outputs": [],
   "source": [
    "#Parameter grid for the grid search with the SVM classifier\n",
    "cv_params_svm = {\n",
    "    \"estimator__clf__tol\": loguniform(b=1e-4, a=1e-8),\n",
    "    \"estimator__clf__C\": loguniform(b=1e1, a=1e-1),\n",
    "    \"estimator__clf__gamma\": loguniform(b=1e0, a=1e-8),\n",
    "    \"estimator__clf__max_iter\": [10000],\n",
    "}"
   ]
  },
  {
   "cell_type": "code",
   "execution_count": 66,
   "id": "0b03dc19-e7b3-4aac-b3b4-43971cba0eeb",
   "metadata": {},
   "outputs": [
    {
     "name": "stdout",
     "output_type": "stream",
     "text": [
      "10.495529425144195\n"
     ]
    }
   ],
   "source": [
    "#Run the experiment for this classifier and print the time it took\n",
    "#Test 20 parameter combinations\n",
    "start = time.time()\n",
    "cls_results_svm, cls_means_svm, opt_params_svm = pm.probability_estimation(svm, cv_params_svm, 20, 5)\n",
    "end = time.time()\n",
    "print((end - start)/60)"
   ]
  },
  {
   "cell_type": "code",
   "execution_count": 67,
   "id": "a66dc8af-5577-4f2c-ba1e-147914af0d8f",
   "metadata": {},
   "outputs": [
    {
     "data": {
      "text/html": [
       "<div>\n",
       "<style scoped>\n",
       "    .dataframe tbody tr th:only-of-type {\n",
       "        vertical-align: middle;\n",
       "    }\n",
       "\n",
       "    .dataframe tbody tr th {\n",
       "        vertical-align: top;\n",
       "    }\n",
       "\n",
       "    .dataframe thead th {\n",
       "        text-align: right;\n",
       "    }\n",
       "</style>\n",
       "<table border=\"1\" class=\"dataframe\">\n",
       "  <thead>\n",
       "    <tr style=\"text-align: right;\">\n",
       "      <th></th>\n",
       "      <th>year</th>\n",
       "      <th>interval</th>\n",
       "      <th>log_loss</th>\n",
       "      <th>log_skill_score</th>\n",
       "      <th>roc_auc</th>\n",
       "    </tr>\n",
       "  </thead>\n",
       "  <tbody>\n",
       "    <tr>\n",
       "      <th>0</th>\n",
       "      <td>2023</td>\n",
       "      <td>0</td>\n",
       "      <td>0.111</td>\n",
       "      <td>0.234</td>\n",
       "      <td>0.866</td>\n",
       "    </tr>\n",
       "    <tr>\n",
       "      <th>1</th>\n",
       "      <td>2023</td>\n",
       "      <td>90</td>\n",
       "      <td>0.132</td>\n",
       "      <td>0.121</td>\n",
       "      <td>0.821</td>\n",
       "    </tr>\n",
       "    <tr>\n",
       "      <th>2</th>\n",
       "      <td>2023</td>\n",
       "      <td>180</td>\n",
       "      <td>0.147</td>\n",
       "      <td>0.0478</td>\n",
       "      <td>0.712</td>\n",
       "    </tr>\n",
       "    <tr>\n",
       "      <th>3</th>\n",
       "      <td>2023</td>\n",
       "      <td>360</td>\n",
       "      <td>0.151</td>\n",
       "      <td>0.0695</td>\n",
       "      <td>0.722</td>\n",
       "    </tr>\n",
       "    <tr>\n",
       "      <th>4</th>\n",
       "      <td>2024</td>\n",
       "      <td>0</td>\n",
       "      <td>0.125</td>\n",
       "      <td>0.349</td>\n",
       "      <td>0.913</td>\n",
       "    </tr>\n",
       "    <tr>\n",
       "      <th>5</th>\n",
       "      <td>2024</td>\n",
       "      <td>90</td>\n",
       "      <td>0.161</td>\n",
       "      <td>0.193</td>\n",
       "      <td>0.834</td>\n",
       "    </tr>\n",
       "    <tr>\n",
       "      <th>6</th>\n",
       "      <td>2024</td>\n",
       "      <td>180</td>\n",
       "      <td>0.201</td>\n",
       "      <td>0.0165</td>\n",
       "      <td>0.712</td>\n",
       "    </tr>\n",
       "    <tr>\n",
       "      <th>7</th>\n",
       "      <td>2024</td>\n",
       "      <td>360</td>\n",
       "      <td>0.201</td>\n",
       "      <td>0.066</td>\n",
       "      <td>0.77</td>\n",
       "    </tr>\n",
       "  </tbody>\n",
       "</table>\n",
       "</div>"
      ],
      "text/plain": [
       "   year  interval  log_loss  log_skill_score  roc_auc\n",
       "0  2023         0     0.111            0.234    0.866\n",
       "1  2023        90     0.132            0.121    0.821\n",
       "2  2023       180     0.147           0.0478    0.712\n",
       "3  2023       360     0.151           0.0695    0.722\n",
       "4  2024         0     0.125            0.349    0.913\n",
       "5  2024        90     0.161            0.193    0.834\n",
       "6  2024       180     0.201           0.0165    0.712\n",
       "7  2024       360     0.201            0.066     0.77"
      ]
     },
     "execution_count": 67,
     "metadata": {},
     "output_type": "execute_result"
    }
   ],
   "source": [
    "cls_means_svm"
   ]
  },
  {
   "cell_type": "markdown",
   "id": "9cfe05b3-bf02-4661-b75c-f96645abf6db",
   "metadata": {},
   "source": [
    "## XGBoost"
   ]
  },
  {
   "cell_type": "code",
   "execution_count": 68,
   "id": "ac7955fa-7e79-450f-9496-c21307019252",
   "metadata": {},
   "outputs": [],
   "source": [
    "xgb = XGBClassifier(seed=0, booster='gbtree', objective='binary:logistic', eval_metric='logloss')"
   ]
  },
  {
   "cell_type": "code",
   "execution_count": 69,
   "id": "cce26c5f-bbca-49da-b4a9-ec8645402815",
   "metadata": {},
   "outputs": [],
   "source": [
    "#Parameter grid for the grid search with the XGBoost classifier\n",
    "cv_params_xgb = {\n",
    "    \"estimator__clf__n_estimators\": randint(100, 300),\n",
    "    \"estimator__clf__eta\": uniform(0, 0.3),\n",
    "    \"estimator__clf__min_child_weight\": randint(low=1, high=11),\n",
    "    \"estimator__clf__max_depth\": randint(low=2, high=11),\n",
    "    \"estimator__clf__gamma\": loguniform(1e-1, 1), \n",
    "    \"estimator__clf__lambda\": loguniform(0.1, 10), \n",
    "    \"estimator__clf__alpha\": loguniform(0.1, 10),\n",
    "    \"estimator__clf__subsample\": uniform(0.5, 0.5), \n",
    "    \"estimator__clf__colsample_bytree\": uniform(0.05, 0.20),\n",
    "    \"estimator__clf__colsample_bynode\": uniform(0.5, 0.5)\n",
    "}"
   ]
  },
  {
   "cell_type": "code",
   "execution_count": 70,
   "id": "8a268057-800a-491c-84b8-ac7573dee6f8",
   "metadata": {},
   "outputs": [
    {
     "name": "stdout",
     "output_type": "stream",
     "text": [
      "15.364194985230764\n"
     ]
    }
   ],
   "source": [
    "#Run the experiment for this classifier and print the time it took\n",
    "#Test 20 parameter combinations\n",
    "start = time.time()\n",
    "cls_results_xgb, cls_means_xgb, opt_params_xgb = pm.probability_estimation(xgb, cv_params_xgb, 20, 5)\n",
    "end = time.time()\n",
    "print((end - start)/60)"
   ]
  },
  {
   "cell_type": "code",
   "execution_count": 71,
   "id": "0cb89b9f-c28a-4348-861d-f1782c0c847a",
   "metadata": {},
   "outputs": [
    {
     "data": {
      "text/html": [
       "<div>\n",
       "<style scoped>\n",
       "    .dataframe tbody tr th:only-of-type {\n",
       "        vertical-align: middle;\n",
       "    }\n",
       "\n",
       "    .dataframe tbody tr th {\n",
       "        vertical-align: top;\n",
       "    }\n",
       "\n",
       "    .dataframe thead th {\n",
       "        text-align: right;\n",
       "    }\n",
       "</style>\n",
       "<table border=\"1\" class=\"dataframe\">\n",
       "  <thead>\n",
       "    <tr style=\"text-align: right;\">\n",
       "      <th></th>\n",
       "      <th>year</th>\n",
       "      <th>interval</th>\n",
       "      <th>log_loss</th>\n",
       "      <th>log_skill_score</th>\n",
       "      <th>roc_auc</th>\n",
       "    </tr>\n",
       "  </thead>\n",
       "  <tbody>\n",
       "    <tr>\n",
       "      <th>0</th>\n",
       "      <td>2023</td>\n",
       "      <td>0</td>\n",
       "      <td>0.121</td>\n",
       "      <td>0.167</td>\n",
       "      <td>0.855</td>\n",
       "    </tr>\n",
       "    <tr>\n",
       "      <th>1</th>\n",
       "      <td>2023</td>\n",
       "      <td>90</td>\n",
       "      <td>0.129</td>\n",
       "      <td>0.137</td>\n",
       "      <td>0.82</td>\n",
       "    </tr>\n",
       "    <tr>\n",
       "      <th>2</th>\n",
       "      <td>2023</td>\n",
       "      <td>180</td>\n",
       "      <td>0.138</td>\n",
       "      <td>0.107</td>\n",
       "      <td>0.802</td>\n",
       "    </tr>\n",
       "    <tr>\n",
       "      <th>3</th>\n",
       "      <td>2023</td>\n",
       "      <td>360</td>\n",
       "      <td>0.148</td>\n",
       "      <td>0.0884</td>\n",
       "      <td>0.768</td>\n",
       "    </tr>\n",
       "    <tr>\n",
       "      <th>4</th>\n",
       "      <td>2024</td>\n",
       "      <td>0</td>\n",
       "      <td>0.15</td>\n",
       "      <td>0.217</td>\n",
       "      <td>0.876</td>\n",
       "    </tr>\n",
       "    <tr>\n",
       "      <th>5</th>\n",
       "      <td>2024</td>\n",
       "      <td>90</td>\n",
       "      <td>0.166</td>\n",
       "      <td>0.166</td>\n",
       "      <td>0.841</td>\n",
       "    </tr>\n",
       "    <tr>\n",
       "      <th>6</th>\n",
       "      <td>2024</td>\n",
       "      <td>180</td>\n",
       "      <td>0.179</td>\n",
       "      <td>0.122</td>\n",
       "      <td>0.845</td>\n",
       "    </tr>\n",
       "    <tr>\n",
       "      <th>7</th>\n",
       "      <td>2024</td>\n",
       "      <td>360</td>\n",
       "      <td>0.193</td>\n",
       "      <td>0.105</td>\n",
       "      <td>0.837</td>\n",
       "    </tr>\n",
       "  </tbody>\n",
       "</table>\n",
       "</div>"
      ],
      "text/plain": [
       "   year  interval  log_loss  log_skill_score  roc_auc\n",
       "0  2023         0     0.121            0.167    0.855\n",
       "1  2023        90     0.129            0.137     0.82\n",
       "2  2023       180     0.138            0.107    0.802\n",
       "3  2023       360     0.148           0.0884    0.768\n",
       "4  2024         0      0.15            0.217    0.876\n",
       "5  2024        90     0.166            0.166    0.841\n",
       "6  2024       180     0.179            0.122    0.845\n",
       "7  2024       360     0.193            0.105    0.837"
      ]
     },
     "execution_count": 71,
     "metadata": {},
     "output_type": "execute_result"
    }
   ],
   "source": [
    "cls_means_xgb"
   ]
  },
  {
   "cell_type": "markdown",
   "id": "e7cc0dd5-3b43-463f-94f4-f9819ccac1bf",
   "metadata": {},
   "source": [
    "## Random Forest"
   ]
  },
  {
   "cell_type": "code",
   "execution_count": 72,
   "id": "00f89c78-339a-40f3-a80c-aca0f4938c12",
   "metadata": {},
   "outputs": [],
   "source": [
    "rf = RandomForestClassifier(random_state=0, n_jobs=n_jobs)"
   ]
  },
  {
   "cell_type": "code",
   "execution_count": 73,
   "id": "b058bb2d-d034-4ac2-a1f3-ac2247a81bf3",
   "metadata": {},
   "outputs": [],
   "source": [
    "#Parameter grid for the grid search with the RF classifier\n",
    "cv_params_rf = {\n",
    "    \"estimator__clf__n_estimators\": randint(100, 300),\n",
    "    \"estimator__clf__max_features\": randint(low=4, high=11),\n",
    "    \"estimator__clf__max_samples\": uniform(0.5, 0.5),\n",
    "    \"estimator__clf__max_depth\": randint(low=2, high=11),\n",
    "    \"estimator__clf__min_samples_split\": [2, 5, 10, 20],\n",
    "    \"estimator__clf__min_samples_leaf\": [1, 2, 5, 10]\n",
    "}"
   ]
  },
  {
   "cell_type": "code",
   "execution_count": 74,
   "id": "380d8b7f-5b32-49da-baf8-8b9cb0f62138",
   "metadata": {},
   "outputs": [
    {
     "name": "stdout",
     "output_type": "stream",
     "text": [
      "30.767000464598336\n"
     ]
    }
   ],
   "source": [
    "#Run the experiment for this classifier and print the time it took\n",
    "#Test 10 parameter combinations\n",
    "start = time.time()\n",
    "cls_results_rf, cls_means_rf, opt_params_rf = pm.probability_estimation(rf, cv_params_rf, 10, 5)\n",
    "end = time.time()\n",
    "print((end - start)/60)"
   ]
  },
  {
   "cell_type": "code",
   "execution_count": 75,
   "id": "df24f6c5-9d75-4b76-97c5-a60d75c1d6f2",
   "metadata": {},
   "outputs": [
    {
     "data": {
      "text/html": [
       "<div>\n",
       "<style scoped>\n",
       "    .dataframe tbody tr th:only-of-type {\n",
       "        vertical-align: middle;\n",
       "    }\n",
       "\n",
       "    .dataframe tbody tr th {\n",
       "        vertical-align: top;\n",
       "    }\n",
       "\n",
       "    .dataframe thead th {\n",
       "        text-align: right;\n",
       "    }\n",
       "</style>\n",
       "<table border=\"1\" class=\"dataframe\">\n",
       "  <thead>\n",
       "    <tr style=\"text-align: right;\">\n",
       "      <th></th>\n",
       "      <th>year</th>\n",
       "      <th>interval</th>\n",
       "      <th>log_loss</th>\n",
       "      <th>log_skill_score</th>\n",
       "      <th>roc_auc</th>\n",
       "    </tr>\n",
       "  </thead>\n",
       "  <tbody>\n",
       "    <tr>\n",
       "      <th>0</th>\n",
       "      <td>2023</td>\n",
       "      <td>0</td>\n",
       "      <td>0.113</td>\n",
       "      <td>0.224</td>\n",
       "      <td>0.845</td>\n",
       "    </tr>\n",
       "    <tr>\n",
       "      <th>1</th>\n",
       "      <td>2023</td>\n",
       "      <td>90</td>\n",
       "      <td>0.127</td>\n",
       "      <td>0.156</td>\n",
       "      <td>0.817</td>\n",
       "    </tr>\n",
       "    <tr>\n",
       "      <th>2</th>\n",
       "      <td>2023</td>\n",
       "      <td>180</td>\n",
       "      <td>0.138</td>\n",
       "      <td>0.108</td>\n",
       "      <td>0.762</td>\n",
       "    </tr>\n",
       "    <tr>\n",
       "      <th>3</th>\n",
       "      <td>2023</td>\n",
       "      <td>360</td>\n",
       "      <td>0.149</td>\n",
       "      <td>0.0838</td>\n",
       "      <td>0.752</td>\n",
       "    </tr>\n",
       "    <tr>\n",
       "      <th>4</th>\n",
       "      <td>2024</td>\n",
       "      <td>0</td>\n",
       "      <td>0.13</td>\n",
       "      <td>0.321</td>\n",
       "      <td>0.881</td>\n",
       "    </tr>\n",
       "    <tr>\n",
       "      <th>5</th>\n",
       "      <td>2024</td>\n",
       "      <td>90</td>\n",
       "      <td>0.161</td>\n",
       "      <td>0.191</td>\n",
       "      <td>0.836</td>\n",
       "    </tr>\n",
       "    <tr>\n",
       "      <th>6</th>\n",
       "      <td>2024</td>\n",
       "      <td>180</td>\n",
       "      <td>0.175</td>\n",
       "      <td>0.142</td>\n",
       "      <td>0.805</td>\n",
       "    </tr>\n",
       "    <tr>\n",
       "      <th>7</th>\n",
       "      <td>2024</td>\n",
       "      <td>360</td>\n",
       "      <td>0.192</td>\n",
       "      <td>0.108</td>\n",
       "      <td>0.803</td>\n",
       "    </tr>\n",
       "  </tbody>\n",
       "</table>\n",
       "</div>"
      ],
      "text/plain": [
       "   year  interval  log_loss  log_skill_score  roc_auc\n",
       "0  2023         0     0.113            0.224    0.845\n",
       "1  2023        90     0.127            0.156    0.817\n",
       "2  2023       180     0.138            0.108    0.762\n",
       "3  2023       360     0.149           0.0838    0.752\n",
       "4  2024         0      0.13            0.321    0.881\n",
       "5  2024        90     0.161            0.191    0.836\n",
       "6  2024       180     0.175            0.142    0.805\n",
       "7  2024       360     0.192            0.108    0.803"
      ]
     },
     "execution_count": 75,
     "metadata": {},
     "output_type": "execute_result"
    }
   ],
   "source": [
    "cls_means_rf"
   ]
  },
  {
   "cell_type": "markdown",
   "id": "028cdffa-f3b9-4bfb-89b3-5c00d110516d",
   "metadata": {},
   "source": [
    "## Artificial Neural Network"
   ]
  },
  {
   "cell_type": "code",
   "execution_count": 76,
   "id": "23398480-08a5-4965-b9b5-837ad9fe77d8",
   "metadata": {},
   "outputs": [],
   "source": [
    "ann = MLPClassifier(random_state=0, activation='relu', solver='adam')"
   ]
  },
  {
   "cell_type": "code",
   "execution_count": 77,
   "id": "b9cebdae-a3e3-463e-86a4-20e47cb219cc",
   "metadata": {},
   "outputs": [],
   "source": [
    "#Parameter grid for the grid search with the MLP classifier\n",
    "cv_params_ann = {\n",
    "    \"estimator__clf__hidden_layer_sizes\": [(100,), (100,50), (100,50,25)],\n",
    "    \"estimator__clf__alpha\": loguniform(b=1e1, a=1e-1),\n",
    "    \"estimator__clf__learning_rate_init\": [1e-3],\n",
    "    \"estimator__clf__max_iter\": [10000],\n",
    "    \"estimator__clf__tol\": loguniform(b=1e-3, a=1e-6),\n",
    "    \"estimator__clf__n_iter_no_change\": [10],\n",
    "    \"estimator__clf__beta_1\": uniform(0.85, 0.1),\n",
    "    \"estimator__clf__beta_2\": uniform(0.95, 0.05),\n",
    "    \"estimator__clf__epsilon\": loguniform(1e-8, 1e-4)\n",
    "}"
   ]
  },
  {
   "cell_type": "code",
   "execution_count": 78,
   "id": "ff21b36f-b468-4b13-a9fd-72bd6e4546f0",
   "metadata": {},
   "outputs": [
    {
     "name": "stdout",
     "output_type": "stream",
     "text": [
      "48.6344039440155\n"
     ]
    }
   ],
   "source": [
    "#Run the experiment for this classifier and print the time it took\n",
    "#Test 5 parameter combinations\n",
    "start = time.time()\n",
    "cls_results_ann, cls_means_ann, opt_params_ann = pm.probability_estimation(ann, cv_params_ann, 5, 5)\n",
    "end = time.time()\n",
    "print((end - start)/60)"
   ]
  },
  {
   "cell_type": "code",
   "execution_count": 79,
   "id": "1b9a6699-ca93-4abf-ba39-c194d282c2a6",
   "metadata": {},
   "outputs": [
    {
     "data": {
      "text/html": [
       "<div>\n",
       "<style scoped>\n",
       "    .dataframe tbody tr th:only-of-type {\n",
       "        vertical-align: middle;\n",
       "    }\n",
       "\n",
       "    .dataframe tbody tr th {\n",
       "        vertical-align: top;\n",
       "    }\n",
       "\n",
       "    .dataframe thead th {\n",
       "        text-align: right;\n",
       "    }\n",
       "</style>\n",
       "<table border=\"1\" class=\"dataframe\">\n",
       "  <thead>\n",
       "    <tr style=\"text-align: right;\">\n",
       "      <th></th>\n",
       "      <th>year</th>\n",
       "      <th>interval</th>\n",
       "      <th>log_loss</th>\n",
       "      <th>log_skill_score</th>\n",
       "      <th>roc_auc</th>\n",
       "    </tr>\n",
       "  </thead>\n",
       "  <tbody>\n",
       "    <tr>\n",
       "      <th>0</th>\n",
       "      <td>2023</td>\n",
       "      <td>0</td>\n",
       "      <td>0.113</td>\n",
       "      <td>0.219</td>\n",
       "      <td>0.865</td>\n",
       "    </tr>\n",
       "    <tr>\n",
       "      <th>1</th>\n",
       "      <td>2023</td>\n",
       "      <td>90</td>\n",
       "      <td>0.121</td>\n",
       "      <td>0.196</td>\n",
       "      <td>0.863</td>\n",
       "    </tr>\n",
       "    <tr>\n",
       "      <th>2</th>\n",
       "      <td>2023</td>\n",
       "      <td>180</td>\n",
       "      <td>0.136</td>\n",
       "      <td>0.122</td>\n",
       "      <td>0.855</td>\n",
       "    </tr>\n",
       "    <tr>\n",
       "      <th>3</th>\n",
       "      <td>2023</td>\n",
       "      <td>360</td>\n",
       "      <td>0.145</td>\n",
       "      <td>0.11</td>\n",
       "      <td>0.816</td>\n",
       "    </tr>\n",
       "    <tr>\n",
       "      <th>4</th>\n",
       "      <td>2024</td>\n",
       "      <td>0</td>\n",
       "      <td>0.122</td>\n",
       "      <td>0.361</td>\n",
       "      <td>0.916</td>\n",
       "    </tr>\n",
       "    <tr>\n",
       "      <th>5</th>\n",
       "      <td>2024</td>\n",
       "      <td>90</td>\n",
       "      <td>0.15</td>\n",
       "      <td>0.246</td>\n",
       "      <td>0.875</td>\n",
       "    </tr>\n",
       "    <tr>\n",
       "      <th>6</th>\n",
       "      <td>2024</td>\n",
       "      <td>180</td>\n",
       "      <td>0.176</td>\n",
       "      <td>0.14</td>\n",
       "      <td>0.855</td>\n",
       "    </tr>\n",
       "    <tr>\n",
       "      <th>7</th>\n",
       "      <td>2024</td>\n",
       "      <td>360</td>\n",
       "      <td>0.185</td>\n",
       "      <td>0.141</td>\n",
       "      <td>0.851</td>\n",
       "    </tr>\n",
       "  </tbody>\n",
       "</table>\n",
       "</div>"
      ],
      "text/plain": [
       "   year  interval  log_loss  log_skill_score  roc_auc\n",
       "0  2023         0     0.113            0.219    0.865\n",
       "1  2023        90     0.121            0.196    0.863\n",
       "2  2023       180     0.136            0.122    0.855\n",
       "3  2023       360     0.145             0.11    0.816\n",
       "4  2024         0     0.122            0.361    0.916\n",
       "5  2024        90      0.15            0.246    0.875\n",
       "6  2024       180     0.176             0.14    0.855\n",
       "7  2024       360     0.185            0.141    0.851"
      ]
     },
     "execution_count": 79,
     "metadata": {},
     "output_type": "execute_result"
    }
   ],
   "source": [
    "cls_means_ann"
   ]
  },
  {
   "cell_type": "markdown",
   "id": "8516644b-d14e-447f-97aa-b3b8f8ff6046",
   "metadata": {},
   "source": [
    "# Model Selection\n",
    "Now that we have experimental results for the 5 ML models, we must select one based on performance."
   ]
  },
  {
   "cell_type": "code",
   "execution_count": 80,
   "id": "bd74dfc0-cd10-446f-becd-30fc15f4fba2",
   "metadata": {},
   "outputs": [],
   "source": [
    "cls_results_cols = ['clf', 'year', 'interval', 'log_loss', 'log_skill_score', 'roc_auc']"
   ]
  },
  {
   "cell_type": "code",
   "execution_count": 81,
   "id": "5aff6254-dff7-4dbb-9a26-9af5978fee04",
   "metadata": {},
   "outputs": [],
   "source": [
    "#Combine all experimental results into one dataframe\n",
    "cls_results_lren.loc[:, 'clf'] = 'lren'\n",
    "cls_results_svm.loc[:, 'clf'] = 'svm'\n",
    "cls_results_xgb.loc[:, 'clf'] = 'xgb'\n",
    "cls_results_rf.loc[:, 'clf'] = 'rf'\n",
    "cls_results_ann.loc[:, 'clf'] = 'ann'\n",
    "\n",
    "cls_results = [cls_results_lren, cls_results_svm, cls_results_xgb, cls_results_rf, cls_results_ann]\n",
    "cls_results_all = pd.concat(cls_results, ignore_index=True).loc[:, cls_results_cols]"
   ]
  },
  {
   "cell_type": "code",
   "execution_count": 82,
   "id": "6c930f51-e988-4edd-aa77-9f4686dd3ef6",
   "metadata": {},
   "outputs": [],
   "source": [
    "cls_results_all.to_csv('RESULTS/classification_results_cvg_health_claims.csv', index=False)"
   ]
  },
  {
   "cell_type": "code",
   "execution_count": 83,
   "id": "e76658d3-715e-4b13-b734-6688170e80ca",
   "metadata": {},
   "outputs": [],
   "source": [
    "#Combine all mean results into one df\n",
    "cls_means_lren.loc[:, 'clf'] = 'lren'\n",
    "cls_means_svm.loc[:, 'clf'] = 'svm'\n",
    "cls_means_xgb.loc[:, 'clf'] = 'xgb'\n",
    "cls_means_rf.loc[:, 'clf'] = 'rf'\n",
    "cls_means_ann.loc[:, 'clf'] = 'ann'\n",
    "\n",
    "cls_means = [cls_means_lren, cls_means_svm, cls_means_xgb, cls_means_rf, cls_means_ann]\n",
    "cls_means_all = pd.concat(cls_means, ignore_index=True).loc[:, cls_results_cols]"
   ]
  },
  {
   "cell_type": "code",
   "execution_count": 84,
   "id": "f4d265dd-3e70-4402-89aa-c4ca6d238ccd",
   "metadata": {},
   "outputs": [],
   "source": [
    "cls_means_all.to_csv('RESULTS/classification_means_cvg_health_claims.csv', index=False)"
   ]
  },
  {
   "cell_type": "markdown",
   "id": "68c49294-091c-4f77-bcc3-0a6c5919df04",
   "metadata": {},
   "source": [
    "## Plots\n",
    "The classification results are plotted to identify the best model. We observe the log loss skill score and roc-auc metrics."
   ]
  },
  {
   "cell_type": "markdown",
   "id": "6505d065-453e-460a-bf14-98def31ba5b9",
   "metadata": {},
   "source": [
    "### 2023 test"
   ]
  },
  {
   "cell_type": "code",
   "execution_count": 85,
   "id": "793b78ec-1b97-4be0-a713-16e83b5e3965",
   "metadata": {},
   "outputs": [
    {
     "data": {
      "image/png": "[encoded data removed]",
      "text/plain": [
       "<Figure size 1000x600 with 1 Axes>"
      ]
     },
     "metadata": {},
     "output_type": "display_data"
    }
   ],
   "source": [
    "#Log loss skill score plot 2023 data\n",
    "fig, ax = plt.subplots(figsize=(10,6))\n",
    "query = 'year==2023'\n",
    "result = cls_results_all.query(query)\n",
    "sns.barplot(data=result, y='log_skill_score', x=result['clf'].str.upper(), \n",
    "            hue='interval', ax=ax, orient='v', palette='crest', errorbar='sd')\n",
    "ax.set_title('Log Skill Scores for the 2023 test using Coverage Information and Health Claims')\n",
    "ax.title.set_size(15)\n",
    "ax.legend(loc='upper center', title='interval')\n",
    "plt.show()"
   ]
  },
  {
   "cell_type": "code",
   "execution_count": 86,
   "id": "c5ebd7fb-ef21-4198-b46d-2ae317be0375",
   "metadata": {},
   "outputs": [
    {
     "data": {
      "image/png": "[encoded data removed]",
      "text/plain": [
       "<Figure size 1200x600 with 1 Axes>"
      ]
     },
     "metadata": {},
     "output_type": "display_data"
    }
   ],
   "source": [
    "#ROC-AUC plot 2023 data\n",
    "fig, ax = plt.subplots(figsize=(12,6))\n",
    "query = 'year==2023'\n",
    "result = cls_results_all.query(query).copy()\n",
    "sns.boxplot(data=result, y='roc_auc', x=result['clf'].str.upper(), hue='interval', ax=ax, orient='v', palette='crest')\n",
    "ax.set_title('ROC AUC scores for the 2023 test using Coverage Information and Health Claims')\n",
    "ax.title.set_size(15)\n",
    "ax.legend(loc='lower left', title='interval')\n",
    "plt.show()"
   ]
  },
  {
   "cell_type": "markdown",
   "id": "902af3b2-a7df-4c16-ad4a-2183e51f1cdc",
   "metadata": {},
   "source": [
    "### 2024 test"
   ]
  },
  {
   "cell_type": "code",
   "execution_count": 87,
   "id": "5566801a-d8a2-49b9-a707-cd06197ff86c",
   "metadata": {},
   "outputs": [
    {
     "data": {
      "image/png": "[encoded data removed]",
      "text/plain": [
       "<Figure size 1000x600 with 1 Axes>"
      ]
     },
     "metadata": {},
     "output_type": "display_data"
    }
   ],
   "source": [
    "#Log loss skill score plot 2024 data\n",
    "fig, ax = plt.subplots(figsize=(10,6))\n",
    "query = 'year==2024'\n",
    "result = cls_results_all.query(query)\n",
    "sns.barplot(data=result, y='log_skill_score', x=result['clf'].str.upper(), \n",
    "            hue='interval', ax=ax, orient='v', palette='flare', errorbar='sd')\n",
    "ax.set_title('Log Skill Scores for the 2024 test using Coverage Information and Health Claims')\n",
    "ax.title.set_size(15)\n",
    "ax.legend(loc='upper center', title='interval')\n",
    "plt.show()"
   ]
  },
  {
   "cell_type": "code",
   "execution_count": 88,
   "id": "bb4a229e-7da0-494f-aea7-98c601efab13",
   "metadata": {},
   "outputs": [
    {
     "data": {
      "image/png": "[encoded data removed]",
      "text/plain": [
       "<Figure size 1200x600 with 1 Axes>"
      ]
     },
     "metadata": {},
     "output_type": "display_data"
    }
   ],
   "source": [
    "#ROC-AUC plot 2024 data\n",
    "fig, ax = plt.subplots(figsize=(12,6))\n",
    "query = 'year==2024'\n",
    "result = cls_results_all.query(query).copy()\n",
    "sns.boxplot(data=result, y='roc_auc', x=result['clf'].str.upper(), hue='interval', ax=ax, orient='v', palette='flare')\n",
    "ax.set_title('ROC AUC scores for the 2024 test using Coverage Information and Health Claims')\n",
    "ax.title.set_size(15)\n",
    "ax.legend(loc='lower left', title='interval')\n",
    "plt.show()"
   ]
  },
  {
   "cell_type": "markdown",
   "id": "13d4cad9-cab7-41ea-8630-68872f9f9037",
   "metadata": {},
   "source": [
    "## Best mean results\n",
    "We also search the results dataframe to identify the model with the best mean log loss skill score in each experiment.\\\n",
    "It appears that the Logistic Regression with Elastic Net gave the best probability estimates in all cases."
   ]
  },
  {
   "cell_type": "code",
   "execution_count": 89,
   "id": "e5a2bb75-64d0-473e-8980-b42c5d4102d5",
   "metadata": {},
   "outputs": [],
   "source": [
    "def best_clf_res(group):\n",
    "    return group.loc[group['mean_log_skill'].idxmax(), :]\n",
    "\n",
    "cls_means_calc = cls_results_all.groupby(['year', 'interval', 'clf'])\\\n",
    "                                .agg(mean_log_skill = ('log_skill_score', 'mean'),\n",
    "                                     max_log_skill = ('log_skill_score', 'max'),\n",
    "                                     min_log_skill = ('log_skill_score', 'min'),\n",
    "                                     mean_auc = ('roc_auc', 'mean'),\n",
    "                                     max_auc = ('roc_auc', 'max'),\n",
    "                                     min_auc = ('roc_auc', 'min')\n",
    "                                ).reset_index()\n",
    "\n",
    "best_mean_scores = cls_means_calc.groupby(['year', 'interval'])\\\n",
    "                                 .apply(lambda g: best_clf_res(g), include_groups=False)\\\n",
    "                                 .reset_index()"
   ]
  },
  {
   "cell_type": "code",
   "execution_count": 90,
   "id": "29e642f5-b535-43b6-acd8-9bf5514b2060",
   "metadata": {},
   "outputs": [
    {
     "data": {
      "text/html": [
       "<div>\n",
       "<style scoped>\n",
       "    .dataframe tbody tr th:only-of-type {\n",
       "        vertical-align: middle;\n",
       "    }\n",
       "\n",
       "    .dataframe tbody tr th {\n",
       "        vertical-align: top;\n",
       "    }\n",
       "\n",
       "    .dataframe thead th {\n",
       "        text-align: right;\n",
       "    }\n",
       "</style>\n",
       "<table border=\"1\" class=\"dataframe\">\n",
       "  <thead>\n",
       "    <tr style=\"text-align: right;\">\n",
       "      <th></th>\n",
       "      <th>year</th>\n",
       "      <th>interval</th>\n",
       "      <th>clf</th>\n",
       "      <th>mean_log_skill</th>\n",
       "      <th>max_log_skill</th>\n",
       "      <th>min_log_skill</th>\n",
       "      <th>mean_auc</th>\n",
       "      <th>max_auc</th>\n",
       "      <th>min_auc</th>\n",
       "    </tr>\n",
       "  </thead>\n",
       "  <tbody>\n",
       "    <tr>\n",
       "      <th>0</th>\n",
       "      <td>2023</td>\n",
       "      <td>0</td>\n",
       "      <td>lren</td>\n",
       "      <td>0.297</td>\n",
       "      <td>0.307</td>\n",
       "      <td>0.283</td>\n",
       "      <td>0.884</td>\n",
       "      <td>0.886</td>\n",
       "      <td>0.881</td>\n",
       "    </tr>\n",
       "    <tr>\n",
       "      <th>1</th>\n",
       "      <td>2023</td>\n",
       "      <td>90</td>\n",
       "      <td>lren</td>\n",
       "      <td>0.218</td>\n",
       "      <td>0.234</td>\n",
       "      <td>0.195</td>\n",
       "      <td>0.86</td>\n",
       "      <td>0.865</td>\n",
       "      <td>0.855</td>\n",
       "    </tr>\n",
       "    <tr>\n",
       "      <th>2</th>\n",
       "      <td>2023</td>\n",
       "      <td>180</td>\n",
       "      <td>lren</td>\n",
       "      <td>0.128</td>\n",
       "      <td>0.146</td>\n",
       "      <td>0.0973</td>\n",
       "      <td>0.847</td>\n",
       "      <td>0.873</td>\n",
       "      <td>0.816</td>\n",
       "    </tr>\n",
       "    <tr>\n",
       "      <th>3</th>\n",
       "      <td>2023</td>\n",
       "      <td>360</td>\n",
       "      <td>lren</td>\n",
       "      <td>0.149</td>\n",
       "      <td>0.16</td>\n",
       "      <td>0.102</td>\n",
       "      <td>0.846</td>\n",
       "      <td>0.851</td>\n",
       "      <td>0.835</td>\n",
       "    </tr>\n",
       "    <tr>\n",
       "      <th>4</th>\n",
       "      <td>2024</td>\n",
       "      <td>0</td>\n",
       "      <td>lren</td>\n",
       "      <td>0.395</td>\n",
       "      <td>0.418</td>\n",
       "      <td>0.359</td>\n",
       "      <td>0.914</td>\n",
       "      <td>0.919</td>\n",
       "      <td>0.901</td>\n",
       "    </tr>\n",
       "    <tr>\n",
       "      <th>5</th>\n",
       "      <td>2024</td>\n",
       "      <td>90</td>\n",
       "      <td>lren</td>\n",
       "      <td>0.284</td>\n",
       "      <td>0.301</td>\n",
       "      <td>0.259</td>\n",
       "      <td>0.862</td>\n",
       "      <td>0.868</td>\n",
       "      <td>0.86</td>\n",
       "    </tr>\n",
       "    <tr>\n",
       "      <th>6</th>\n",
       "      <td>2024</td>\n",
       "      <td>180</td>\n",
       "      <td>lren</td>\n",
       "      <td>0.17</td>\n",
       "      <td>0.186</td>\n",
       "      <td>0.137</td>\n",
       "      <td>0.867</td>\n",
       "      <td>0.874</td>\n",
       "      <td>0.856</td>\n",
       "    </tr>\n",
       "    <tr>\n",
       "      <th>7</th>\n",
       "      <td>2024</td>\n",
       "      <td>360</td>\n",
       "      <td>lren</td>\n",
       "      <td>0.202</td>\n",
       "      <td>0.224</td>\n",
       "      <td>0.149</td>\n",
       "      <td>0.88</td>\n",
       "      <td>0.882</td>\n",
       "      <td>0.878</td>\n",
       "    </tr>\n",
       "  </tbody>\n",
       "</table>\n",
       "</div>"
      ],
      "text/plain": [
       "   year  interval   clf  mean_log_skill  max_log_skill  min_log_skill  mean_auc  max_auc  min_auc\n",
       "0  2023         0  lren           0.297          0.307          0.283     0.884    0.886    0.881\n",
       "1  2023        90  lren           0.218          0.234          0.195      0.86    0.865    0.855\n",
       "2  2023       180  lren           0.128          0.146         0.0973     0.847    0.873    0.816\n",
       "3  2023       360  lren           0.149           0.16          0.102     0.846    0.851    0.835\n",
       "4  2024         0  lren           0.395          0.418          0.359     0.914    0.919    0.901\n",
       "5  2024        90  lren           0.284          0.301          0.259     0.862    0.868     0.86\n",
       "6  2024       180  lren            0.17          0.186          0.137     0.867    0.874    0.856\n",
       "7  2024       360  lren           0.202          0.224          0.149      0.88    0.882    0.878"
      ]
     },
     "execution_count": 90,
     "metadata": {},
     "output_type": "execute_result"
    }
   ],
   "source": [
    "best_mean_scores"
   ]
  },
  {
   "cell_type": "code",
   "execution_count": 91,
   "id": "7e482c85-ff81-43d9-b59f-6d8f4b392b79",
   "metadata": {},
   "outputs": [],
   "source": [
    "best_mean_scores.to_csv('RESULTS/best_model_cvg_health_claims.csv', index=False)"
   ]
  },
  {
   "cell_type": "markdown",
   "id": "97c4504d-70ac-478b-acdb-bd2faa79980d",
   "metadata": {},
   "source": [
    "## Demonstration of feature importance\n",
    "Using the best model - the Logistic Regression with Elastic Net, we can now experiment with feature importance analysis. \\\n",
    "These are limited experiments using only the 0 day offset interval. Feature importances are scored 50 times and averaged. \\\n",
    "Also, note that calibrated classifiers use ensemble estimators. Feature importances are extracted from each submodel in the ensemble."
   ]
  },
  {
   "cell_type": "markdown",
   "id": "cfbaab6f-ff06-4e96-8c46-fc10c02a41c7",
   "metadata": {},
   "source": [
    "### 2023 test"
   ]
  },
  {
   "cell_type": "code",
   "execution_count": 92,
   "id": "fbcdc3b2-049c-4c3f-b48c-70fd24f624e2",
   "metadata": {},
   "outputs": [
    {
     "name": "stdout",
     "output_type": "stream",
     "text": [
      "10.426748526096343\n"
     ]
    }
   ],
   "source": [
    "pm.set_params(year=2023, interval=0) #Set parameters for the experiment\n",
    "fi_scores_23 = pd.DataFrame(columns=model_cols)\n",
    "start = time.time()\n",
    "for i in range(0, 50, 1): #Repeat 50 times\n",
    "    best_clf = pm.get_best_estimator(lren, cv_params_lren, 20, 5) #Get an optimised LREN clf\n",
    "    #The estimator is an ensemble so we need to extract feature importances from each submodel\n",
    "    for submodel in best_clf:\n",
    "        submodel_fi = submodel.estimator['clf'].coef_[0]\n",
    "        fi_score = pd.Series(data=submodel_fi, index=model_cols) #Extract feature importance scores\n",
    "        fi_scores_23.loc[len(fi_scores_23), :] = fi_score\n",
    "end = time.time()\n",
    "print((end - start)/60)"
   ]
  },
  {
   "cell_type": "code",
   "execution_count": 93,
   "id": "1347433d-ac07-45ba-8356-bcd09a90e55f",
   "metadata": {},
   "outputs": [
    {
     "data": {
      "text/plain": [
       "(250, 46)"
      ]
     },
     "execution_count": 93,
     "metadata": {},
     "output_type": "execute_result"
    }
   ],
   "source": [
    "fi_scores_23.shape"
   ]
  },
  {
   "cell_type": "code",
   "execution_count": 94,
   "id": "a9116b36-8db0-4ec8-ae26-eccfee51cb9a",
   "metadata": {},
   "outputs": [
    {
     "data": {
      "image/png": "[encoded data removed]",
      "text/plain": [
       "<Figure size 800x1200 with 1 Axes>"
      ]
     },
     "metadata": {},
     "output_type": "display_data"
    }
   ],
   "source": [
    "#Average the feature importance scores across the runs and plot\n",
    "fig, ax = plt.subplots(figsize=(8,12))\n",
    "feat_order = fi_scores_23.mean().sort_values(key=abs, ascending=False).index.values\n",
    "sns.barplot(data=fi_scores_23, ax=ax, orient='h', color='salmon', errorbar='sd', order=feat_order)\n",
    "ax.set_title('Feature importance analysis for the 2023 test using coverage information and health claims')\n",
    "ax.title.set_size(12)\n",
    "plt.yticks(fontsize=9)\n",
    "plt.show()"
   ]
  },
  {
   "cell_type": "markdown",
   "id": "3ebfdbfe-05fc-46c2-ad8b-8fbe7044c36e",
   "metadata": {},
   "source": [
    "### 2024 test"
   ]
  },
  {
   "cell_type": "code",
   "execution_count": 95,
   "id": "1722afa5-d8a0-419d-92fb-7a1e132b89fe",
   "metadata": {},
   "outputs": [
    {
     "name": "stdout",
     "output_type": "stream",
     "text": [
      "12.461459823449452\n"
     ]
    }
   ],
   "source": [
    "pm.set_params(year=2024, interval=0) #Set parameters for the experiment\n",
    "fi_scores_24 = pd.DataFrame(columns=model_cols)\n",
    "start = time.time()\n",
    "for i in range(0, 50, 1): #Repeat 50 times\n",
    "    best_clf = pm.get_best_estimator(lren, cv_params_lren, 20, 5) #Get an optimised LREN clf\n",
    "    #The estimator is an ensemble so we need to extract feature importances from each submodel\n",
    "    for submodel in best_clf:\n",
    "        submodel_fi = submodel.estimator['clf'].coef_[0]\n",
    "        fi_score = pd.Series(data=submodel_fi, index=model_cols) #Extract feature importance scores\n",
    "        fi_scores_24.loc[len(fi_scores_24), :] = fi_score\n",
    "end = time.time()\n",
    "print((end - start)/60)"
   ]
  },
  {
   "cell_type": "code",
   "execution_count": 96,
   "id": "3ec9276a-4d62-495f-a59e-b6494c02a3e9",
   "metadata": {},
   "outputs": [
    {
     "data": {
      "text/plain": [
       "(250, 46)"
      ]
     },
     "execution_count": 96,
     "metadata": {},
     "output_type": "execute_result"
    }
   ],
   "source": [
    "fi_scores_24.shape"
   ]
  },
  {
   "cell_type": "code",
   "execution_count": 97,
   "id": "b3ad9ab2-5586-4e0c-a9b2-626633cf8659",
   "metadata": {},
   "outputs": [
    {
     "data": {
      "image/png": "[encoded data removed]",
      "text/plain": [
       "<Figure size 800x1200 with 1 Axes>"
      ]
     },
     "metadata": {},
     "output_type": "display_data"
    }
   ],
   "source": [
    "#Average the feature importance scores across the runs and plot\n",
    "fig, ax = plt.subplots(figsize=(8,12))\n",
    "feat_order = fi_scores_24.mean().sort_values(key=abs, ascending=False).index.values\n",
    "sns.barplot(data=fi_scores_24, ax=ax, orient='h', color='cyan', errorbar='sd', order=feat_order)\n",
    "ax.set_title('Feature importance analysis for the 2024 test using coverage information and health claims')\n",
    "ax.title.set_size(12)\n",
    "plt.yticks(fontsize=9)\n",
    "plt.show()"
   ]
  },
  {
   "cell_type": "markdown",
   "id": "7a134936-ca8b-40a4-93e3-eaea5884d79f",
   "metadata": {},
   "source": [
    "# Rank Score\n",
    "Lastly, the best performing model - the Logistic Regression with Elastic Net - is used to produce probability estimates for the coverages. These are then ranked in order of risk. Precision-at-K (PAK) and Recall-at-K (RAK) analysis is then performed. The experiment is repeated 20 times for numberical stability."
   ]
  },
  {
   "cell_type": "code",
   "execution_count": 98,
   "id": "698512f3-3e49-466e-bccc-3f142cc058a0",
   "metadata": {},
   "outputs": [
    {
     "name": "stdout",
     "output_type": "stream",
     "text": [
      "31.889781868457796\n"
     ]
    }
   ],
   "source": [
    "pm.set_params(test_years=[2023,2024], test_intervals=[0,90,180,360])\n",
    "start = time.time()\n",
    "ranking_results, mean_ranking_results = pm.repeated_ranking_analysis(lren, cv_params_lren, 20, 5, runs=20)\n",
    "end = time.time()\n",
    "print((end - start)/60)"
   ]
  },
  {
   "cell_type": "code",
   "execution_count": 99,
   "id": "fe4948d2-6385-4e50-964a-b6613f306339",
   "metadata": {},
   "outputs": [
    {
     "name": "stdout",
     "output_type": "stream",
     "text": [
      "(480, 6) (24, 6)\n"
     ]
    }
   ],
   "source": [
    "print(ranking_results.shape, mean_ranking_results.shape)"
   ]
  },
  {
   "cell_type": "code",
   "execution_count": 100,
   "id": "ba7bfcf9-c103-4563-9f3d-7fe3bb1f0dc4",
   "metadata": {},
   "outputs": [],
   "source": [
    "ranking_results.to_csv('RESULTS/ranking_results_cvg_health_claims.csv', index=False)"
   ]
  },
  {
   "cell_type": "code",
   "execution_count": 101,
   "id": "8a0017bc-8b7e-4eb7-81fd-f941d12ef125",
   "metadata": {},
   "outputs": [],
   "source": [
    "mean_ranking_results.to_csv('RESULTS/mean_ranking_results_cvg_health_claims.csv', index=False)"
   ]
  },
  {
   "cell_type": "markdown",
   "id": "4ea72ebf-3a51-4b15-9e53-86e988cc0b9d",
   "metadata": {},
   "source": [
    "## 2023 test\n",
    "Plots of the ranking analysis of the 2023 test."
   ]
  },
  {
   "cell_type": "code",
   "execution_count": 102,
   "id": "5e48207f-f8a3-4309-b538-7eb55a5b6d75",
   "metadata": {},
   "outputs": [
    {
     "data": {
      "text/html": [
       "<div>\n",
       "<style scoped>\n",
       "    .dataframe tbody tr th:only-of-type {\n",
       "        vertical-align: middle;\n",
       "    }\n",
       "\n",
       "    .dataframe tbody tr th {\n",
       "        vertical-align: top;\n",
       "    }\n",
       "\n",
       "    .dataframe thead th {\n",
       "        text-align: right;\n",
       "    }\n",
       "</style>\n",
       "<table border=\"1\" class=\"dataframe\">\n",
       "  <thead>\n",
       "    <tr style=\"text-align: right;\">\n",
       "      <th></th>\n",
       "      <th>year</th>\n",
       "      <th>interval</th>\n",
       "      <th>id</th>\n",
       "      <th>k</th>\n",
       "      <th>precision_at_k</th>\n",
       "      <th>recall_at_k</th>\n",
       "    </tr>\n",
       "  </thead>\n",
       "  <tbody>\n",
       "    <tr>\n",
       "      <th>1</th>\n",
       "      <td>2023</td>\n",
       "      <td>0</td>\n",
       "      <td>Top10</td>\n",
       "      <td>10</td>\n",
       "      <td>0.645</td>\n",
       "      <td>0.358</td>\n",
       "    </tr>\n",
       "    <tr>\n",
       "      <th>2</th>\n",
       "      <td>2023</td>\n",
       "      <td>0</td>\n",
       "      <td>Top20</td>\n",
       "      <td>20</td>\n",
       "      <td>0.4</td>\n",
       "      <td>0.444</td>\n",
       "    </tr>\n",
       "    <tr>\n",
       "      <th>0</th>\n",
       "      <td>2023</td>\n",
       "      <td>0</td>\n",
       "      <td>Claim Rate</td>\n",
       "      <td>24</td>\n",
       "      <td>0.362</td>\n",
       "      <td>0.483</td>\n",
       "    </tr>\n",
       "    <tr>\n",
       "      <th>4</th>\n",
       "      <td>2023</td>\n",
       "      <td>90</td>\n",
       "      <td>Top10</td>\n",
       "      <td>10</td>\n",
       "      <td>0.595</td>\n",
       "      <td>0.331</td>\n",
       "    </tr>\n",
       "    <tr>\n",
       "      <th>5</th>\n",
       "      <td>2023</td>\n",
       "      <td>90</td>\n",
       "      <td>Top20</td>\n",
       "      <td>20</td>\n",
       "      <td>0.41</td>\n",
       "      <td>0.456</td>\n",
       "    </tr>\n",
       "    <tr>\n",
       "      <th>3</th>\n",
       "      <td>2023</td>\n",
       "      <td>90</td>\n",
       "      <td>Claim Rate</td>\n",
       "      <td>23</td>\n",
       "      <td>0.38</td>\n",
       "      <td>0.486</td>\n",
       "    </tr>\n",
       "    <tr>\n",
       "      <th>7</th>\n",
       "      <td>2023</td>\n",
       "      <td>180</td>\n",
       "      <td>Top10</td>\n",
       "      <td>10</td>\n",
       "      <td>0.2</td>\n",
       "      <td>0.111</td>\n",
       "    </tr>\n",
       "    <tr>\n",
       "      <th>8</th>\n",
       "      <td>2023</td>\n",
       "      <td>180</td>\n",
       "      <td>Top20</td>\n",
       "      <td>20</td>\n",
       "      <td>0.223</td>\n",
       "      <td>0.247</td>\n",
       "    </tr>\n",
       "    <tr>\n",
       "      <th>6</th>\n",
       "      <td>2023</td>\n",
       "      <td>180</td>\n",
       "      <td>Claim Rate</td>\n",
       "      <td>22</td>\n",
       "      <td>0.239</td>\n",
       "      <td>0.292</td>\n",
       "    </tr>\n",
       "    <tr>\n",
       "      <th>10</th>\n",
       "      <td>2023</td>\n",
       "      <td>360</td>\n",
       "      <td>Top10</td>\n",
       "      <td>10</td>\n",
       "      <td>0.29</td>\n",
       "      <td>0.161</td>\n",
       "    </tr>\n",
       "    <tr>\n",
       "      <th>9</th>\n",
       "      <td>2023</td>\n",
       "      <td>360</td>\n",
       "      <td>Claim Rate</td>\n",
       "      <td>20</td>\n",
       "      <td>0.247</td>\n",
       "      <td>0.275</td>\n",
       "    </tr>\n",
       "    <tr>\n",
       "      <th>11</th>\n",
       "      <td>2023</td>\n",
       "      <td>360</td>\n",
       "      <td>Top20</td>\n",
       "      <td>20</td>\n",
       "      <td>0.247</td>\n",
       "      <td>0.275</td>\n",
       "    </tr>\n",
       "  </tbody>\n",
       "</table>\n",
       "</div>"
      ],
      "text/plain": [
       "    year  interval          id   k  precision_at_k  recall_at_k\n",
       "1   2023         0       Top10  10           0.645        0.358\n",
       "2   2023         0       Top20  20             0.4        0.444\n",
       "0   2023         0  Claim Rate  24           0.362        0.483\n",
       "4   2023        90       Top10  10           0.595        0.331\n",
       "5   2023        90       Top20  20            0.41        0.456\n",
       "3   2023        90  Claim Rate  23            0.38        0.486\n",
       "7   2023       180       Top10  10             0.2        0.111\n",
       "8   2023       180       Top20  20           0.223        0.247\n",
       "6   2023       180  Claim Rate  22           0.239        0.292\n",
       "10  2023       360       Top10  10            0.29        0.161\n",
       "9   2023       360  Claim Rate  20           0.247        0.275\n",
       "11  2023       360       Top20  20           0.247        0.275"
      ]
     },
     "execution_count": 102,
     "metadata": {},
     "output_type": "execute_result"
    }
   ],
   "source": [
    "mean_ranking_results.query('year==2023').sort_values(by=['interval', 'k'])"
   ]
  },
  {
   "cell_type": "code",
   "execution_count": 103,
   "id": "45d891cc-6c61-42c3-8ef9-dba480eb0b4f",
   "metadata": {},
   "outputs": [
    {
     "data": {
      "image/png": "[encoded data removed]",
      "text/plain": [
       "<Figure size 1200x500 with 2 Axes>"
      ]
     },
     "metadata": {},
     "output_type": "display_data"
    }
   ],
   "source": [
    "fig, (ax1, ax2) = plt.subplots(1, 2, figsize=(12,5))\n",
    "query = 'year==2023'\n",
    "result = ranking_results.query(query).copy()\n",
    "#Precision-at-k plot\n",
    "sns.barplot(data=result, y='precision_at_k', x='id', hue='interval', ax=ax1, orient='v', errorbar='sd', palette='crest')\n",
    "ax1.set_title('Precision-at-k for the 2023 test using CVG and Health Claims')\n",
    "ax1.title.set_size(12)\n",
    "ax1.set_xlabel('')\n",
    "ax1.legend(loc='upper right', title='interval')\n",
    "#Recall-at-k plot\n",
    "sns.barplot(data=result, y='recall_at_k', x='id', hue='interval', ax=ax2, orient='v', errorbar='sd', palette='crest')\n",
    "ax2.set_title('Recall-at-K for the 2023 test using CVG and Health Claims')\n",
    "ax2.title.set_size(12)\n",
    "ax2.set_xlabel('')\n",
    "ax2.get_legend().remove()\n",
    "plt.show()"
   ]
  },
  {
   "cell_type": "markdown",
   "id": "9f0fbc37-c683-464a-a466-9012c1a796f3",
   "metadata": {},
   "source": [
    "## 2024 test\n",
    "Plots of the ranking analysis of the 2024 test."
   ]
  },
  {
   "cell_type": "code",
   "execution_count": 104,
   "id": "d3f8c029-77cc-4be7-ab2c-9494db23cd8f",
   "metadata": {},
   "outputs": [
    {
     "data": {
      "text/html": [
       "<div>\n",
       "<style scoped>\n",
       "    .dataframe tbody tr th:only-of-type {\n",
       "        vertical-align: middle;\n",
       "    }\n",
       "\n",
       "    .dataframe tbody tr th {\n",
       "        vertical-align: top;\n",
       "    }\n",
       "\n",
       "    .dataframe thead th {\n",
       "        text-align: right;\n",
       "    }\n",
       "</style>\n",
       "<table border=\"1\" class=\"dataframe\">\n",
       "  <thead>\n",
       "    <tr style=\"text-align: right;\">\n",
       "      <th></th>\n",
       "      <th>year</th>\n",
       "      <th>interval</th>\n",
       "      <th>id</th>\n",
       "      <th>k</th>\n",
       "      <th>precision_at_k</th>\n",
       "      <th>recall_at_k</th>\n",
       "    </tr>\n",
       "  </thead>\n",
       "  <tbody>\n",
       "    <tr>\n",
       "      <th>12</th>\n",
       "      <td>2024</td>\n",
       "      <td>0</td>\n",
       "      <td>Claim Rate</td>\n",
       "      <td>10</td>\n",
       "      <td>0.6</td>\n",
       "      <td>0.5</td>\n",
       "    </tr>\n",
       "    <tr>\n",
       "      <th>13</th>\n",
       "      <td>2024</td>\n",
       "      <td>0</td>\n",
       "      <td>Top10</td>\n",
       "      <td>10</td>\n",
       "      <td>0.6</td>\n",
       "      <td>0.5</td>\n",
       "    </tr>\n",
       "    <tr>\n",
       "      <th>14</th>\n",
       "      <td>2024</td>\n",
       "      <td>0</td>\n",
       "      <td>Top20</td>\n",
       "      <td>20</td>\n",
       "      <td>0.478</td>\n",
       "      <td>0.796</td>\n",
       "    </tr>\n",
       "    <tr>\n",
       "      <th>15</th>\n",
       "      <td>2024</td>\n",
       "      <td>90</td>\n",
       "      <td>Claim Rate</td>\n",
       "      <td>10</td>\n",
       "      <td>0.6</td>\n",
       "      <td>0.5</td>\n",
       "    </tr>\n",
       "    <tr>\n",
       "      <th>16</th>\n",
       "      <td>2024</td>\n",
       "      <td>90</td>\n",
       "      <td>Top10</td>\n",
       "      <td>10</td>\n",
       "      <td>0.6</td>\n",
       "      <td>0.5</td>\n",
       "    </tr>\n",
       "    <tr>\n",
       "      <th>17</th>\n",
       "      <td>2024</td>\n",
       "      <td>90</td>\n",
       "      <td>Top20</td>\n",
       "      <td>20</td>\n",
       "      <td>0.4</td>\n",
       "      <td>0.667</td>\n",
       "    </tr>\n",
       "    <tr>\n",
       "      <th>18</th>\n",
       "      <td>2024</td>\n",
       "      <td>180</td>\n",
       "      <td>Claim Rate</td>\n",
       "      <td>9</td>\n",
       "      <td>0.444</td>\n",
       "      <td>0.333</td>\n",
       "    </tr>\n",
       "    <tr>\n",
       "      <th>19</th>\n",
       "      <td>2024</td>\n",
       "      <td>180</td>\n",
       "      <td>Top10</td>\n",
       "      <td>10</td>\n",
       "      <td>0.415</td>\n",
       "      <td>0.346</td>\n",
       "    </tr>\n",
       "    <tr>\n",
       "      <th>20</th>\n",
       "      <td>2024</td>\n",
       "      <td>180</td>\n",
       "      <td>Top20</td>\n",
       "      <td>20</td>\n",
       "      <td>0.35</td>\n",
       "      <td>0.583</td>\n",
       "    </tr>\n",
       "    <tr>\n",
       "      <th>21</th>\n",
       "      <td>2024</td>\n",
       "      <td>360</td>\n",
       "      <td>Claim Rate</td>\n",
       "      <td>9</td>\n",
       "      <td>0.444</td>\n",
       "      <td>0.333</td>\n",
       "    </tr>\n",
       "    <tr>\n",
       "      <th>22</th>\n",
       "      <td>2024</td>\n",
       "      <td>360</td>\n",
       "      <td>Top10</td>\n",
       "      <td>10</td>\n",
       "      <td>0.405</td>\n",
       "      <td>0.338</td>\n",
       "    </tr>\n",
       "    <tr>\n",
       "      <th>23</th>\n",
       "      <td>2024</td>\n",
       "      <td>360</td>\n",
       "      <td>Top20</td>\n",
       "      <td>20</td>\n",
       "      <td>0.355</td>\n",
       "      <td>0.592</td>\n",
       "    </tr>\n",
       "  </tbody>\n",
       "</table>\n",
       "</div>"
      ],
      "text/plain": [
       "    year  interval          id   k  precision_at_k  recall_at_k\n",
       "12  2024         0  Claim Rate  10             0.6          0.5\n",
       "13  2024         0       Top10  10             0.6          0.5\n",
       "14  2024         0       Top20  20           0.478        0.796\n",
       "15  2024        90  Claim Rate  10             0.6          0.5\n",
       "16  2024        90       Top10  10             0.6          0.5\n",
       "17  2024        90       Top20  20             0.4        0.667\n",
       "18  2024       180  Claim Rate   9           0.444        0.333\n",
       "19  2024       180       Top10  10           0.415        0.346\n",
       "20  2024       180       Top20  20            0.35        0.583\n",
       "21  2024       360  Claim Rate   9           0.444        0.333\n",
       "22  2024       360       Top10  10           0.405        0.338\n",
       "23  2024       360       Top20  20           0.355        0.592"
      ]
     },
     "execution_count": 104,
     "metadata": {},
     "output_type": "execute_result"
    }
   ],
   "source": [
    "mean_ranking_results.query('year==2024').sort_values(by=['interval', 'k'])"
   ]
  },
  {
   "cell_type": "code",
   "execution_count": 105,
   "id": "0ef71334-a000-48ac-95a6-caf91886e9e7",
   "metadata": {},
   "outputs": [
    {
     "data": {
      "image/png": "[encoded data removed]",
      "text/plain": [
       "<Figure size 1200x500 with 2 Axes>"
      ]
     },
     "metadata": {},
     "output_type": "display_data"
    }
   ],
   "source": [
    "fig, (ax1, ax2) = plt.subplots(1, 2, figsize=(12,5))\n",
    "query = 'year==2024'\n",
    "result = ranking_results.query(query).copy()\n",
    "#Precision-at-k plot\n",
    "sns.barplot(data=result, y='precision_at_k', x='id', hue='interval', ax=ax1, orient='v', errorbar='sd', palette='flare')\n",
    "ax1.set_title('Precision-at-k for the 2024 test using CVG and Health Claims')\n",
    "ax1.title.set_size(12)\n",
    "ax1.get_legend().remove()\n",
    "ax1.set_xlabel('')\n",
    "#Recall-at-k plot\n",
    "sns.barplot(data=result, y='recall_at_k', x='id', hue='interval', ax=ax2, orient='v', errorbar='sd', palette='flare')\n",
    "ax2.set_title('Recall-at-K for the 2024 test using CVG and Health Claims')\n",
    "ax2.title.set_size(12)\n",
    "ax2.set_xlabel('')\n",
    "plt.show()"
   ]
  },
  {
   "cell_type": "code",
   "execution_count": null,
   "id": "3146c9ae-525f-42a5-9476-98c62f2cdf75",
   "metadata": {},
   "outputs": [],
   "source": []
  }
 ],
 "metadata": {
  "kernelspec": {
   "display_name": "Python 3 (ipykernel)",
   "language": "python",
   "name": "python3"
  },
  "language_info": {
   "codemirror_mode": {
    "name": "ipython",
    "version": 3
   },
   "file_extension": ".py",
   "mimetype": "text/x-python",
   "name": "python",
   "nbconvert_exporter": "python",
   "pygments_lexer": "ipython3",
   "version": "3.12.7"
  }
 },
 "nbformat": 4,
 "nbformat_minor": 5
}
