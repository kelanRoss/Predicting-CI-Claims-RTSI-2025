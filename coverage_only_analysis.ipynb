{
 "cells": [
  {
   "cell_type": "markdown",
   "id": "b34d5942-8303-4759-b77d-8105e7e6221a",
   "metadata": {},
   "source": [
    "MSc Data Science Thesis code. \\\n",
    "Predicting the probability of critical illness insurance claims as a form of noncommunicable disease management. \\\n",
    "This is the first of two notebooks demonstrating the application of the proposed approach. \\\n",
    "Details of the proposed approach can be found in the proposed_methodology.py script. \\\n",
    "In this notebook, critical illness claims are modelled using critical illness insurance coverage information and client demographic information only."
   ]
  },
  {
   "cell_type": "markdown",
   "id": "e3a97988-2a21-4c72-8848-831ebea3d388",
   "metadata": {},
   "source": [
    "# Project Set up"
   ]
  },
  {
   "cell_type": "code",
   "execution_count": 1,
   "id": "e6a50bd6-0db9-4e92-bfcb-9a389ccd0c09",
   "metadata": {},
   "outputs": [],
   "source": [
    "%load_ext autoreload\n",
    "%autoreload 1"
   ]
  },
  {
   "cell_type": "code",
   "execution_count": 2,
   "id": "efa3d618-c6b8-4233-95ff-7394e941a9bc",
   "metadata": {
    "tags": []
   },
   "outputs": [],
   "source": [
    "import pandas as pd\n",
    "import numpy as np\n",
    "import seaborn as sns\n",
    "import matplotlib.pyplot as plt\n",
    "import time\n",
    "from dateutil.relativedelta import relativedelta\n",
    "from scipy.stats import randint, loguniform, uniform"
   ]
  },
  {
   "cell_type": "code",
   "execution_count": 3,
   "id": "8f5c909c-cee3-4bab-983e-76509894ad21",
   "metadata": {},
   "outputs": [],
   "source": [
    "from sklearn.linear_model import LogisticRegression\n",
    "from sklearn.neural_network import MLPClassifier\n",
    "from sklearn.ensemble import RandomForestClassifier\n",
    "from sklearn.svm import LinearSVC, SVC\n",
    "from xgboost import XGBClassifier"
   ]
  },
  {
   "cell_type": "code",
   "execution_count": 4,
   "id": "c7ff1ea9-5834-4fc2-8113-7c3c645c1ddb",
   "metadata": {
    "tags": []
   },
   "outputs": [],
   "source": [
    "from proposed_methodology import ProposedMethodology\n",
    "from create_data_partitions import create_train_test, create_claim_train_test"
   ]
  },
  {
   "cell_type": "code",
   "execution_count": 5,
   "id": "ab72774e-678a-4c76-8a1b-756f48e35351",
   "metadata": {},
   "outputs": [],
   "source": [
    "%aimport proposed_methodology, create_data_partitions"
   ]
  },
  {
   "cell_type": "code",
   "execution_count": 6,
   "id": "3e18d20e-8fd0-407f-b009-6389d4f031af",
   "metadata": {},
   "outputs": [],
   "source": [
    "sns.set()"
   ]
  },
  {
   "cell_type": "code",
   "execution_count": 7,
   "id": "8757f577-2fd4-4f41-94a2-0d92065732ac",
   "metadata": {
    "tags": []
   },
   "outputs": [],
   "source": [
    "pd.set_option('display.max_rows', None)\n",
    "pd.set_option('display.max_columns', 100)\n",
    "pd.set_option('display.width', 1000)\n",
    "pd.set_option('display.float_format', '{:.3}'.format)"
   ]
  },
  {
   "cell_type": "code",
   "execution_count": 8,
   "id": "f9702db8-4c92-46db-955a-7a7ebc559fa4",
   "metadata": {
    "tags": []
   },
   "outputs": [
    {
     "data": {
      "text/plain": [
       "'2.2.3'"
      ]
     },
     "execution_count": 8,
     "metadata": {},
     "output_type": "execute_result"
    }
   ],
   "source": [
    "pd.__version__"
   ]
  },
  {
   "cell_type": "markdown",
   "id": "f69caef9-35ca-4793-a7d0-41a0dfd8dad5",
   "metadata": {},
   "source": [
    "# Load Dataset"
   ]
  },
  {
   "cell_type": "code",
   "execution_count": 9,
   "id": "32d4d416-1737-474b-a952-14317b21ecea",
   "metadata": {
    "tags": []
   },
   "outputs": [],
   "source": [
    "df = pd.read_csv('DATA/CI_CVGS.csv', low_memory=False)"
   ]
  },
  {
   "cell_type": "code",
   "execution_count": 10,
   "id": "9c1e36dd-efa7-440c-894b-00011dceb563",
   "metadata": {},
   "outputs": [],
   "source": [
    "#Some columns of the dataset are private\n",
    "display_cols = ['CLAIM', 'START_AGE', 'TENURE', 'MATURITY_AGE', 'TIME_TO_MATURE', \n",
    "                'SEX_CD', 'SUM_INSURED', 'SMOKER', 'MARITAL_STATUS', 'INCOME', 'YEARS_EMPLOYED']"
   ]
  },
  {
   "cell_type": "code",
   "execution_count": 11,
   "id": "b5ad284f-6079-4197-86cb-caf5b1d755cd",
   "metadata": {
    "tags": []
   },
   "outputs": [
    {
     "data": {
      "text/html": [
       "<div>\n",
       "<style scoped>\n",
       "    .dataframe tbody tr th:only-of-type {\n",
       "        vertical-align: middle;\n",
       "    }\n",
       "\n",
       "    .dataframe tbody tr th {\n",
       "        vertical-align: top;\n",
       "    }\n",
       "\n",
       "    .dataframe thead th {\n",
       "        text-align: right;\n",
       "    }\n",
       "</style>\n",
       "<table border=\"1\" class=\"dataframe\">\n",
       "  <thead>\n",
       "    <tr style=\"text-align: right;\">\n",
       "      <th></th>\n",
       "      <th>CLAIM</th>\n",
       "      <th>START_AGE</th>\n",
       "      <th>TENURE</th>\n",
       "      <th>MATURITY_AGE</th>\n",
       "      <th>TIME_TO_MATURE</th>\n",
       "      <th>SEX_CD</th>\n",
       "      <th>SUM_INSURED</th>\n",
       "      <th>SMOKER</th>\n",
       "      <th>MARITAL_STATUS</th>\n",
       "      <th>INCOME</th>\n",
       "      <th>YEARS_EMPLOYED</th>\n",
       "    </tr>\n",
       "  </thead>\n",
       "  <tbody>\n",
       "    <tr>\n",
       "      <th>0</th>\n",
       "      <td>0</td>\n",
       "      <td>42</td>\n",
       "      <td>149</td>\n",
       "      <td>70</td>\n",
       "      <td>10078</td>\n",
       "      <td>M</td>\n",
       "      <td>1e+05</td>\n",
       "      <td>0</td>\n",
       "      <td>UNKNOWN</td>\n",
       "      <td>5000</td>\n",
       "      <td>13</td>\n",
       "    </tr>\n",
       "    <tr>\n",
       "      <th>1</th>\n",
       "      <td>0</td>\n",
       "      <td>36</td>\n",
       "      <td>303</td>\n",
       "      <td>65</td>\n",
       "      <td>10289</td>\n",
       "      <td>M</td>\n",
       "      <td>1e+05</td>\n",
       "      <td>0</td>\n",
       "      <td>UNKNOWN</td>\n",
       "      <td>12000</td>\n",
       "      <td>1</td>\n",
       "    </tr>\n",
       "    <tr>\n",
       "      <th>2</th>\n",
       "      <td>0</td>\n",
       "      <td>28</td>\n",
       "      <td>918</td>\n",
       "      <td>65</td>\n",
       "      <td>12596</td>\n",
       "      <td>F</td>\n",
       "      <td>1e+06</td>\n",
       "      <td>0</td>\n",
       "      <td>UNKNOWN</td>\n",
       "      <td>0</td>\n",
       "      <td>0</td>\n",
       "    </tr>\n",
       "    <tr>\n",
       "      <th>3</th>\n",
       "      <td>0</td>\n",
       "      <td>33</td>\n",
       "      <td>3291</td>\n",
       "      <td>65</td>\n",
       "      <td>8397</td>\n",
       "      <td>M</td>\n",
       "      <td>2.5e+05</td>\n",
       "      <td>0</td>\n",
       "      <td>MARRIED</td>\n",
       "      <td>1666</td>\n",
       "      <td>6</td>\n",
       "    </tr>\n",
       "    <tr>\n",
       "      <th>4</th>\n",
       "      <td>0</td>\n",
       "      <td>40</td>\n",
       "      <td>728</td>\n",
       "      <td>65</td>\n",
       "      <td>8403</td>\n",
       "      <td>F</td>\n",
       "      <td>2.5e+05</td>\n",
       "      <td>0</td>\n",
       "      <td>MARRIED</td>\n",
       "      <td>8333</td>\n",
       "      <td>10</td>\n",
       "    </tr>\n",
       "  </tbody>\n",
       "</table>\n",
       "</div>"
      ],
      "text/plain": [
       "   CLAIM  START_AGE  TENURE  MATURITY_AGE  TIME_TO_MATURE SEX_CD  SUM_INSURED  SMOKER MARITAL_STATUS  INCOME  YEARS_EMPLOYED\n",
       "0      0         42     149            70           10078      M        1e+05       0        UNKNOWN    5000              13\n",
       "1      0         36     303            65           10289      M        1e+05       0        UNKNOWN   12000               1\n",
       "2      0         28     918            65           12596      F        1e+06       0        UNKNOWN       0               0\n",
       "3      0         33    3291            65            8397      M      2.5e+05       0        MARRIED    1666               6\n",
       "4      0         40     728            65            8403      F      2.5e+05       0        MARRIED    8333              10"
      ]
     },
     "execution_count": 11,
     "metadata": {},
     "output_type": "execute_result"
    }
   ],
   "source": [
    "df.loc[:, display_cols].head()"
   ]
  },
  {
   "cell_type": "code",
   "execution_count": 12,
   "id": "dba10926-43aa-4cb7-a673-6e3174f28800",
   "metadata": {
    "tags": []
   },
   "outputs": [
    {
     "name": "stdout",
     "output_type": "stream",
     "text": [
      "Size of dataset:  (110402, 18)\n",
      "Number of unique clients:  89510\n",
      "Number of CI claims observed: 2135\n"
     ]
    }
   ],
   "source": [
    "print('Size of dataset: ', df.shape)\n",
    "print('Number of unique clients: ', df['MDM_ID'].nunique())\n",
    "print('Number of CI claims observed:', df['CLAIM'].sum())"
   ]
  },
  {
   "cell_type": "code",
   "execution_count": 13,
   "id": "e6476de0-32b8-4cbc-8dca-dc9b1f27586f",
   "metadata": {
    "tags": []
   },
   "outputs": [],
   "source": [
    "#Convert columns to datetime format\n",
    "cols = ['START_DT', 'END_DT', 'MATURITY_DT', 'DOB']\n",
    "for col in cols:\n",
    "    df.loc[:, col] = pd.to_datetime(df[col])"
   ]
  },
  {
   "cell_type": "code",
   "execution_count": 14,
   "id": "727e63d3-ec45-4c1b-9c55-c35476e4bb77",
   "metadata": {
    "tags": []
   },
   "outputs": [],
   "source": [
    "#Convert columns to appropriate formats, prevent pandas nullable types as these are incompatible with sci-kit\n",
    "df = df.convert_dtypes(convert_floating=False, convert_integer=False)"
   ]
  },
  {
   "cell_type": "code",
   "execution_count": 15,
   "id": "3a8641bc-ab01-409c-ac6f-43ef406e455b",
   "metadata": {},
   "outputs": [
    {
     "name": "stdout",
     "output_type": "stream",
     "text": [
      "<class 'pandas.core.frame.DataFrame'>\n",
      "RangeIndex: 110402 entries, 0 to 110401\n",
      "Data columns (total 18 columns):\n",
      " #   Column          Non-Null Count   Dtype         \n",
      "---  ------          --------------   -----         \n",
      " 0   MDM_ID          110402 non-null  int64         \n",
      " 1   CLI_ID          110402 non-null  int64         \n",
      " 2   CVG_ID          110402 non-null  string        \n",
      " 3   CLAIM           110402 non-null  int64         \n",
      " 4   START_AGE       110402 non-null  int64         \n",
      " 5   TENURE          110402 non-null  int64         \n",
      " 6   START_DT        110402 non-null  datetime64[ns]\n",
      " 7   END_DT          110402 non-null  datetime64[ns]\n",
      " 8   MATURITY_AGE    110402 non-null  int64         \n",
      " 9   MATURITY_DT     110402 non-null  datetime64[ns]\n",
      " 10  TIME_TO_MATURE  110402 non-null  int64         \n",
      " 11  SEX_CD          110402 non-null  string        \n",
      " 12  SUM_INSURED     110402 non-null  float64       \n",
      " 13  SMOKER          110402 non-null  int64         \n",
      " 14  MARITAL_STATUS  110402 non-null  string        \n",
      " 15  INCOME          110402 non-null  int64         \n",
      " 16  YEARS_EMPLOYED  110402 non-null  int64         \n",
      " 17  DOB             110402 non-null  datetime64[ns]\n",
      "dtypes: datetime64[ns](4), float64(1), int64(10), string(3)\n",
      "memory usage: 15.2 MB\n"
     ]
    }
   ],
   "source": [
    "df.info()"
   ]
  },
  {
   "cell_type": "code",
   "execution_count": 16,
   "id": "7aff59b3-bbeb-4dfb-be24-444cb2a769ce",
   "metadata": {},
   "outputs": [
    {
     "data": {
      "text/html": [
       "<div>\n",
       "<style scoped>\n",
       "    .dataframe tbody tr th:only-of-type {\n",
       "        vertical-align: middle;\n",
       "    }\n",
       "\n",
       "    .dataframe tbody tr th {\n",
       "        vertical-align: top;\n",
       "    }\n",
       "\n",
       "    .dataframe thead th {\n",
       "        text-align: right;\n",
       "    }\n",
       "</style>\n",
       "<table border=\"1\" class=\"dataframe\">\n",
       "  <thead>\n",
       "    <tr style=\"text-align: right;\">\n",
       "      <th></th>\n",
       "      <th>CLAIM</th>\n",
       "      <th>START_AGE</th>\n",
       "      <th>TENURE</th>\n",
       "      <th>MATURITY_AGE</th>\n",
       "      <th>TIME_TO_MATURE</th>\n",
       "      <th>SUM_INSURED</th>\n",
       "      <th>SMOKER</th>\n",
       "      <th>INCOME</th>\n",
       "      <th>YEARS_EMPLOYED</th>\n",
       "    </tr>\n",
       "  </thead>\n",
       "  <tbody>\n",
       "    <tr>\n",
       "      <th>count</th>\n",
       "      <td>1.1e+05</td>\n",
       "      <td>1.1e+05</td>\n",
       "      <td>1.1e+05</td>\n",
       "      <td>1.1e+05</td>\n",
       "      <td>1.1e+05</td>\n",
       "      <td>1.1e+05</td>\n",
       "      <td>1.1e+05</td>\n",
       "      <td>1.1e+05</td>\n",
       "      <td>1.1e+05</td>\n",
       "    </tr>\n",
       "    <tr>\n",
       "      <th>mean</th>\n",
       "      <td>0.0193</td>\n",
       "      <td>32.2</td>\n",
       "      <td>1.96e+03</td>\n",
       "      <td>67.5</td>\n",
       "      <td>1.1e+04</td>\n",
       "      <td>2.01e+05</td>\n",
       "      <td>0.0925</td>\n",
       "      <td>1.09e+04</td>\n",
       "      <td>6.49</td>\n",
       "    </tr>\n",
       "    <tr>\n",
       "      <th>std</th>\n",
       "      <td>0.138</td>\n",
       "      <td>8.89</td>\n",
       "      <td>2.2e+03</td>\n",
       "      <td>3.55</td>\n",
       "      <td>4.08e+03</td>\n",
       "      <td>2.07e+05</td>\n",
       "      <td>0.325</td>\n",
       "      <td>4.36e+04</td>\n",
       "      <td>7.24</td>\n",
       "    </tr>\n",
       "    <tr>\n",
       "      <th>min</th>\n",
       "      <td>0.0</td>\n",
       "      <td>14.0</td>\n",
       "      <td>21.0</td>\n",
       "      <td>64.0</td>\n",
       "      <td>0.0</td>\n",
       "      <td>2e+04</td>\n",
       "      <td>-1.0</td>\n",
       "      <td>0.0</td>\n",
       "      <td>0.0</td>\n",
       "    </tr>\n",
       "    <tr>\n",
       "      <th>25%</th>\n",
       "      <td>0.0</td>\n",
       "      <td>25.0</td>\n",
       "      <td>4.17e+02</td>\n",
       "      <td>65.0</td>\n",
       "      <td>8.47e+03</td>\n",
       "      <td>1e+05</td>\n",
       "      <td>0.0</td>\n",
       "      <td>5e+03</td>\n",
       "      <td>1.0</td>\n",
       "    </tr>\n",
       "    <tr>\n",
       "      <th>50%</th>\n",
       "      <td>0.0</td>\n",
       "      <td>31.0</td>\n",
       "      <td>1e+03</td>\n",
       "      <td>65.0</td>\n",
       "      <td>1.15e+04</td>\n",
       "      <td>1.25e+05</td>\n",
       "      <td>0.0</td>\n",
       "      <td>7.5e+03</td>\n",
       "      <td>4.0</td>\n",
       "    </tr>\n",
       "    <tr>\n",
       "      <th>75%</th>\n",
       "      <td>0.0</td>\n",
       "      <td>38.0</td>\n",
       "      <td>2.79e+03</td>\n",
       "      <td>70.0</td>\n",
       "      <td>1.39e+04</td>\n",
       "      <td>2.3e+05</td>\n",
       "      <td>0.0</td>\n",
       "      <td>1.2e+04</td>\n",
       "      <td>10.0</td>\n",
       "    </tr>\n",
       "    <tr>\n",
       "      <th>max</th>\n",
       "      <td>1.0</td>\n",
       "      <td>65.0</td>\n",
       "      <td>1.31e+04</td>\n",
       "      <td>81.0</td>\n",
       "      <td>2.33e+04</td>\n",
       "      <td>8e+06</td>\n",
       "      <td>1.0</td>\n",
       "      <td>7e+06</td>\n",
       "      <td>82.0</td>\n",
       "    </tr>\n",
       "  </tbody>\n",
       "</table>\n",
       "</div>"
      ],
      "text/plain": [
       "        CLAIM  START_AGE   TENURE  MATURITY_AGE  TIME_TO_MATURE  SUM_INSURED  SMOKER   INCOME  YEARS_EMPLOYED\n",
       "count 1.1e+05    1.1e+05  1.1e+05       1.1e+05         1.1e+05      1.1e+05 1.1e+05  1.1e+05         1.1e+05\n",
       "mean   0.0193       32.2 1.96e+03          67.5         1.1e+04     2.01e+05  0.0925 1.09e+04            6.49\n",
       "std     0.138       8.89  2.2e+03          3.55        4.08e+03     2.07e+05   0.325 4.36e+04            7.24\n",
       "min       0.0       14.0     21.0          64.0             0.0        2e+04    -1.0      0.0             0.0\n",
       "25%       0.0       25.0 4.17e+02          65.0        8.47e+03        1e+05     0.0    5e+03             1.0\n",
       "50%       0.0       31.0    1e+03          65.0        1.15e+04     1.25e+05     0.0  7.5e+03             4.0\n",
       "75%       0.0       38.0 2.79e+03          70.0        1.39e+04      2.3e+05     0.0  1.2e+04            10.0\n",
       "max       1.0       65.0 1.31e+04          81.0        2.33e+04        8e+06     1.0    7e+06            82.0"
      ]
     },
     "execution_count": 16,
     "metadata": {},
     "output_type": "execute_result"
    }
   ],
   "source": [
    "df.loc[:, display_cols].describe()"
   ]
  },
  {
   "cell_type": "markdown",
   "id": "9f81246a-405c-4314-8159-7442ea7ff262",
   "metadata": {},
   "source": [
    "# Feature engineering\n",
    "- Latest age variable\n",
    "- Encoding"
   ]
  },
  {
   "cell_type": "markdown",
   "id": "16d17534-4c04-4b98-a911-21d3b7bf250d",
   "metadata": {
    "tags": []
   },
   "source": [
    "## Variables"
   ]
  },
  {
   "cell_type": "code",
   "execution_count": 17,
   "id": "e1e6fe4f-8c43-41cf-b94c-e27b7e96664a",
   "metadata": {
    "tags": []
   },
   "outputs": [],
   "source": [
    "df.loc[:, 'LAST_AGE'] = df.apply(lambda x: x['START_AGE'] + relativedelta(x['END_DT'], x['START_DT']).years , axis=1)"
   ]
  },
  {
   "cell_type": "code",
   "execution_count": 18,
   "id": "2602f1c0-bd33-4c83-a3b6-e5ab63a31e11",
   "metadata": {},
   "outputs": [],
   "source": [
    "#Data entry issues and date-time calculation sensitivity causes values to be imprecise, this is corrected here. \n",
    "#The maximum age on the insurance can only be 65, 70, 75 or 80.\n",
    "df.loc[df['MATURITY_AGE'].between(60, 66), 'MATURITY_AGE'] = 65\n",
    "df.loc[df['MATURITY_AGE'].between(67, 71), 'MATURITY_AGE'] = 70\n",
    "df.loc[df['MATURITY_AGE'].between(72, 76), 'MATURITY_AGE'] = 75\n",
    "df.loc[df['MATURITY_AGE'].between(77, 82), 'MATURITY_AGE'] = 80"
   ]
  },
  {
   "cell_type": "markdown",
   "id": "a145d343-a0ff-4578-9e0a-e071f69da5db",
   "metadata": {},
   "source": [
    "## Encoding"
   ]
  },
  {
   "cell_type": "code",
   "execution_count": 19,
   "id": "938868f7-7b3e-4214-a955-79625bc42c03",
   "metadata": {
    "tags": []
   },
   "outputs": [],
   "source": [
    "#Sex\n",
    "df.loc[:, 'SEX_F'] = np.where(df['SEX_CD'] == 'F', 1, 0)\n",
    "df.loc[:, 'SEX_M'] = np.where(df['SEX_CD'] == 'M', 1, 0)"
   ]
  },
  {
   "cell_type": "code",
   "execution_count": 20,
   "id": "850672ac-bb7a-43ae-9242-73b47201bc3d",
   "metadata": {},
   "outputs": [
    {
     "data": {
      "text/plain": [
       "SEX_CD  SEX_F  SEX_M\n",
       "F       1      0        56077\n",
       "M       0      1        54325\n",
       "Name: count, dtype: int64"
      ]
     },
     "execution_count": 20,
     "metadata": {},
     "output_type": "execute_result"
    }
   ],
   "source": [
    "df[['SEX_CD', 'SEX_F', 'SEX_M']].value_counts()"
   ]
  },
  {
   "cell_type": "code",
   "execution_count": 21,
   "id": "c3ef0217-5cb4-4a22-b771-b5ddda2aef5b",
   "metadata": {
    "tags": []
   },
   "outputs": [],
   "source": [
    "#Smoker\n",
    "df.loc[:, 'SMOKER_Y'] = np.where(df['SMOKER'] == 1, 1, 0)\n",
    "df.loc[:, 'SMOKER_N'] = np.where(df['SMOKER'] != 1, 1, 0)"
   ]
  },
  {
   "cell_type": "code",
   "execution_count": 22,
   "id": "db22563c-09d8-4b60-ba93-b5b0bd879aa4",
   "metadata": {
    "tags": []
   },
   "outputs": [
    {
     "data": {
      "text/plain": [
       "SMOKER  SMOKER_Y  SMOKER_N\n",
       " 0      0         1           97805\n",
       " 1      1         0           11402\n",
       "-1      0         1            1195\n",
       "Name: count, dtype: int64"
      ]
     },
     "execution_count": 22,
     "metadata": {},
     "output_type": "execute_result"
    }
   ],
   "source": [
    "df[['SMOKER', 'SMOKER_Y','SMOKER_N']].value_counts()"
   ]
  },
  {
   "cell_type": "code",
   "execution_count": 23,
   "id": "a3a2dbc8-84bc-4c9b-82be-599a5916b2cc",
   "metadata": {
    "tags": []
   },
   "outputs": [],
   "source": [
    "#Marital status\n",
    "df.loc[:, 'MARITAL_STATUS_SINGLE'] = np.where(df['MARITAL_STATUS'] == 'SINGLE', 1, 0)\n",
    "df.loc[:, 'MARITAL_STATUS_MARRIED'] = np.where(df['MARITAL_STATUS'] == 'MARRIED', 1, 0)\n",
    "df.loc[:, 'MARITAL_STATUS_OTHER'] = np.where(df['MARITAL_STATUS'].isin(['COMMONLAW', 'SEPARATED', 'OTHER', 'UNKNOWN']), 1, 0)"
   ]
  },
  {
   "cell_type": "code",
   "execution_count": 24,
   "id": "356e8f40-f90f-4f4b-b389-6b3037d89965",
   "metadata": {
    "tags": []
   },
   "outputs": [
    {
     "data": {
      "text/plain": [
       "MARITAL_STATUS  MARITAL_STATUS_SINGLE  MARITAL_STATUS_MARRIED  MARITAL_STATUS_OTHER\n",
       "SINGLE          1                      0                       0                       57754\n",
       "MARRIED         0                      1                       0                       41666\n",
       "COMMONLAW       0                      0                       1                        6322\n",
       "SEPARATED       0                      0                       1                        3958\n",
       "UNKNOWN         0                      0                       1                         528\n",
       "OTHER           0                      0                       1                         174\n",
       "Name: count, dtype: int64"
      ]
     },
     "execution_count": 24,
     "metadata": {},
     "output_type": "execute_result"
    }
   ],
   "source": [
    "df[['MARITAL_STATUS', 'MARITAL_STATUS_SINGLE', 'MARITAL_STATUS_MARRIED', 'MARITAL_STATUS_OTHER']].value_counts()"
   ]
  },
  {
   "cell_type": "markdown",
   "id": "7a5b5b2d-d1d4-412c-ab86-6d8141110499",
   "metadata": {},
   "source": [
    "# Missing Data Handling\n",
    "- Check for number of nulls\n",
    "     - If entire column is null drop column\n",
    "     - If entire row is null drop row\n",
    "- Replace outliers and missing values with median as appropriate"
   ]
  },
  {
   "cell_type": "code",
   "execution_count": 25,
   "id": "82f70f88-34fa-4fd4-b242-f2ca8ba88920",
   "metadata": {},
   "outputs": [
    {
     "data": {
      "text/plain": [
       "MDM_ID                    0\n",
       "CLI_ID                    0\n",
       "CVG_ID                    0\n",
       "CLAIM                     0\n",
       "START_AGE                 0\n",
       "TENURE                    0\n",
       "START_DT                  0\n",
       "END_DT                    0\n",
       "MATURITY_AGE              0\n",
       "MATURITY_DT               0\n",
       "TIME_TO_MATURE            0\n",
       "SEX_CD                    0\n",
       "SUM_INSURED               0\n",
       "SMOKER                    0\n",
       "MARITAL_STATUS            0\n",
       "INCOME                    0\n",
       "YEARS_EMPLOYED            0\n",
       "DOB                       0\n",
       "LAST_AGE                  0\n",
       "SEX_F                     0\n",
       "SEX_M                     0\n",
       "SMOKER_Y                  0\n",
       "SMOKER_N                  0\n",
       "MARITAL_STATUS_SINGLE     0\n",
       "MARITAL_STATUS_MARRIED    0\n",
       "MARITAL_STATUS_OTHER      0\n",
       "dtype: int64"
      ]
     },
     "execution_count": 25,
     "metadata": {},
     "output_type": "execute_result"
    }
   ],
   "source": [
    "df.isna().sum()"
   ]
  },
  {
   "cell_type": "markdown",
   "id": "efbda2ea-cea7-4e6a-b0fe-6a463bcad058",
   "metadata": {},
   "source": [
    "# Modelling datasets\n",
    "Here the major partitions of the data are demonstrated. Test sets contained CI coverages ending after 2023 and 2024. All other data up to the year of the test set were used for training and validation. Validation sets were created through ScikitLearn’s (SKL) TimeSeriesSplit CV. This process is embedded in the proposed method code so this section is for illustrative purposes only."
   ]
  },
  {
   "cell_type": "code",
   "execution_count": 26,
   "id": "af8445b2-1523-4c6c-894c-017614d141eb",
   "metadata": {},
   "outputs": [
    {
     "name": "stdout",
     "output_type": "stream",
     "text": [
      "<class 'pandas.core.frame.DataFrame'>\n",
      "RangeIndex: 110402 entries, 0 to 110401\n",
      "Data columns (total 26 columns):\n",
      " #   Column                  Non-Null Count   Dtype         \n",
      "---  ------                  --------------   -----         \n",
      " 0   MDM_ID                  110402 non-null  int64         \n",
      " 1   CLI_ID                  110402 non-null  int64         \n",
      " 2   CVG_ID                  110402 non-null  string        \n",
      " 3   CLAIM                   110402 non-null  int64         \n",
      " 4   START_AGE               110402 non-null  int64         \n",
      " 5   TENURE                  110402 non-null  int64         \n",
      " 6   START_DT                110402 non-null  datetime64[ns]\n",
      " 7   END_DT                  110402 non-null  datetime64[ns]\n",
      " 8   MATURITY_AGE            110402 non-null  int64         \n",
      " 9   MATURITY_DT             110402 non-null  datetime64[ns]\n",
      " 10  TIME_TO_MATURE          110402 non-null  int64         \n",
      " 11  SEX_CD                  110402 non-null  string        \n",
      " 12  SUM_INSURED             110402 non-null  float64       \n",
      " 13  SMOKER                  110402 non-null  int64         \n",
      " 14  MARITAL_STATUS          110402 non-null  string        \n",
      " 15  INCOME                  110402 non-null  int64         \n",
      " 16  YEARS_EMPLOYED          110402 non-null  int64         \n",
      " 17  DOB                     110402 non-null  datetime64[ns]\n",
      " 18  LAST_AGE                110402 non-null  int64         \n",
      " 19  SEX_F                   110402 non-null  int64         \n",
      " 20  SEX_M                   110402 non-null  int64         \n",
      " 21  SMOKER_Y                110402 non-null  int64         \n",
      " 22  SMOKER_N                110402 non-null  int64         \n",
      " 23  MARITAL_STATUS_SINGLE   110402 non-null  int64         \n",
      " 24  MARITAL_STATUS_MARRIED  110402 non-null  int64         \n",
      " 25  MARITAL_STATUS_OTHER    110402 non-null  int64         \n",
      "dtypes: datetime64[ns](4), float64(1), int64(18), string(3)\n",
      "memory usage: 21.9 MB\n"
     ]
    }
   ],
   "source": [
    "df.info()"
   ]
  },
  {
   "cell_type": "code",
   "execution_count": 27,
   "id": "7a6d5602-3f67-4dd0-ab99-351fc9e09755",
   "metadata": {},
   "outputs": [],
   "source": [
    "partitions = pd.DataFrame(columns=['year', 'part', 'cvg', 'proportion', 'cli', 'claims', 'claim_percent'])\n",
    "for year in [2023, 2024]:\n",
    "    X_feat, X_label, Y_feat, Y_label, Y_id = create_train_test(df, df.columns.tolist(), year, 0)\n",
    "    X_size = X_feat.shape[0]\n",
    "    Y_size = Y_feat.shape[0]\n",
    "    Tot_size = X_feat.shape[0] + Y_feat.shape[0]\n",
    "    \n",
    "    train_cvg, test_cvg = X_feat['SCALAR_CVG_ID'].nunique(), Y_feat['SCALAR_CVG_ID'].nunique() \n",
    "    train_cli, test_cli = X_feat['SCALAR_MDM_ID'].nunique(), Y_feat['SCALAR_MDM_ID'].nunique() \n",
    "    train_claims, test_claims = X_label.sum(), Y_label.sum() \n",
    "    train_per, test_per = X_label.mean(), Y_label.mean()\n",
    "    train_size, test_size = X_size/Tot_size, Y_size/Tot_size\n",
    "    \n",
    "    partitions.loc[len(partitions), :] = [year, 'train', train_cvg, train_size, train_cli, train_claims, train_per]\n",
    "    partitions.loc[len(partitions), :] = [year, 'test', test_cvg, test_size, test_cli, test_claims, test_per]"
   ]
  },
  {
   "cell_type": "code",
   "execution_count": 28,
   "id": "28fb2bca-02e7-4947-a53e-c786b1fa901a",
   "metadata": {},
   "outputs": [
    {
     "data": {
      "text/html": [
       "<div>\n",
       "<style scoped>\n",
       "    .dataframe tbody tr th:only-of-type {\n",
       "        vertical-align: middle;\n",
       "    }\n",
       "\n",
       "    .dataframe tbody tr th {\n",
       "        vertical-align: top;\n",
       "    }\n",
       "\n",
       "    .dataframe thead th {\n",
       "        text-align: right;\n",
       "    }\n",
       "</style>\n",
       "<table border=\"1\" class=\"dataframe\">\n",
       "  <thead>\n",
       "    <tr style=\"text-align: right;\">\n",
       "      <th></th>\n",
       "      <th>year</th>\n",
       "      <th>part</th>\n",
       "      <th>cvg</th>\n",
       "      <th>proportion</th>\n",
       "      <th>cli</th>\n",
       "      <th>claims</th>\n",
       "      <th>claim_percent</th>\n",
       "    </tr>\n",
       "  </thead>\n",
       "  <tbody>\n",
       "    <tr>\n",
       "      <th>0</th>\n",
       "      <td>2023</td>\n",
       "      <td>train</td>\n",
       "      <td>97686</td>\n",
       "      <td>0.885</td>\n",
       "      <td>80440</td>\n",
       "      <td>1820</td>\n",
       "      <td>0.0186</td>\n",
       "    </tr>\n",
       "    <tr>\n",
       "      <th>1</th>\n",
       "      <td>2023</td>\n",
       "      <td>test</td>\n",
       "      <td>12716</td>\n",
       "      <td>0.115</td>\n",
       "      <td>11895</td>\n",
       "      <td>315</td>\n",
       "      <td>0.0248</td>\n",
       "    </tr>\n",
       "    <tr>\n",
       "      <th>2</th>\n",
       "      <td>2024</td>\n",
       "      <td>train</td>\n",
       "      <td>104942</td>\n",
       "      <td>0.951</td>\n",
       "      <td>85682</td>\n",
       "      <td>1984</td>\n",
       "      <td>0.0189</td>\n",
       "    </tr>\n",
       "    <tr>\n",
       "      <th>3</th>\n",
       "      <td>2024</td>\n",
       "      <td>test</td>\n",
       "      <td>5460</td>\n",
       "      <td>0.0495</td>\n",
       "      <td>5202</td>\n",
       "      <td>151</td>\n",
       "      <td>0.0277</td>\n",
       "    </tr>\n",
       "  </tbody>\n",
       "</table>\n",
       "</div>"
      ],
      "text/plain": [
       "   year   part     cvg proportion    cli claims claim_percent\n",
       "0  2023  train   97686      0.885  80440   1820        0.0186\n",
       "1  2023   test   12716      0.115  11895    315        0.0248\n",
       "2  2024  train  104942      0.951  85682   1984        0.0189\n",
       "3  2024   test    5460     0.0495   5202    151        0.0277"
      ]
     },
     "execution_count": 28,
     "metadata": {},
     "output_type": "execute_result"
    }
   ],
   "source": [
    "partitions"
   ]
  },
  {
   "cell_type": "markdown",
   "id": "f017403e-7550-4ec6-bf06-946f643c167d",
   "metadata": {},
   "source": [
    "# Proposed approach\n",
    "The proposed approach consists of the following steps:\n",
    "1. Test the 5 Machine Learning algorithms to find the model that produces the best probability estimates.\n",
    "2. Select the best performing model and produce critical illness claim probability estimates for each insurance coverage.\n",
    "3. Rank the coverages in order of risk and assess the ranking.\n",
    "\n",
    "In this section we evaluate the 5 ML algorithms. \\\n",
    "The evaluation involves two test sets corresponding to coverages ending in 2023 and 2024. \\\n",
    "Additionally, time-sensitive features in the dataset are offset by interval values of 0, 90, 180, and 360 days to simulate whether the model can make accurate predictions ahead of time. This can grant up to 1 year of intervention time."
   ]
  },
  {
   "cell_type": "code",
   "execution_count": 29,
   "id": "230e0f26-bdf9-4d45-923d-c4f3486571d5",
   "metadata": {},
   "outputs": [],
   "source": [
    "n_jobs = -1"
   ]
  },
  {
   "cell_type": "code",
   "execution_count": 30,
   "id": "ab914ec8-c1b1-48ec-9cba-f863c6b98596",
   "metadata": {
    "tags": []
   },
   "outputs": [],
   "source": [
    "#Limits for outlier handling via Winsorisation\n",
    "#The tuple is structured as follows:\n",
    "#1. Column to be adjusted, 2. Lower inlier bound, 3. Upper inlier bound\n",
    "outlier_bounds = [('SCALAR_SUM_INSURED', 20000, 3e6),\n",
    "                  ('SCALAR_INCOME', 0, 2e5),\n",
    "                  ('SCALAR_YEARS_EMPLOYED', 0, 50)]"
   ]
  },
  {
   "cell_type": "code",
   "execution_count": 31,
   "id": "5a601d35-6430-45eb-92e5-57962fa9ee15",
   "metadata": {
    "tags": []
   },
   "outputs": [],
   "source": [
    "#Columns used to build the predictive model. Only coverage details and client demographic information are used.\n",
    "model_cols = ['LAST_AGE', 'START_AGE', 'TENURE', 'TIME_TO_MATURE', 'MATURITY_AGE',\n",
    "              'SUM_INSURED', 'INCOME', 'YEARS_EMPLOYED', \n",
    "              'SEX_F', 'SEX_M', 'SMOKER_Y', 'SMOKER_N', \n",
    "              'MARITAL_STATUS_SINGLE', 'MARITAL_STATUS_MARRIED', 'MARITAL_STATUS_OTHER']"
   ]
  },
  {
   "cell_type": "code",
   "execution_count": 32,
   "id": "3ba24255-708e-424c-a218-9a93cec2451d",
   "metadata": {},
   "outputs": [
    {
     "name": "stdout",
     "output_type": "stream",
     "text": [
      "Max features:  16\n"
     ]
    }
   ],
   "source": [
    "max_features = len(model_cols) + 1\n",
    "print('Max features: ', max_features)"
   ]
  },
  {
   "cell_type": "code",
   "execution_count": 33,
   "id": "285fe40d-a829-4b5e-b841-1a42c1754745",
   "metadata": {},
   "outputs": [],
   "source": [
    "#Init the proposed methodology class\n",
    "#Experiments are repeated 5 times\n",
    "pm = ProposedMethodology(df, model_cols, outlier_bounds, runs=5)"
   ]
  },
  {
   "cell_type": "code",
   "execution_count": 34,
   "id": "acf9de66-ece3-497e-b1a3-b04f0143ec36",
   "metadata": {},
   "outputs": [
    {
     "data": {
      "text/plain": [
       "<proposed_methodology.ProposedMethodology at 0x1de81b39820>"
      ]
     },
     "execution_count": 34,
     "metadata": {},
     "output_type": "execute_result"
    }
   ],
   "source": [
    "#Set the parameters for the experiment,\n",
    "#Two test years 2023, 2024\n",
    "#Four offset intervals 0, 90, 180, 360\n",
    "pm.set_params(test_years=[2023,2024], test_intervals=[0,90,180,360])"
   ]
  },
  {
   "cell_type": "markdown",
   "id": "1dadca05-c819-4d5a-8854-b4617b6a6f37",
   "metadata": {},
   "source": [
    "## Dummy classifier\n",
    "It is useful to compare the results of each classifier to that of a dummy classifier."
   ]
  },
  {
   "cell_type": "code",
   "execution_count": 35,
   "id": "a5c22fff-1bae-4322-8b93-c346ff4376ec",
   "metadata": {},
   "outputs": [],
   "source": [
    "scores_base = pm.dummy_results()"
   ]
  },
  {
   "cell_type": "code",
   "execution_count": 36,
   "id": "a1967c49-6025-4ad5-8cde-22fd5d3bc741",
   "metadata": {},
   "outputs": [
    {
     "data": {
      "text/html": [
       "<div>\n",
       "<style scoped>\n",
       "    .dataframe tbody tr th:only-of-type {\n",
       "        vertical-align: middle;\n",
       "    }\n",
       "\n",
       "    .dataframe tbody tr th {\n",
       "        vertical-align: top;\n",
       "    }\n",
       "\n",
       "    .dataframe thead th {\n",
       "        text-align: right;\n",
       "    }\n",
       "</style>\n",
       "<table border=\"1\" class=\"dataframe\">\n",
       "  <thead>\n",
       "    <tr style=\"text-align: right;\">\n",
       "      <th></th>\n",
       "      <th>year</th>\n",
       "      <th>log_loss</th>\n",
       "      <th>roc_auc</th>\n",
       "    </tr>\n",
       "  </thead>\n",
       "  <tbody>\n",
       "    <tr>\n",
       "      <th>0</th>\n",
       "      <td>2023</td>\n",
       "      <td>0.116</td>\n",
       "      <td>0.5</td>\n",
       "    </tr>\n",
       "    <tr>\n",
       "      <th>1</th>\n",
       "      <td>2024</td>\n",
       "      <td>0.126</td>\n",
       "      <td>0.5</td>\n",
       "    </tr>\n",
       "  </tbody>\n",
       "</table>\n",
       "</div>"
      ],
      "text/plain": [
       "   year  log_loss  roc_auc\n",
       "0  2023     0.116      0.5\n",
       "1  2024     0.126      0.5"
      ]
     },
     "execution_count": 36,
     "metadata": {},
     "output_type": "execute_result"
    }
   ],
   "source": [
    "scores_base"
   ]
  },
  {
   "cell_type": "markdown",
   "id": "9f5fae27-dee4-47c6-b4b4-cf121777217f",
   "metadata": {},
   "source": [
    "## Logistic Regression with Elastic Net"
   ]
  },
  {
   "cell_type": "code",
   "execution_count": 37,
   "id": "86b96baf-eed4-4f3a-83f0-1e1e7b83443b",
   "metadata": {},
   "outputs": [],
   "source": [
    "lren = LogisticRegression(random_state=0, penalty='elasticnet', solver='saga', n_jobs=n_jobs)"
   ]
  },
  {
   "cell_type": "code",
   "execution_count": 38,
   "id": "4ca769a7-dc17-4a2e-aead-82ed26052073",
   "metadata": {},
   "outputs": [],
   "source": [
    "#Parameter grid for the grid search with the logistic regression classifier\n",
    "cv_params_lren = {\n",
    "    \"estimator__clf__tol\": loguniform(b=1e-3, a=1e-6),\n",
    "    \"estimator__clf__C\": loguniform(b=1e1, a=1e-1),\n",
    "    \"estimator__clf__l1_ratio\": uniform(),\n",
    "    \"estimator__clf__max_iter\": [10000],\n",
    "    \"estimator__clf__fit_intercept\": [True]\n",
    "}"
   ]
  },
  {
   "cell_type": "code",
   "execution_count": 39,
   "id": "b023a12d-7df2-4b5a-9c53-95f142abd7e4",
   "metadata": {},
   "outputs": [
    {
     "name": "stdout",
     "output_type": "stream",
     "text": [
      "49.262267637252805\n"
     ]
    }
   ],
   "source": [
    "#Run the experiment for this classifier and print the time it took\n",
    "#Test 10 parameter combinations\n",
    "start = time.time()\n",
    "cls_results_lren, cls_means_lren, opt_params_lren = pm.probability_estimation(lren, cv_params_lren, 10, 5)\n",
    "end = time.time()\n",
    "print((end - start)/60)"
   ]
  },
  {
   "cell_type": "code",
   "execution_count": 40,
   "id": "106a8fb4-d5cf-4ae3-872c-585c4bcefca8",
   "metadata": {},
   "outputs": [
    {
     "data": {
      "text/html": [
       "<div>\n",
       "<style scoped>\n",
       "    .dataframe tbody tr th:only-of-type {\n",
       "        vertical-align: middle;\n",
       "    }\n",
       "\n",
       "    .dataframe tbody tr th {\n",
       "        vertical-align: top;\n",
       "    }\n",
       "\n",
       "    .dataframe thead th {\n",
       "        text-align: right;\n",
       "    }\n",
       "</style>\n",
       "<table border=\"1\" class=\"dataframe\">\n",
       "  <thead>\n",
       "    <tr style=\"text-align: right;\">\n",
       "      <th></th>\n",
       "      <th>year</th>\n",
       "      <th>interval</th>\n",
       "      <th>log_loss</th>\n",
       "      <th>log_skill_score</th>\n",
       "      <th>roc_auc</th>\n",
       "    </tr>\n",
       "  </thead>\n",
       "  <tbody>\n",
       "    <tr>\n",
       "      <th>0</th>\n",
       "      <td>2023</td>\n",
       "      <td>0</td>\n",
       "      <td>0.108</td>\n",
       "      <td>0.071</td>\n",
       "      <td>0.77</td>\n",
       "    </tr>\n",
       "    <tr>\n",
       "      <th>1</th>\n",
       "      <td>2023</td>\n",
       "      <td>90</td>\n",
       "      <td>0.108</td>\n",
       "      <td>0.0728</td>\n",
       "      <td>0.77</td>\n",
       "    </tr>\n",
       "    <tr>\n",
       "      <th>2</th>\n",
       "      <td>2023</td>\n",
       "      <td>180</td>\n",
       "      <td>0.108</td>\n",
       "      <td>0.0735</td>\n",
       "      <td>0.77</td>\n",
       "    </tr>\n",
       "    <tr>\n",
       "      <th>3</th>\n",
       "      <td>2023</td>\n",
       "      <td>360</td>\n",
       "      <td>0.107</td>\n",
       "      <td>0.0743</td>\n",
       "      <td>0.769</td>\n",
       "    </tr>\n",
       "    <tr>\n",
       "      <th>4</th>\n",
       "      <td>2024</td>\n",
       "      <td>0</td>\n",
       "      <td>0.118</td>\n",
       "      <td>0.0681</td>\n",
       "      <td>0.757</td>\n",
       "    </tr>\n",
       "    <tr>\n",
       "      <th>5</th>\n",
       "      <td>2024</td>\n",
       "      <td>90</td>\n",
       "      <td>0.118</td>\n",
       "      <td>0.0689</td>\n",
       "      <td>0.757</td>\n",
       "    </tr>\n",
       "    <tr>\n",
       "      <th>6</th>\n",
       "      <td>2024</td>\n",
       "      <td>180</td>\n",
       "      <td>0.118</td>\n",
       "      <td>0.069</td>\n",
       "      <td>0.757</td>\n",
       "    </tr>\n",
       "    <tr>\n",
       "      <th>7</th>\n",
       "      <td>2024</td>\n",
       "      <td>360</td>\n",
       "      <td>0.118</td>\n",
       "      <td>0.068</td>\n",
       "      <td>0.756</td>\n",
       "    </tr>\n",
       "  </tbody>\n",
       "</table>\n",
       "</div>"
      ],
      "text/plain": [
       "   year  interval  log_loss  log_skill_score  roc_auc\n",
       "0  2023         0     0.108            0.071     0.77\n",
       "1  2023        90     0.108           0.0728     0.77\n",
       "2  2023       180     0.108           0.0735     0.77\n",
       "3  2023       360     0.107           0.0743    0.769\n",
       "4  2024         0     0.118           0.0681    0.757\n",
       "5  2024        90     0.118           0.0689    0.757\n",
       "6  2024       180     0.118            0.069    0.757\n",
       "7  2024       360     0.118            0.068    0.756"
      ]
     },
     "execution_count": 40,
     "metadata": {},
     "output_type": "execute_result"
    }
   ],
   "source": [
    "cls_means_lren"
   ]
  },
  {
   "cell_type": "markdown",
   "id": "626df2e7-fa16-4b2a-8959-6847f9a0622c",
   "metadata": {},
   "source": [
    "## SVM"
   ]
  },
  {
   "cell_type": "code",
   "execution_count": 41,
   "id": "83604d0c-8e1a-4c5c-ac75-e2da1f72db24",
   "metadata": {},
   "outputs": [],
   "source": [
    "svm = SVC(random_state=0, kernel='rbf', cache_size=500)"
   ]
  },
  {
   "cell_type": "code",
   "execution_count": 42,
   "id": "c63093d5-88aa-4c27-a7fc-8a850abca0ed",
   "metadata": {},
   "outputs": [],
   "source": [
    "#Parameter grid for the grid search with the SVM classifier\n",
    "cv_params_svm = {\n",
    "    \"estimator__clf__tol\": loguniform(b=1e-3, a=1e-4),\n",
    "    \"estimator__clf__C\": loguniform(b=1e1, a=1e-1),\n",
    "    \"estimator__clf__gamma\": loguniform(b=1e-4, a=1e-10),\n",
    "    \"estimator__clf__max_iter\": [10000],\n",
    "}"
   ]
  },
  {
   "cell_type": "code",
   "execution_count": 43,
   "id": "58a6dd8e-c3af-4f9f-a20a-5751b95cc4e7",
   "metadata": {},
   "outputs": [
    {
     "name": "stdout",
     "output_type": "stream",
     "text": [
      "48.63239850600561\n"
     ]
    }
   ],
   "source": [
    "#Run the experiment for this classifier and print the time it took\n",
    "#Test 5 parameter combinations\n",
    "start = time.time()\n",
    "cls_results_svm, cls_means_svm, opt_params_svm = pm.probability_estimation(svm, cv_params_svm, 5, 5)\n",
    "end = time.time()\n",
    "print((end - start)/60)"
   ]
  },
  {
   "cell_type": "code",
   "execution_count": 44,
   "id": "873e1401-19c1-4a23-b2cb-ddee8ee9e2c8",
   "metadata": {},
   "outputs": [
    {
     "data": {
      "text/html": [
       "<div>\n",
       "<style scoped>\n",
       "    .dataframe tbody tr th:only-of-type {\n",
       "        vertical-align: middle;\n",
       "    }\n",
       "\n",
       "    .dataframe tbody tr th {\n",
       "        vertical-align: top;\n",
       "    }\n",
       "\n",
       "    .dataframe thead th {\n",
       "        text-align: right;\n",
       "    }\n",
       "</style>\n",
       "<table border=\"1\" class=\"dataframe\">\n",
       "  <thead>\n",
       "    <tr style=\"text-align: right;\">\n",
       "      <th></th>\n",
       "      <th>year</th>\n",
       "      <th>interval</th>\n",
       "      <th>log_loss</th>\n",
       "      <th>log_skill_score</th>\n",
       "      <th>roc_auc</th>\n",
       "    </tr>\n",
       "  </thead>\n",
       "  <tbody>\n",
       "    <tr>\n",
       "      <th>0</th>\n",
       "      <td>2023</td>\n",
       "      <td>0</td>\n",
       "      <td>0.11</td>\n",
       "      <td>0.0553</td>\n",
       "      <td>0.739</td>\n",
       "    </tr>\n",
       "    <tr>\n",
       "      <th>1</th>\n",
       "      <td>2023</td>\n",
       "      <td>90</td>\n",
       "      <td>0.11</td>\n",
       "      <td>0.0559</td>\n",
       "      <td>0.742</td>\n",
       "    </tr>\n",
       "    <tr>\n",
       "      <th>2</th>\n",
       "      <td>2023</td>\n",
       "      <td>180</td>\n",
       "      <td>0.11</td>\n",
       "      <td>0.0565</td>\n",
       "      <td>0.736</td>\n",
       "    </tr>\n",
       "    <tr>\n",
       "      <th>3</th>\n",
       "      <td>2023</td>\n",
       "      <td>360</td>\n",
       "      <td>0.111</td>\n",
       "      <td>0.0477</td>\n",
       "      <td>0.726</td>\n",
       "    </tr>\n",
       "    <tr>\n",
       "      <th>4</th>\n",
       "      <td>2024</td>\n",
       "      <td>0</td>\n",
       "      <td>0.119</td>\n",
       "      <td>0.0604</td>\n",
       "      <td>0.741</td>\n",
       "    </tr>\n",
       "    <tr>\n",
       "      <th>5</th>\n",
       "      <td>2024</td>\n",
       "      <td>90</td>\n",
       "      <td>0.123</td>\n",
       "      <td>0.0299</td>\n",
       "      <td>0.694</td>\n",
       "    </tr>\n",
       "    <tr>\n",
       "      <th>6</th>\n",
       "      <td>2024</td>\n",
       "      <td>180</td>\n",
       "      <td>0.12</td>\n",
       "      <td>0.051</td>\n",
       "      <td>0.724</td>\n",
       "    </tr>\n",
       "    <tr>\n",
       "      <th>7</th>\n",
       "      <td>2024</td>\n",
       "      <td>360</td>\n",
       "      <td>0.123</td>\n",
       "      <td>0.024</td>\n",
       "      <td>0.688</td>\n",
       "    </tr>\n",
       "  </tbody>\n",
       "</table>\n",
       "</div>"
      ],
      "text/plain": [
       "   year  interval  log_loss  log_skill_score  roc_auc\n",
       "0  2023         0      0.11           0.0553    0.739\n",
       "1  2023        90      0.11           0.0559    0.742\n",
       "2  2023       180      0.11           0.0565    0.736\n",
       "3  2023       360     0.111           0.0477    0.726\n",
       "4  2024         0     0.119           0.0604    0.741\n",
       "5  2024        90     0.123           0.0299    0.694\n",
       "6  2024       180      0.12            0.051    0.724\n",
       "7  2024       360     0.123            0.024    0.688"
      ]
     },
     "execution_count": 44,
     "metadata": {},
     "output_type": "execute_result"
    }
   ],
   "source": [
    "cls_means_svm"
   ]
  },
  {
   "cell_type": "markdown",
   "id": "1ad0a4fc-fe9b-4630-aced-fb9bc7e834f4",
   "metadata": {},
   "source": [
    "## XGBoost"
   ]
  },
  {
   "cell_type": "code",
   "execution_count": 45,
   "id": "ac7955fa-7e79-450f-9496-c21307019252",
   "metadata": {},
   "outputs": [],
   "source": [
    "xgb = XGBClassifier(seed=0, booster='gbtree', objective='binary:logistic', eval_metric='logloss')"
   ]
  },
  {
   "cell_type": "code",
   "execution_count": 46,
   "id": "cce26c5f-bbca-49da-b4a9-ec8645402815",
   "metadata": {},
   "outputs": [],
   "source": [
    "#Parameter grid for the grid search with the XGBoost classifier\n",
    "cv_params_xgb = {\n",
    "    \"estimator__clf__n_estimators\": randint(100,300),\n",
    "    \"estimator__clf__eta\": uniform(0, 0.3),\n",
    "    \"estimator__clf__min_child_weight\": randint(low=1, high=11),\n",
    "    \"estimator__clf__max_depth\": randint(low=2, high=11),\n",
    "    \"estimator__clf__gamma\": loguniform(1e-1, 1), \n",
    "    \"estimator__clf__lambda\": loguniform(0.1, 10), \n",
    "    \"estimator__clf__alpha\": loguniform(0.1, 10),\n",
    "    \"estimator__clf__subsample\": uniform(0.5, 0.5), \n",
    "    \"estimator__clf__colsample_bytree\": uniform(0.2, 0.20),\n",
    "    \"estimator__clf__colsample_bynode\": uniform(0.5, 0.5),\n",
    "}"
   ]
  },
  {
   "cell_type": "code",
   "execution_count": 47,
   "id": "a6f38c17-ad97-41f9-b833-fb2f099b78d9",
   "metadata": {},
   "outputs": [
    {
     "name": "stderr",
     "output_type": "stream",
     "text": [
      "C:\\Users\\kelan\\.conda\\envs\\thesis\\Lib\\site-packages\\joblib\\externals\\loky\\process_executor.py:752: UserWarning: A worker stopped while some jobs were given to the executor. This can be caused by a too short worker timeout or by a memory leak.\n",
      "  warnings.warn(\n"
     ]
    },
    {
     "name": "stdout",
     "output_type": "stream",
     "text": [
      "22.91548624833425\n"
     ]
    }
   ],
   "source": [
    "#Run the experiment for this classifier and print the time it took\n",
    "#Test 20 parameter combinations\n",
    "start = time.time()\n",
    "cls_results_xgb, cls_means_xgb, opt_params_xgb = pm.probability_estimation(xgb, cv_params_xgb, 20, 5)\n",
    "end = time.time()\n",
    "print((end - start)/60)"
   ]
  },
  {
   "cell_type": "code",
   "execution_count": 48,
   "id": "1776e6bd-df9c-4b0f-af54-b94715e232d6",
   "metadata": {},
   "outputs": [
    {
     "data": {
      "text/html": [
       "<div>\n",
       "<style scoped>\n",
       "    .dataframe tbody tr th:only-of-type {\n",
       "        vertical-align: middle;\n",
       "    }\n",
       "\n",
       "    .dataframe tbody tr th {\n",
       "        vertical-align: top;\n",
       "    }\n",
       "\n",
       "    .dataframe thead th {\n",
       "        text-align: right;\n",
       "    }\n",
       "</style>\n",
       "<table border=\"1\" class=\"dataframe\">\n",
       "  <thead>\n",
       "    <tr style=\"text-align: right;\">\n",
       "      <th></th>\n",
       "      <th>year</th>\n",
       "      <th>interval</th>\n",
       "      <th>log_loss</th>\n",
       "      <th>log_skill_score</th>\n",
       "      <th>roc_auc</th>\n",
       "    </tr>\n",
       "  </thead>\n",
       "  <tbody>\n",
       "    <tr>\n",
       "      <th>0</th>\n",
       "      <td>2023</td>\n",
       "      <td>0</td>\n",
       "      <td>0.105</td>\n",
       "      <td>0.0936</td>\n",
       "      <td>0.789</td>\n",
       "    </tr>\n",
       "    <tr>\n",
       "      <th>1</th>\n",
       "      <td>2023</td>\n",
       "      <td>90</td>\n",
       "      <td>0.105</td>\n",
       "      <td>0.0913</td>\n",
       "      <td>0.788</td>\n",
       "    </tr>\n",
       "    <tr>\n",
       "      <th>2</th>\n",
       "      <td>2023</td>\n",
       "      <td>180</td>\n",
       "      <td>0.106</td>\n",
       "      <td>0.0863</td>\n",
       "      <td>0.784</td>\n",
       "    </tr>\n",
       "    <tr>\n",
       "      <th>3</th>\n",
       "      <td>2023</td>\n",
       "      <td>360</td>\n",
       "      <td>0.107</td>\n",
       "      <td>0.0815</td>\n",
       "      <td>0.78</td>\n",
       "    </tr>\n",
       "    <tr>\n",
       "      <th>4</th>\n",
       "      <td>2024</td>\n",
       "      <td>0</td>\n",
       "      <td>0.116</td>\n",
       "      <td>0.0854</td>\n",
       "      <td>0.778</td>\n",
       "    </tr>\n",
       "    <tr>\n",
       "      <th>5</th>\n",
       "      <td>2024</td>\n",
       "      <td>90</td>\n",
       "      <td>0.116</td>\n",
       "      <td>0.0806</td>\n",
       "      <td>0.773</td>\n",
       "    </tr>\n",
       "    <tr>\n",
       "      <th>6</th>\n",
       "      <td>2024</td>\n",
       "      <td>180</td>\n",
       "      <td>0.117</td>\n",
       "      <td>0.0786</td>\n",
       "      <td>0.771</td>\n",
       "    </tr>\n",
       "    <tr>\n",
       "      <th>7</th>\n",
       "      <td>2024</td>\n",
       "      <td>360</td>\n",
       "      <td>0.118</td>\n",
       "      <td>0.0707</td>\n",
       "      <td>0.765</td>\n",
       "    </tr>\n",
       "  </tbody>\n",
       "</table>\n",
       "</div>"
      ],
      "text/plain": [
       "   year  interval  log_loss  log_skill_score  roc_auc\n",
       "0  2023         0     0.105           0.0936    0.789\n",
       "1  2023        90     0.105           0.0913    0.788\n",
       "2  2023       180     0.106           0.0863    0.784\n",
       "3  2023       360     0.107           0.0815     0.78\n",
       "4  2024         0     0.116           0.0854    0.778\n",
       "5  2024        90     0.116           0.0806    0.773\n",
       "6  2024       180     0.117           0.0786    0.771\n",
       "7  2024       360     0.118           0.0707    0.765"
      ]
     },
     "execution_count": 48,
     "metadata": {},
     "output_type": "execute_result"
    }
   ],
   "source": [
    "cls_means_xgb"
   ]
  },
  {
   "cell_type": "markdown",
   "id": "ffb3eb2b-b465-4a73-9342-2e9a839e10c1",
   "metadata": {},
   "source": [
    "## Random Forest"
   ]
  },
  {
   "cell_type": "code",
   "execution_count": 49,
   "id": "00f89c78-339a-40f3-a80c-aca0f4938c12",
   "metadata": {},
   "outputs": [],
   "source": [
    "rf = RandomForestClassifier(random_state=0, n_jobs=n_jobs)"
   ]
  },
  {
   "cell_type": "code",
   "execution_count": 50,
   "id": "b058bb2d-d034-4ac2-a1f3-ac2247a81bf3",
   "metadata": {},
   "outputs": [],
   "source": [
    "#Parameter grid for the grid search with the RF classifier\n",
    "cv_params_rf = {\n",
    "    \"estimator__clf__n_estimators\": randint(100, 300),\n",
    "    \"estimator__clf__max_features\": randint(low=2, high=7),\n",
    "    \"estimator__clf__max_samples\": uniform(0.5, 0.5),\n",
    "    \"estimator__clf__max_depth\": randint(low=2, high=11),\n",
    "    \"estimator__clf__min_samples_split\": [2, 5, 10, 20, 50],\n",
    "    \"estimator__clf__min_samples_leaf\": [1, 2, 5, 10, 20]\n",
    "}"
   ]
  },
  {
   "cell_type": "code",
   "execution_count": 51,
   "id": "73be3ace-2c25-43ba-8d76-049e830056f9",
   "metadata": {},
   "outputs": [
    {
     "name": "stdout",
     "output_type": "stream",
     "text": [
      "41.106598830223085\n"
     ]
    }
   ],
   "source": [
    "#Run the experiment for this classifier and print the time it took\n",
    "#Test 10 parameter combinations\n",
    "start = time.time()\n",
    "cls_results_rf, cls_means_rf, opt_params_rf = pm.probability_estimation(rf, cv_params_rf, 10, 5)\n",
    "end = time.time()\n",
    "print((end - start)/60)"
   ]
  },
  {
   "cell_type": "code",
   "execution_count": 52,
   "id": "d5fd4228-e0d0-4093-a55f-fec8dbfdf2a1",
   "metadata": {},
   "outputs": [
    {
     "data": {
      "text/html": [
       "<div>\n",
       "<style scoped>\n",
       "    .dataframe tbody tr th:only-of-type {\n",
       "        vertical-align: middle;\n",
       "    }\n",
       "\n",
       "    .dataframe tbody tr th {\n",
       "        vertical-align: top;\n",
       "    }\n",
       "\n",
       "    .dataframe thead th {\n",
       "        text-align: right;\n",
       "    }\n",
       "</style>\n",
       "<table border=\"1\" class=\"dataframe\">\n",
       "  <thead>\n",
       "    <tr style=\"text-align: right;\">\n",
       "      <th></th>\n",
       "      <th>year</th>\n",
       "      <th>interval</th>\n",
       "      <th>log_loss</th>\n",
       "      <th>log_skill_score</th>\n",
       "      <th>roc_auc</th>\n",
       "    </tr>\n",
       "  </thead>\n",
       "  <tbody>\n",
       "    <tr>\n",
       "      <th>0</th>\n",
       "      <td>2023</td>\n",
       "      <td>0</td>\n",
       "      <td>0.105</td>\n",
       "      <td>0.0953</td>\n",
       "      <td>0.787</td>\n",
       "    </tr>\n",
       "    <tr>\n",
       "      <th>1</th>\n",
       "      <td>2023</td>\n",
       "      <td>90</td>\n",
       "      <td>0.105</td>\n",
       "      <td>0.0913</td>\n",
       "      <td>0.784</td>\n",
       "    </tr>\n",
       "    <tr>\n",
       "      <th>2</th>\n",
       "      <td>2023</td>\n",
       "      <td>180</td>\n",
       "      <td>0.106</td>\n",
       "      <td>0.0903</td>\n",
       "      <td>0.783</td>\n",
       "    </tr>\n",
       "    <tr>\n",
       "      <th>3</th>\n",
       "      <td>2023</td>\n",
       "      <td>360</td>\n",
       "      <td>0.106</td>\n",
       "      <td>0.084</td>\n",
       "      <td>0.779</td>\n",
       "    </tr>\n",
       "    <tr>\n",
       "      <th>4</th>\n",
       "      <td>2024</td>\n",
       "      <td>0</td>\n",
       "      <td>0.115</td>\n",
       "      <td>0.0884</td>\n",
       "      <td>0.775</td>\n",
       "    </tr>\n",
       "    <tr>\n",
       "      <th>5</th>\n",
       "      <td>2024</td>\n",
       "      <td>90</td>\n",
       "      <td>0.116</td>\n",
       "      <td>0.0837</td>\n",
       "      <td>0.772</td>\n",
       "    </tr>\n",
       "    <tr>\n",
       "      <th>6</th>\n",
       "      <td>2024</td>\n",
       "      <td>180</td>\n",
       "      <td>0.116</td>\n",
       "      <td>0.0827</td>\n",
       "      <td>0.772</td>\n",
       "    </tr>\n",
       "    <tr>\n",
       "      <th>7</th>\n",
       "      <td>2024</td>\n",
       "      <td>360</td>\n",
       "      <td>0.117</td>\n",
       "      <td>0.0758</td>\n",
       "      <td>0.769</td>\n",
       "    </tr>\n",
       "  </tbody>\n",
       "</table>\n",
       "</div>"
      ],
      "text/plain": [
       "   year  interval  log_loss  log_skill_score  roc_auc\n",
       "0  2023         0     0.105           0.0953    0.787\n",
       "1  2023        90     0.105           0.0913    0.784\n",
       "2  2023       180     0.106           0.0903    0.783\n",
       "3  2023       360     0.106            0.084    0.779\n",
       "4  2024         0     0.115           0.0884    0.775\n",
       "5  2024        90     0.116           0.0837    0.772\n",
       "6  2024       180     0.116           0.0827    0.772\n",
       "7  2024       360     0.117           0.0758    0.769"
      ]
     },
     "execution_count": 52,
     "metadata": {},
     "output_type": "execute_result"
    }
   ],
   "source": [
    "cls_means_rf"
   ]
  },
  {
   "cell_type": "markdown",
   "id": "6cfd6a86-62b2-4e32-9409-50e183e833d0",
   "metadata": {},
   "source": [
    "## Artificial Neural Network"
   ]
  },
  {
   "cell_type": "code",
   "execution_count": 53,
   "id": "23398480-08a5-4965-b9b5-837ad9fe77d8",
   "metadata": {},
   "outputs": [],
   "source": [
    "ann = MLPClassifier(random_state=0, activation='relu', solver='adam')"
   ]
  },
  {
   "cell_type": "code",
   "execution_count": 54,
   "id": "b9cebdae-a3e3-463e-86a4-20e47cb219cc",
   "metadata": {},
   "outputs": [],
   "source": [
    "#Parameter grid for the grid search with the MLP classifier\n",
    "cv_params_ann = {\n",
    "    \"estimator__clf__hidden_layer_sizes\": [(100,), (100,50), (100,50,25)],\n",
    "    \"estimator__clf__alpha\": loguniform(b=1e1, a=1e-1),\n",
    "    \"estimator__clf__learning_rate_init\": [1e-2],\n",
    "    \"estimator__clf__max_iter\": [10000],\n",
    "    \"estimator__clf__tol\": loguniform(b=1e-3, a=1e-6),\n",
    "    \"estimator__clf__n_iter_no_change\": [10],\n",
    "    \"estimator__clf__beta_1\": uniform(0.85, 0.1),\n",
    "    \"estimator__clf__beta_2\": uniform(0.95, 0.05),\n",
    "    \"estimator__clf__epsilon\": loguniform(1e-8, 1e-4)\n",
    "}"
   ]
  },
  {
   "cell_type": "code",
   "execution_count": 55,
   "id": "16970f01-bcb4-4196-b55a-27cbc337a374",
   "metadata": {},
   "outputs": [
    {
     "name": "stdout",
     "output_type": "stream",
     "text": [
      "67.0023796916008\n"
     ]
    }
   ],
   "source": [
    "#Run the experiment for this classifier and print the time it took\n",
    "#Test 5 parameter combinations\n",
    "start = time.time()\n",
    "cls_results_ann, cls_means_ann, opt_params_ann = pm.probability_estimation(ann, cv_params_ann, 5, 5)\n",
    "end = time.time()\n",
    "print((end - start)/60)"
   ]
  },
  {
   "cell_type": "code",
   "execution_count": 56,
   "id": "8e552ee3-76b2-4860-8c8d-81aefec9c8e3",
   "metadata": {},
   "outputs": [
    {
     "data": {
      "text/html": [
       "<div>\n",
       "<style scoped>\n",
       "    .dataframe tbody tr th:only-of-type {\n",
       "        vertical-align: middle;\n",
       "    }\n",
       "\n",
       "    .dataframe tbody tr th {\n",
       "        vertical-align: top;\n",
       "    }\n",
       "\n",
       "    .dataframe thead th {\n",
       "        text-align: right;\n",
       "    }\n",
       "</style>\n",
       "<table border=\"1\" class=\"dataframe\">\n",
       "  <thead>\n",
       "    <tr style=\"text-align: right;\">\n",
       "      <th></th>\n",
       "      <th>year</th>\n",
       "      <th>interval</th>\n",
       "      <th>log_loss</th>\n",
       "      <th>log_skill_score</th>\n",
       "      <th>roc_auc</th>\n",
       "    </tr>\n",
       "  </thead>\n",
       "  <tbody>\n",
       "    <tr>\n",
       "      <th>0</th>\n",
       "      <td>2023</td>\n",
       "      <td>0</td>\n",
       "      <td>0.106</td>\n",
       "      <td>0.0847</td>\n",
       "      <td>0.77</td>\n",
       "    </tr>\n",
       "    <tr>\n",
       "      <th>1</th>\n",
       "      <td>2023</td>\n",
       "      <td>90</td>\n",
       "      <td>0.108</td>\n",
       "      <td>0.0665</td>\n",
       "      <td>0.765</td>\n",
       "    </tr>\n",
       "    <tr>\n",
       "      <th>2</th>\n",
       "      <td>2023</td>\n",
       "      <td>180</td>\n",
       "      <td>0.108</td>\n",
       "      <td>0.0704</td>\n",
       "      <td>0.763</td>\n",
       "    </tr>\n",
       "    <tr>\n",
       "      <th>3</th>\n",
       "      <td>2023</td>\n",
       "      <td>360</td>\n",
       "      <td>0.109</td>\n",
       "      <td>0.0634</td>\n",
       "      <td>0.755</td>\n",
       "    </tr>\n",
       "    <tr>\n",
       "      <th>4</th>\n",
       "      <td>2024</td>\n",
       "      <td>0</td>\n",
       "      <td>0.119</td>\n",
       "      <td>0.0627</td>\n",
       "      <td>0.744</td>\n",
       "    </tr>\n",
       "    <tr>\n",
       "      <th>5</th>\n",
       "      <td>2024</td>\n",
       "      <td>90</td>\n",
       "      <td>0.119</td>\n",
       "      <td>0.063</td>\n",
       "      <td>0.746</td>\n",
       "    </tr>\n",
       "    <tr>\n",
       "      <th>6</th>\n",
       "      <td>2024</td>\n",
       "      <td>180</td>\n",
       "      <td>0.118</td>\n",
       "      <td>0.0654</td>\n",
       "      <td>0.753</td>\n",
       "    </tr>\n",
       "    <tr>\n",
       "      <th>7</th>\n",
       "      <td>2024</td>\n",
       "      <td>360</td>\n",
       "      <td>0.12</td>\n",
       "      <td>0.0545</td>\n",
       "      <td>0.741</td>\n",
       "    </tr>\n",
       "  </tbody>\n",
       "</table>\n",
       "</div>"
      ],
      "text/plain": [
       "   year  interval  log_loss  log_skill_score  roc_auc\n",
       "0  2023         0     0.106           0.0847     0.77\n",
       "1  2023        90     0.108           0.0665    0.765\n",
       "2  2023       180     0.108           0.0704    0.763\n",
       "3  2023       360     0.109           0.0634    0.755\n",
       "4  2024         0     0.119           0.0627    0.744\n",
       "5  2024        90     0.119            0.063    0.746\n",
       "6  2024       180     0.118           0.0654    0.753\n",
       "7  2024       360      0.12           0.0545    0.741"
      ]
     },
     "execution_count": 56,
     "metadata": {},
     "output_type": "execute_result"
    }
   ],
   "source": [
    "cls_means_ann"
   ]
  },
  {
   "cell_type": "markdown",
   "id": "e6728ab9-e1e2-4f49-ac80-b569bc5b33e7",
   "metadata": {},
   "source": [
    "# Model Selection\n",
    "Now that we have experimental results for the 5 ML models, we must select one based on performance."
   ]
  },
  {
   "cell_type": "code",
   "execution_count": 57,
   "id": "2f355ceb-5d51-47de-8ec3-5fdcdd71ae16",
   "metadata": {},
   "outputs": [],
   "source": [
    "cls_results_cols = ['clf', 'year', 'interval', 'log_loss', 'log_skill_score', 'roc_auc']"
   ]
  },
  {
   "cell_type": "code",
   "execution_count": 58,
   "id": "5f2e3952-1e9d-4b59-9e4f-082314d752f4",
   "metadata": {},
   "outputs": [],
   "source": [
    "#Combine all experimental results into one dataframe\n",
    "cls_results_lren.loc[:, 'clf'] = 'lren'\n",
    "cls_results_svm.loc[:, 'clf'] = 'svm'\n",
    "cls_results_xgb.loc[:, 'clf'] = 'xgb'\n",
    "cls_results_rf.loc[:, 'clf'] = 'rf'\n",
    "cls_results_ann.loc[:, 'clf'] = 'ann'\n",
    "\n",
    "cls_results = [cls_results_lren, cls_results_svm, cls_results_xgb, cls_results_rf, cls_results_ann]\n",
    "cls_results_all = pd.concat(cls_results, ignore_index=True).loc[:, cls_results_cols]"
   ]
  },
  {
   "cell_type": "code",
   "execution_count": 59,
   "id": "15870a38-4b77-4763-890b-23e6ee1bacc2",
   "metadata": {},
   "outputs": [],
   "source": [
    "cls_results_all.to_csv('RESULTS/classification_results_cvg_only.csv', index=False)"
   ]
  },
  {
   "cell_type": "code",
   "execution_count": 60,
   "id": "30e652de-0309-43a4-9616-30ae2814f124",
   "metadata": {},
   "outputs": [],
   "source": [
    "#Combine all mean results into one df\n",
    "cls_means_lren.loc[:, 'clf'] = 'lren'\n",
    "cls_means_svm.loc[:, 'clf'] = 'svm'\n",
    "cls_means_xgb.loc[:, 'clf'] = 'xgb'\n",
    "cls_means_rf.loc[:, 'clf'] = 'rf'\n",
    "cls_means_ann.loc[:, 'clf'] = 'ann'\n",
    "\n",
    "cls_means = [cls_means_lren, cls_means_svm, cls_means_xgb, cls_means_rf, cls_means_ann]\n",
    "cls_means_all = pd.concat(cls_means, ignore_index=True).loc[:, cls_results_cols]"
   ]
  },
  {
   "cell_type": "code",
   "execution_count": 61,
   "id": "1a478ed3-ca90-4f46-a1f2-a34cba3f2d9a",
   "metadata": {},
   "outputs": [],
   "source": [
    "cls_means_all.to_csv('RESULTS/classification_means_cvg_only.csv', index=False)"
   ]
  },
  {
   "cell_type": "markdown",
   "id": "5ca2a5f1-4c3a-4dde-9151-d0e766e0979e",
   "metadata": {},
   "source": [
    "## Plots\n",
    "The classification results are plotted to identify the best model. We observe the log loss skill score and roc-auc metrics."
   ]
  },
  {
   "cell_type": "markdown",
   "id": "aa6ac324-4d9e-44b8-bfc3-2d01db6f2f20",
   "metadata": {},
   "source": [
    "### 2023 test"
   ]
  },
  {
   "cell_type": "code",
   "execution_count": 62,
   "id": "329c6aed-5f2f-4ef5-9c10-4bfd64f47b9a",
   "metadata": {},
   "outputs": [
    {
     "data": {
      "image/png": "[encoded data removed]",
      "text/plain": [
       "<Figure size 1200x600 with 1 Axes>"
      ]
     },
     "metadata": {},
     "output_type": "display_data"
    }
   ],
   "source": [
    "#Log loss skill score plot 2023\n",
    "fig, ax = plt.subplots(figsize=(12,6))\n",
    "query = 'year==2023'\n",
    "result = cls_results_all.query(query)\n",
    "sns.barplot(data=result, y='log_skill_score', x=result['clf'].str.upper(), \n",
    "            hue='interval', ax=ax, orient='v', palette='Set3', errorbar='sd')\n",
    "ax.set_title('Log Skill Scores for the 2023 test using Coverage Information Only')\n",
    "ax.title.set_size(15)\n",
    "ax.legend(loc='upper left', title='interval')\n",
    "plt.show()"
   ]
  },
  {
   "cell_type": "code",
   "execution_count": 63,
   "id": "f83ef271-bfc3-4640-8394-51f334dd5136",
   "metadata": {},
   "outputs": [
    {
     "data": {
      "image/png": "[encoded data removed]",
      "text/plain": [
       "<Figure size 1200x600 with 1 Axes>"
      ]
     },
     "metadata": {},
     "output_type": "display_data"
    }
   ],
   "source": [
    "#ROC-AUC plot 2023\n",
    "fig, ax = plt.subplots(figsize=(12,6))\n",
    "query = 'year==2023'\n",
    "result = cls_results_all.query(query).copy()\n",
    "sns.boxplot(data=result, y='roc_auc', x=result['clf'].str.upper(), hue='interval', ax=ax, orient='v', palette='Set3')\n",
    "ax.set_title('ROC AUC scores for the 2023 test using Coverage Information Only')\n",
    "ax.title.set_size(15)\n",
    "ax.legend(loc='lower left', title='interval')\n",
    "plt.show()"
   ]
  },
  {
   "cell_type": "markdown",
   "id": "9c1f2aaa-d7fa-44b1-9aac-c58e97083835",
   "metadata": {},
   "source": [
    "### 2024 test"
   ]
  },
  {
   "cell_type": "code",
   "execution_count": 64,
   "id": "293c8bbf-f048-4ca7-9cf3-95b535ea2ae7",
   "metadata": {},
   "outputs": [
    {
     "data": {
      "image/png": "[encoded data removed]",
      "text/plain": [
       "<Figure size 1200x600 with 1 Axes>"
      ]
     },
     "metadata": {},
     "output_type": "display_data"
    }
   ],
   "source": [
    "#Log loss skill score plot 2024\n",
    "fig, ax = plt.subplots(figsize=(12,6))\n",
    "query = 'year==2024'\n",
    "result = cls_results_all.query(query)\n",
    "sns.barplot(data=result, y='log_skill_score', x=result['clf'].str.upper(), \n",
    "            hue='interval', ax=ax, orient='v', palette='pastel', errorbar='sd')\n",
    "ax.set_title('Log Skill Scores for the 2024 test using Coverage Information Only')\n",
    "ax.title.set_size(15)\n",
    "ax.legend(loc='upper left', title='interval')\n",
    "plt.show()"
   ]
  },
  {
   "cell_type": "code",
   "execution_count": 65,
   "id": "065a8cdc-ac50-49b5-81ff-87a8ca4cee73",
   "metadata": {},
   "outputs": [
    {
     "data": {
      "image/png": "[encoded data removed]",
      "text/plain": [
       "<Figure size 1200x600 with 1 Axes>"
      ]
     },
     "metadata": {},
     "output_type": "display_data"
    }
   ],
   "source": [
    "#ROC-AUC plot 2024\n",
    "fig, ax = plt.subplots(figsize=(12,6))\n",
    "query = 'year==2024'\n",
    "result = cls_results_all.query(query).copy()\n",
    "sns.boxplot(data=result, y='roc_auc', x=result['clf'].str.upper(), hue='interval', ax=ax, orient='v', palette='pastel')\n",
    "ax.set_title('ROC AUC scores for the 2024 test using Coverage Information Only')\n",
    "ax.title.set_size(15)\n",
    "ax.legend(loc='lower left', title='interval')\n",
    "plt.show()"
   ]
  },
  {
   "cell_type": "markdown",
   "id": "f7a81e84-25a5-4ba9-8dfc-a0abe30dcc1e",
   "metadata": {},
   "source": [
    "## Best mean results\n",
    "We also search the results dataframe to identify the model with the best mean log loss skill score in each experiment.\\\n",
    "It appears that the Random Forest algorithm most frequently gave the best probability estimates."
   ]
  },
  {
   "cell_type": "code",
   "execution_count": 66,
   "id": "2977d120-0e79-47fc-8f21-8d6f8eb85682",
   "metadata": {},
   "outputs": [],
   "source": [
    "def best_clf_res(group):\n",
    "    return group.loc[group['mean_log_skill'].idxmax(), :]\n",
    "\n",
    "cls_means_calc = cls_results_all.groupby(['year', 'interval', 'clf'])\\\n",
    "                                .agg(mean_log_skill = ('log_skill_score', 'mean'),\n",
    "                                     max_log_skill = ('log_skill_score', 'max'),\n",
    "                                     min_log_skill = ('log_skill_score', 'min'),\n",
    "                                     mean_auc = ('roc_auc', 'mean'),\n",
    "                                     max_auc = ('roc_auc', 'max'),\n",
    "                                     min_auc = ('roc_auc', 'min')\n",
    "                                ).reset_index()\n",
    "\n",
    "best_mean_scores = cls_means_calc.groupby(['year', 'interval'])\\\n",
    "                                 .apply(lambda g: best_clf_res(g), include_groups=False)\\\n",
    "                                 .reset_index()"
   ]
  },
  {
   "cell_type": "code",
   "execution_count": 67,
   "id": "163b3336-4f03-482d-835c-4f54e8813684",
   "metadata": {},
   "outputs": [
    {
     "data": {
      "text/html": [
       "<div>\n",
       "<style scoped>\n",
       "    .dataframe tbody tr th:only-of-type {\n",
       "        vertical-align: middle;\n",
       "    }\n",
       "\n",
       "    .dataframe tbody tr th {\n",
       "        vertical-align: top;\n",
       "    }\n",
       "\n",
       "    .dataframe thead th {\n",
       "        text-align: right;\n",
       "    }\n",
       "</style>\n",
       "<table border=\"1\" class=\"dataframe\">\n",
       "  <thead>\n",
       "    <tr style=\"text-align: right;\">\n",
       "      <th></th>\n",
       "      <th>year</th>\n",
       "      <th>interval</th>\n",
       "      <th>clf</th>\n",
       "      <th>mean_log_skill</th>\n",
       "      <th>max_log_skill</th>\n",
       "      <th>min_log_skill</th>\n",
       "      <th>mean_auc</th>\n",
       "      <th>max_auc</th>\n",
       "      <th>min_auc</th>\n",
       "    </tr>\n",
       "  </thead>\n",
       "  <tbody>\n",
       "    <tr>\n",
       "      <th>0</th>\n",
       "      <td>2023</td>\n",
       "      <td>0</td>\n",
       "      <td>rf</td>\n",
       "      <td>0.0953</td>\n",
       "      <td>0.0987</td>\n",
       "      <td>0.0846</td>\n",
       "      <td>0.787</td>\n",
       "      <td>0.791</td>\n",
       "      <td>0.773</td>\n",
       "    </tr>\n",
       "    <tr>\n",
       "      <th>1</th>\n",
       "      <td>2023</td>\n",
       "      <td>90</td>\n",
       "      <td>rf</td>\n",
       "      <td>0.0913</td>\n",
       "      <td>0.0957</td>\n",
       "      <td>0.0865</td>\n",
       "      <td>0.784</td>\n",
       "      <td>0.788</td>\n",
       "      <td>0.779</td>\n",
       "    </tr>\n",
       "    <tr>\n",
       "      <th>2</th>\n",
       "      <td>2023</td>\n",
       "      <td>180</td>\n",
       "      <td>rf</td>\n",
       "      <td>0.0903</td>\n",
       "      <td>0.0925</td>\n",
       "      <td>0.0885</td>\n",
       "      <td>0.783</td>\n",
       "      <td>0.785</td>\n",
       "      <td>0.781</td>\n",
       "    </tr>\n",
       "    <tr>\n",
       "      <th>3</th>\n",
       "      <td>2023</td>\n",
       "      <td>360</td>\n",
       "      <td>rf</td>\n",
       "      <td>0.084</td>\n",
       "      <td>0.0863</td>\n",
       "      <td>0.0811</td>\n",
       "      <td>0.779</td>\n",
       "      <td>0.782</td>\n",
       "      <td>0.777</td>\n",
       "    </tr>\n",
       "    <tr>\n",
       "      <th>4</th>\n",
       "      <td>2024</td>\n",
       "      <td>0</td>\n",
       "      <td>rf</td>\n",
       "      <td>0.0884</td>\n",
       "      <td>0.091</td>\n",
       "      <td>0.0823</td>\n",
       "      <td>0.775</td>\n",
       "      <td>0.779</td>\n",
       "      <td>0.769</td>\n",
       "    </tr>\n",
       "    <tr>\n",
       "      <th>5</th>\n",
       "      <td>2024</td>\n",
       "      <td>90</td>\n",
       "      <td>rf</td>\n",
       "      <td>0.0837</td>\n",
       "      <td>0.0849</td>\n",
       "      <td>0.0804</td>\n",
       "      <td>0.772</td>\n",
       "      <td>0.774</td>\n",
       "      <td>0.77</td>\n",
       "    </tr>\n",
       "    <tr>\n",
       "      <th>6</th>\n",
       "      <td>2024</td>\n",
       "      <td>180</td>\n",
       "      <td>rf</td>\n",
       "      <td>0.0827</td>\n",
       "      <td>0.0847</td>\n",
       "      <td>0.0803</td>\n",
       "      <td>0.772</td>\n",
       "      <td>0.774</td>\n",
       "      <td>0.767</td>\n",
       "    </tr>\n",
       "    <tr>\n",
       "      <th>7</th>\n",
       "      <td>2024</td>\n",
       "      <td>360</td>\n",
       "      <td>rf</td>\n",
       "      <td>0.0758</td>\n",
       "      <td>0.0782</td>\n",
       "      <td>0.0691</td>\n",
       "      <td>0.769</td>\n",
       "      <td>0.772</td>\n",
       "      <td>0.763</td>\n",
       "    </tr>\n",
       "  </tbody>\n",
       "</table>\n",
       "</div>"
      ],
      "text/plain": [
       "   year  interval clf  mean_log_skill  max_log_skill  min_log_skill  mean_auc  max_auc  min_auc\n",
       "0  2023         0  rf          0.0953         0.0987         0.0846     0.787    0.791    0.773\n",
       "1  2023        90  rf          0.0913         0.0957         0.0865     0.784    0.788    0.779\n",
       "2  2023       180  rf          0.0903         0.0925         0.0885     0.783    0.785    0.781\n",
       "3  2023       360  rf           0.084         0.0863         0.0811     0.779    0.782    0.777\n",
       "4  2024         0  rf          0.0884          0.091         0.0823     0.775    0.779    0.769\n",
       "5  2024        90  rf          0.0837         0.0849         0.0804     0.772    0.774     0.77\n",
       "6  2024       180  rf          0.0827         0.0847         0.0803     0.772    0.774    0.767\n",
       "7  2024       360  rf          0.0758         0.0782         0.0691     0.769    0.772    0.763"
      ]
     },
     "execution_count": 67,
     "metadata": {},
     "output_type": "execute_result"
    }
   ],
   "source": [
    "best_mean_scores"
   ]
  },
  {
   "cell_type": "code",
   "execution_count": 68,
   "id": "a6426303-5674-4c0f-b0be-3e4b74adcb34",
   "metadata": {},
   "outputs": [],
   "source": [
    "best_mean_scores.to_csv('RESULTS/best_model_cvg_only.csv', index=False)"
   ]
  },
  {
   "cell_type": "markdown",
   "id": "f1f61377-0363-45a8-a108-d842febc3e7e",
   "metadata": {},
   "source": [
    "## Demonstration of feature importance\n",
    "Using the best model - the Random Forest, we can now experiment with feature importance analysis. \\\n",
    "These are limited experiments using only the 0 day offset interval. Feature importances are scored 20 times and averaged. \\\n",
    "Also, note that calibrated classifiers use ensemble estimators. Feature importances are extracted from each submodel in the ensemble."
   ]
  },
  {
   "cell_type": "markdown",
   "id": "8339fe79-0d97-49fe-9def-1634e3ca2f33",
   "metadata": {},
   "source": [
    "### 2023 test"
   ]
  },
  {
   "cell_type": "code",
   "execution_count": 69,
   "id": "fbcdc3b2-049c-4c3f-b48c-70fd24f624e2",
   "metadata": {},
   "outputs": [
    {
     "name": "stdout",
     "output_type": "stream",
     "text": [
      "22.641688712437947\n"
     ]
    }
   ],
   "source": [
    "pm.set_params(year=2023, interval=0) #Set parameters for the experiment\n",
    "fi_scores_23 = pd.DataFrame(columns=model_cols)\n",
    "start = time.time()\n",
    "for i in range(0, 20, 1): #Repeat 20 times\n",
    "    best_clf = pm.get_best_estimator(rf, cv_params_rf, 10, 5) #Get an optimised RF clf\n",
    "    #The estimator is an ensemble so we need to extract feature importances from each submodel\n",
    "    for submodel in best_clf:\n",
    "        submodel_fi = submodel.estimator['clf'].feature_importances_\n",
    "        fi_score = pd.Series(data=submodel_fi, index=model_cols) #Extract feature importance scores\n",
    "        fi_scores_23.loc[len(fi_scores_23), :] = fi_score\n",
    "end = time.time()\n",
    "print((end - start)/60)"
   ]
  },
  {
   "cell_type": "code",
   "execution_count": 70,
   "id": "1347433d-ac07-45ba-8356-bcd09a90e55f",
   "metadata": {},
   "outputs": [
    {
     "data": {
      "text/plain": [
       "(100, 15)"
      ]
     },
     "execution_count": 70,
     "metadata": {},
     "output_type": "execute_result"
    }
   ],
   "source": [
    "fi_scores_23.shape"
   ]
  },
  {
   "cell_type": "code",
   "execution_count": 71,
   "id": "a9116b36-8db0-4ec8-ae26-eccfee51cb9a",
   "metadata": {},
   "outputs": [
    {
     "data": {
      "image/png": "[encoded data removed]",
      "text/plain": [
       "<Figure size 700x500 with 1 Axes>"
      ]
     },
     "metadata": {},
     "output_type": "display_data"
    }
   ],
   "source": [
    "#Average the feature importance scores across the runs and plot\n",
    "fig, ax = plt.subplots(figsize=(7,5))\n",
    "feat_order = fi_scores_23.mean().sort_values(key=abs, ascending=False).index.values\n",
    "sns.barplot(data=fi_scores_23, ax=ax, orient='h', color='red', errorbar='sd', order=feat_order)\n",
    "ax.set_title('Feature importance analysis for the 2023 test using coverage information only')\n",
    "ax.title.set_size(12)\n",
    "plt.show()"
   ]
  },
  {
   "cell_type": "markdown",
   "id": "9537227a-b9df-45cc-b4bd-d9deeb55dee0",
   "metadata": {},
   "source": [
    "### 2024 test"
   ]
  },
  {
   "cell_type": "code",
   "execution_count": 72,
   "id": "1722afa5-d8a0-419d-92fb-7a1e132b89fe",
   "metadata": {},
   "outputs": [
    {
     "name": "stdout",
     "output_type": "stream",
     "text": [
      "24.34664556582769\n"
     ]
    }
   ],
   "source": [
    "pm.set_params(year=2024, interval=0) #Set parameters for the experiment\n",
    "fi_scores_24 = pd.DataFrame(columns=model_cols)\n",
    "start = time.time()\n",
    "for i in range(0, 20, 1): #Repeat 20 times\n",
    "    best_clf = pm.get_best_estimator(rf, cv_params_rf, 10, 5) #Get an optimised RF clf\n",
    "    #The estimator is an ensemble so we need to extract feature importances from each submodel\n",
    "    for submodel in best_clf:\n",
    "        submodel_fi = submodel.estimator['clf'].feature_importances_\n",
    "        fi_score = pd.Series(data=submodel_fi, index=model_cols) #Extract feature importance scores\n",
    "        fi_scores_24.loc[len(fi_scores_24), :] = fi_score\n",
    "end = time.time()\n",
    "print((end - start)/60)"
   ]
  },
  {
   "cell_type": "code",
   "execution_count": 73,
   "id": "3ec9276a-4d62-495f-a59e-b6494c02a3e9",
   "metadata": {},
   "outputs": [
    {
     "data": {
      "text/plain": [
       "(100, 15)"
      ]
     },
     "execution_count": 73,
     "metadata": {},
     "output_type": "execute_result"
    }
   ],
   "source": [
    "fi_scores_24.shape"
   ]
  },
  {
   "cell_type": "code",
   "execution_count": 74,
   "id": "b3ad9ab2-5586-4e0c-a9b2-626633cf8659",
   "metadata": {},
   "outputs": [
    {
     "data": {
      "image/png": "[encoded data removed]",
      "text/plain": [
       "<Figure size 700x500 with 1 Axes>"
      ]
     },
     "metadata": {},
     "output_type": "display_data"
    }
   ],
   "source": [
    "#Average the feature importance scores across the runs and plot\n",
    "fig, ax = plt.subplots(figsize=(7,5))\n",
    "feat_order = fi_scores_24.mean().sort_values(key=abs, ascending=False).index.values\n",
    "sns.barplot(data=fi_scores_24, ax=ax, orient='h', color='lightblue', errorbar='sd', order=feat_order)\n",
    "ax.set_title('Feature importance analysis for the 2024 test using coverage information only')\n",
    "ax.title.set_size(12)\n",
    "plt.show()"
   ]
  },
  {
   "cell_type": "markdown",
   "id": "2188b2c9-0888-4acf-ad67-d7b40310a95d",
   "metadata": {},
   "source": [
    "# Rank Score\n",
    "Lastly, the best performing model - the Random Forest - is used to produce probability estimates for the coverages. These are then ranked in order of risk. Precision-at-K (PAK) and Recall-at-K (RAK) analysis is then performed. The experiment is repeated 5 times for numberical stability."
   ]
  },
  {
   "cell_type": "code",
   "execution_count": 75,
   "id": "0ddad2d2-d5cc-4d40-99a4-e8c85b8311e0",
   "metadata": {},
   "outputs": [
    {
     "name": "stdout",
     "output_type": "stream",
     "text": [
      "43.45945563316345\n"
     ]
    }
   ],
   "source": [
    "pm.set_params(test_years=[2023,2024], test_intervals=[0,90,180,360])\n",
    "start = time.time()\n",
    "ranking_results, mean_ranking_results = pm.repeated_ranking_analysis(rf, cv_params_rf, 10, 5, runs=5)\n",
    "end = time.time()\n",
    "print((end - start)/60)"
   ]
  },
  {
   "cell_type": "code",
   "execution_count": 76,
   "id": "7f3501d1-4450-4e10-94d7-2b1cfad25369",
   "metadata": {},
   "outputs": [
    {
     "name": "stdout",
     "output_type": "stream",
     "text": [
      "(120, 6) (24, 6)\n"
     ]
    }
   ],
   "source": [
    "print(ranking_results.shape, mean_ranking_results.shape)"
   ]
  },
  {
   "cell_type": "code",
   "execution_count": 77,
   "id": "1b696d7f-2b36-4de8-a50e-dccbd26c4384",
   "metadata": {},
   "outputs": [],
   "source": [
    "ranking_results.to_csv('RESULTS/ranking_results_cvg_only.csv', index=False)"
   ]
  },
  {
   "cell_type": "code",
   "execution_count": 78,
   "id": "dc4358c1-7c90-41fe-bf60-ee49a3d6bee4",
   "metadata": {},
   "outputs": [],
   "source": [
    "mean_ranking_results.to_csv('RESULTS/mean_ranking_results_cvg_only.csv', index=False)"
   ]
  },
  {
   "cell_type": "markdown",
   "id": "a2613fa9-d202-476c-a608-f4f426e4d34f",
   "metadata": {},
   "source": [
    "## 2023 test\n",
    "Plots of the ranking analysis of the 2023 test."
   ]
  },
  {
   "cell_type": "code",
   "execution_count": 79,
   "id": "de2ae1b2-247a-4aa4-8b18-1704b42d5026",
   "metadata": {},
   "outputs": [
    {
     "data": {
      "text/html": [
       "<div>\n",
       "<style scoped>\n",
       "    .dataframe tbody tr th:only-of-type {\n",
       "        vertical-align: middle;\n",
       "    }\n",
       "\n",
       "    .dataframe tbody tr th {\n",
       "        vertical-align: top;\n",
       "    }\n",
       "\n",
       "    .dataframe thead th {\n",
       "        text-align: right;\n",
       "    }\n",
       "</style>\n",
       "<table border=\"1\" class=\"dataframe\">\n",
       "  <thead>\n",
       "    <tr style=\"text-align: right;\">\n",
       "      <th></th>\n",
       "      <th>year</th>\n",
       "      <th>interval</th>\n",
       "      <th>id</th>\n",
       "      <th>k</th>\n",
       "      <th>precision_at_k</th>\n",
       "      <th>recall_at_k</th>\n",
       "    </tr>\n",
       "  </thead>\n",
       "  <tbody>\n",
       "    <tr>\n",
       "      <th>1</th>\n",
       "      <td>2023</td>\n",
       "      <td>0</td>\n",
       "      <td>Top10</td>\n",
       "      <td>10</td>\n",
       "      <td>0.3</td>\n",
       "      <td>0.00952</td>\n",
       "    </tr>\n",
       "    <tr>\n",
       "      <th>2</th>\n",
       "      <td>2023</td>\n",
       "      <td>0</td>\n",
       "      <td>Top20</td>\n",
       "      <td>20</td>\n",
       "      <td>0.21</td>\n",
       "      <td>0.0133</td>\n",
       "    </tr>\n",
       "    <tr>\n",
       "      <th>0</th>\n",
       "      <td>2023</td>\n",
       "      <td>0</td>\n",
       "      <td>Claim Rate</td>\n",
       "      <td>237</td>\n",
       "      <td>0.107</td>\n",
       "      <td>0.0806</td>\n",
       "    </tr>\n",
       "    <tr>\n",
       "      <th>4</th>\n",
       "      <td>2023</td>\n",
       "      <td>90</td>\n",
       "      <td>Top10</td>\n",
       "      <td>10</td>\n",
       "      <td>0.24</td>\n",
       "      <td>0.00762</td>\n",
       "    </tr>\n",
       "    <tr>\n",
       "      <th>5</th>\n",
       "      <td>2023</td>\n",
       "      <td>90</td>\n",
       "      <td>Top20</td>\n",
       "      <td>20</td>\n",
       "      <td>0.18</td>\n",
       "      <td>0.0114</td>\n",
       "    </tr>\n",
       "    <tr>\n",
       "      <th>3</th>\n",
       "      <td>2023</td>\n",
       "      <td>90</td>\n",
       "      <td>Claim Rate</td>\n",
       "      <td>237</td>\n",
       "      <td>0.105</td>\n",
       "      <td>0.0794</td>\n",
       "    </tr>\n",
       "    <tr>\n",
       "      <th>7</th>\n",
       "      <td>2023</td>\n",
       "      <td>180</td>\n",
       "      <td>Top10</td>\n",
       "      <td>10</td>\n",
       "      <td>0.12</td>\n",
       "      <td>0.00381</td>\n",
       "    </tr>\n",
       "    <tr>\n",
       "      <th>8</th>\n",
       "      <td>2023</td>\n",
       "      <td>180</td>\n",
       "      <td>Top20</td>\n",
       "      <td>20</td>\n",
       "      <td>0.11</td>\n",
       "      <td>0.00698</td>\n",
       "    </tr>\n",
       "    <tr>\n",
       "      <th>6</th>\n",
       "      <td>2023</td>\n",
       "      <td>180</td>\n",
       "      <td>Claim Rate</td>\n",
       "      <td>237</td>\n",
       "      <td>0.105</td>\n",
       "      <td>0.0787</td>\n",
       "    </tr>\n",
       "    <tr>\n",
       "      <th>10</th>\n",
       "      <td>2023</td>\n",
       "      <td>360</td>\n",
       "      <td>Top10</td>\n",
       "      <td>10</td>\n",
       "      <td>0.1</td>\n",
       "      <td>0.00317</td>\n",
       "    </tr>\n",
       "    <tr>\n",
       "      <th>11</th>\n",
       "      <td>2023</td>\n",
       "      <td>360</td>\n",
       "      <td>Top20</td>\n",
       "      <td>20</td>\n",
       "      <td>0.13</td>\n",
       "      <td>0.00825</td>\n",
       "    </tr>\n",
       "    <tr>\n",
       "      <th>9</th>\n",
       "      <td>2023</td>\n",
       "      <td>360</td>\n",
       "      <td>Claim Rate</td>\n",
       "      <td>237</td>\n",
       "      <td>0.102</td>\n",
       "      <td>0.0768</td>\n",
       "    </tr>\n",
       "  </tbody>\n",
       "</table>\n",
       "</div>"
      ],
      "text/plain": [
       "    year  interval          id    k  precision_at_k  recall_at_k\n",
       "1   2023         0       Top10   10             0.3      0.00952\n",
       "2   2023         0       Top20   20            0.21       0.0133\n",
       "0   2023         0  Claim Rate  237           0.107       0.0806\n",
       "4   2023        90       Top10   10            0.24      0.00762\n",
       "5   2023        90       Top20   20            0.18       0.0114\n",
       "3   2023        90  Claim Rate  237           0.105       0.0794\n",
       "7   2023       180       Top10   10            0.12      0.00381\n",
       "8   2023       180       Top20   20            0.11      0.00698\n",
       "6   2023       180  Claim Rate  237           0.105       0.0787\n",
       "10  2023       360       Top10   10             0.1      0.00317\n",
       "11  2023       360       Top20   20            0.13      0.00825\n",
       "9   2023       360  Claim Rate  237           0.102       0.0768"
      ]
     },
     "execution_count": 79,
     "metadata": {},
     "output_type": "execute_result"
    }
   ],
   "source": [
    "mean_ranking_results.query('year==2023').sort_values(by=['interval', 'k'])"
   ]
  },
  {
   "cell_type": "code",
   "execution_count": 80,
   "id": "42fe1343-9ac3-4bef-81c0-79a1a0b189e8",
   "metadata": {},
   "outputs": [
    {
     "data": {
      "image/png": "[encoded data removed]",
      "text/plain": [
       "<Figure size 1200x500 with 2 Axes>"
      ]
     },
     "metadata": {},
     "output_type": "display_data"
    }
   ],
   "source": [
    "fig, (ax1, ax2) = plt.subplots(1, 2, figsize=(12,5))\n",
    "query = 'year==2023'\n",
    "result = ranking_results.query(query).copy()\n",
    "#Precision-at-k plot\n",
    "sns.barplot(data=result, y='precision_at_k', x='id', hue='interval', ax=ax1, orient='v', errorbar='sd', palette='Set3')\n",
    "ax1.set_title('Precision-at-k for the 2023 test using CVG only')\n",
    "ax1.title.set_size(12)\n",
    "ax1.set_xlabel('')\n",
    "ax1.legend(loc='upper right', title='interval')\n",
    "ax1.margins(0,0)\n",
    "#Recall-at-k plot\n",
    "sns.barplot(data=result, y='recall_at_k', x='id', hue='interval', ax=ax2, orient='v', errorbar='sd', palette='Set3')\n",
    "ax2.set_title('Recall-at-K for the 2023 test using CVG only')\n",
    "ax2.title.set_size(12)\n",
    "ax2.set_xlabel('')\n",
    "ax2.margins(0,0)\n",
    "plt.show()"
   ]
  },
  {
   "cell_type": "markdown",
   "id": "80d70147-04e2-470f-bedc-f5474e7b22f1",
   "metadata": {},
   "source": [
    "## 2024 test\n",
    "Plots of the ranking analysis of the 2024 test."
   ]
  },
  {
   "cell_type": "code",
   "execution_count": 81,
   "id": "e8933fe1-3a22-43c1-a7fb-18f71702989f",
   "metadata": {},
   "outputs": [
    {
     "data": {
      "text/html": [
       "<div>\n",
       "<style scoped>\n",
       "    .dataframe tbody tr th:only-of-type {\n",
       "        vertical-align: middle;\n",
       "    }\n",
       "\n",
       "    .dataframe tbody tr th {\n",
       "        vertical-align: top;\n",
       "    }\n",
       "\n",
       "    .dataframe thead th {\n",
       "        text-align: right;\n",
       "    }\n",
       "</style>\n",
       "<table border=\"1\" class=\"dataframe\">\n",
       "  <thead>\n",
       "    <tr style=\"text-align: right;\">\n",
       "      <th></th>\n",
       "      <th>year</th>\n",
       "      <th>interval</th>\n",
       "      <th>id</th>\n",
       "      <th>k</th>\n",
       "      <th>precision_at_k</th>\n",
       "      <th>recall_at_k</th>\n",
       "    </tr>\n",
       "  </thead>\n",
       "  <tbody>\n",
       "    <tr>\n",
       "      <th>13</th>\n",
       "      <td>2024</td>\n",
       "      <td>0</td>\n",
       "      <td>Top10</td>\n",
       "      <td>10</td>\n",
       "      <td>0.4</td>\n",
       "      <td>0.0265</td>\n",
       "    </tr>\n",
       "    <tr>\n",
       "      <th>14</th>\n",
       "      <td>2024</td>\n",
       "      <td>0</td>\n",
       "      <td>Top20</td>\n",
       "      <td>20</td>\n",
       "      <td>0.28</td>\n",
       "      <td>0.0371</td>\n",
       "    </tr>\n",
       "    <tr>\n",
       "      <th>12</th>\n",
       "      <td>2024</td>\n",
       "      <td>0</td>\n",
       "      <td>Claim Rate</td>\n",
       "      <td>104</td>\n",
       "      <td>0.112</td>\n",
       "      <td>0.0768</td>\n",
       "    </tr>\n",
       "    <tr>\n",
       "      <th>16</th>\n",
       "      <td>2024</td>\n",
       "      <td>90</td>\n",
       "      <td>Top10</td>\n",
       "      <td>10</td>\n",
       "      <td>0.4</td>\n",
       "      <td>0.0265</td>\n",
       "    </tr>\n",
       "    <tr>\n",
       "      <th>17</th>\n",
       "      <td>2024</td>\n",
       "      <td>90</td>\n",
       "      <td>Top20</td>\n",
       "      <td>20</td>\n",
       "      <td>0.22</td>\n",
       "      <td>0.0291</td>\n",
       "    </tr>\n",
       "    <tr>\n",
       "      <th>15</th>\n",
       "      <td>2024</td>\n",
       "      <td>90</td>\n",
       "      <td>Claim Rate</td>\n",
       "      <td>104</td>\n",
       "      <td>0.112</td>\n",
       "      <td>0.0768</td>\n",
       "    </tr>\n",
       "    <tr>\n",
       "      <th>19</th>\n",
       "      <td>2024</td>\n",
       "      <td>180</td>\n",
       "      <td>Top10</td>\n",
       "      <td>10</td>\n",
       "      <td>0.28</td>\n",
       "      <td>0.0185</td>\n",
       "    </tr>\n",
       "    <tr>\n",
       "      <th>20</th>\n",
       "      <td>2024</td>\n",
       "      <td>180</td>\n",
       "      <td>Top20</td>\n",
       "      <td>20</td>\n",
       "      <td>0.27</td>\n",
       "      <td>0.0358</td>\n",
       "    </tr>\n",
       "    <tr>\n",
       "      <th>18</th>\n",
       "      <td>2024</td>\n",
       "      <td>180</td>\n",
       "      <td>Claim Rate</td>\n",
       "      <td>104</td>\n",
       "      <td>0.117</td>\n",
       "      <td>0.0808</td>\n",
       "    </tr>\n",
       "    <tr>\n",
       "      <th>22</th>\n",
       "      <td>2024</td>\n",
       "      <td>360</td>\n",
       "      <td>Top10</td>\n",
       "      <td>10</td>\n",
       "      <td>0.2</td>\n",
       "      <td>0.0132</td>\n",
       "    </tr>\n",
       "    <tr>\n",
       "      <th>23</th>\n",
       "      <td>2024</td>\n",
       "      <td>360</td>\n",
       "      <td>Top20</td>\n",
       "      <td>20</td>\n",
       "      <td>0.25</td>\n",
       "      <td>0.0331</td>\n",
       "    </tr>\n",
       "    <tr>\n",
       "      <th>21</th>\n",
       "      <td>2024</td>\n",
       "      <td>360</td>\n",
       "      <td>Claim Rate</td>\n",
       "      <td>104</td>\n",
       "      <td>0.127</td>\n",
       "      <td>0.0874</td>\n",
       "    </tr>\n",
       "  </tbody>\n",
       "</table>\n",
       "</div>"
      ],
      "text/plain": [
       "    year  interval          id    k  precision_at_k  recall_at_k\n",
       "13  2024         0       Top10   10             0.4       0.0265\n",
       "14  2024         0       Top20   20            0.28       0.0371\n",
       "12  2024         0  Claim Rate  104           0.112       0.0768\n",
       "16  2024        90       Top10   10             0.4       0.0265\n",
       "17  2024        90       Top20   20            0.22       0.0291\n",
       "15  2024        90  Claim Rate  104           0.112       0.0768\n",
       "19  2024       180       Top10   10            0.28       0.0185\n",
       "20  2024       180       Top20   20            0.27       0.0358\n",
       "18  2024       180  Claim Rate  104           0.117       0.0808\n",
       "22  2024       360       Top10   10             0.2       0.0132\n",
       "23  2024       360       Top20   20            0.25       0.0331\n",
       "21  2024       360  Claim Rate  104           0.127       0.0874"
      ]
     },
     "execution_count": 81,
     "metadata": {},
     "output_type": "execute_result"
    }
   ],
   "source": [
    "mean_ranking_results.query('year==2024').sort_values(by=['interval', 'k'])"
   ]
  },
  {
   "cell_type": "code",
   "execution_count": 82,
   "id": "ab207417-89be-4532-b505-b569aebcaeb2",
   "metadata": {},
   "outputs": [
    {
     "data": {
      "image/png": "[encoded data removed]",
      "text/plain": [
       "<Figure size 1200x500 with 2 Axes>"
      ]
     },
     "metadata": {},
     "output_type": "display_data"
    }
   ],
   "source": [
    "fig, (ax1, ax2) = plt.subplots(1, 2, figsize=(12,5))\n",
    "query = 'year==2024'\n",
    "result = ranking_results.query(query).copy()\n",
    "#Precision-at-k plot\n",
    "sns.barplot(data=result, y='precision_at_k', x='id', hue='interval', ax=ax1, orient='v', errorbar='sd', palette='pastel')\n",
    "ax1.set_title('Precision-at-k for the 2024 test using CVG only')\n",
    "ax1.title.set_size(12)\n",
    "ax1.set_xlabel('')\n",
    "ax1.legend(loc='upper right', title='interval')\n",
    "ax1.margins(0,0)\n",
    "#Recall-at-k plot\n",
    "sns.barplot(data=result, y='recall_at_k', x='id', hue='interval', ax=ax2, orient='v', errorbar='sd', palette='pastel')\n",
    "ax2.set_title('Recall-at-K for the 2024 test using CVG only')\n",
    "ax2.title.set_size(12)\n",
    "ax2.set_xlabel('')\n",
    "ax2.margins(0,0)\n",
    "plt.show()"
   ]
  },
  {
   "cell_type": "code",
   "execution_count": null,
   "id": "78386a68-7007-46d7-a0a0-840521a440a9",
   "metadata": {},
   "outputs": [],
   "source": []
  }
 ],
 "metadata": {
  "kernelspec": {
   "display_name": "Python 3 (ipykernel)",
   "language": "python",
   "name": "python3"
  },
  "language_info": {
   "codemirror_mode": {
    "name": "ipython",
    "version": 3
   },
   "file_extension": ".py",
   "mimetype": "text/x-python",
   "name": "python",
   "nbconvert_exporter": "python",
   "pygments_lexer": "ipython3",
   "version": "3.12.7"
  },
  "toc-autonumbering": true
 },
 "nbformat": 4,
 "nbformat_minor": 5
}
